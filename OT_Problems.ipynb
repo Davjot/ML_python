{
  "nbformat": 4,
  "nbformat_minor": 0,
  "metadata": {
    "colab": {
      "name": "OT Problems.ipynb",
      "provenance": [],
      "authorship_tag": "ABX9TyPyPXwJFbhLipp6kWDKejZa",
      "include_colab_link": true
    },
    "kernelspec": {
      "name": "python3",
      "display_name": "Python 3"
    },
    "language_info": {
      "name": "python"
    }
  },
  "cells": [
    {
      "cell_type": "markdown",
      "metadata": {
        "id": "view-in-github",
        "colab_type": "text"
      },
      "source": [
        "<a href=\"https://colab.research.google.com/github/Davjot/ML_python/blob/main/OT_Problems.ipynb\" target=\"_parent\"><img src=\"https://colab.research.google.com/assets/colab-badge.svg\" alt=\"Open In Colab\"/></a>"
      ]
    },
    {
      "cell_type": "markdown",
      "source": [
        "Fitness Function"
      ],
      "metadata": {
        "id": "zwL06fubTvU1"
      }
    },
    {
      "cell_type": "code",
      "execution_count": 3,
      "metadata": {
        "id": "LEhMzEqgTtcF"
      },
      "outputs": [],
      "source": [
        "def Fitness_Function(x):\n",
        "  s = 0 \n",
        "  p = 1\n",
        "  for i in range(0,D):\n",
        "    s = s + abs(x[i])\n",
        "  for i in range(0,D):\n",
        "    p = p*abs(x[i])\n",
        "  return s + p\n",
        "  x = (2,3,5,6,7)\n",
        "  D = len(x)\n",
        "  Fitness_Function(x)"
      ]
    }
  ]
}