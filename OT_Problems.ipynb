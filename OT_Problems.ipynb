{
  "nbformat": 4,
  "nbformat_minor": 0,
  "metadata": {
    "colab": {
      "name": "OT Problems.ipynb",
      "provenance": [],
      "authorship_tag": "ABX9TyMsr4AevET0NT+4Syy6hDdj",
      "include_colab_link": true
    },
    "kernelspec": {
      "name": "python3",
      "display_name": "Python 3"
    },
    "language_info": {
      "name": "python"
    }
  },
  "cells": [
    {
      "cell_type": "markdown",
      "metadata": {
        "id": "view-in-github",
        "colab_type": "text"
      },
      "source": [
        "<a href=\"https://colab.research.google.com/github/Davjot/ML_python/blob/main/OT_Problems.ipynb\" target=\"_parent\"><img src=\"https://colab.research.google.com/assets/colab-badge.svg\" alt=\"Open In Colab\"/></a>"
      ]
    },
    {
      "cell_type": "markdown",
      "source": [
        "Fitness Function"
      ],
      "metadata": {
        "id": "zwL06fubTvU1"
      }
    },
    {
      "cell_type": "code",
      "execution_count": 10,
      "metadata": {
        "id": "LEhMzEqgTtcF"
      },
      "outputs": [],
      "source": [
        "def Fitness_Function(x):\n",
        "  s = 0 \n",
        "  p = 1\n",
        "  for i in range(0,D):\n",
        "    s = s + abs(x[i])\n",
        "  for i in range(0,D):\n",
        "    p = p*abs(x[i])\n",
        "  return s + p\n",
        "  #x = (2,3,5,6,7)\n",
        "  #D = len(x)\n",
        "  #Fitness_Function(x)\n",
        "  D = 5\n",
        "  C1 = [1,4,2,3,5] #creating chromosome \n",
        "  C2 = [2,3,2,3,5]\n",
        "  C3 = [1,1,1,5,1]\n",
        "  C4 = [1,1,1,1,1]\n",
        "  print(\"C1\",Fitness_Function(C1))\n",
        "  print(\"C2\",Fitness_Function(C2))\n",
        "  print(\"C3\",Fitness_Function(C3))\n",
        "  print(\"C4\",Fitness_Function(C4))"
      ]
    },
    {
      "cell_type": "markdown",
      "source": [
        "defining two for loops into one loop\n"
      ],
      "metadata": {
        "id": "znBGp0yOWPVV"
      }
    },
    {
      "cell_type": "code",
      "source": [
        "def Fitness_Function(x):\n",
        "  s = 0 \n",
        "  p = 1\n",
        "  for i in range(0,D):\n",
        "    s = s + abs(x[i])\n",
        "    p = p*abs(x[i])\n",
        "  return s + p"
      ],
      "metadata": {
        "id": "meyjKmN-VGRF"
      },
      "execution_count": 4,
      "outputs": []
    },
    {
      "cell_type": "markdown",
      "source": [
        "another fitness function"
      ],
      "metadata": {
        "id": "ryBCP6OAXstZ"
      }
    },
    {
      "cell_type": "code",
      "source": [
        "import math as m\n",
        "def FitnessFunction (x):\n",
        "  s = x[0] * x[0] + 2 * x[1] * x[1]\n",
        "  - 0.3 * m.cos ( 3 * m.pi * x[0])\n",
        "  - 0.4 * m.cos ( 4 * m.pi * x[1])\n",
        "  + 0.7\n",
        "  return s\n",
        "\n",
        "D = 2\n",
        "C1=[-10,40]\n",
        "print('C1',FitnessFunction(C1))\n",
        "C2=[40,30]\n",
        "print('C2',FitnessFunction(C2))\n",
        "C3=[-35,-10]\n",
        "print('C3',FitnessFunction(C3))\n",
        "C4=[19,-19]\n",
        "print('C4',FitnessFunction(C4))"
      ],
      "metadata": {
        "colab": {
          "base_uri": "https://localhost:8080/"
        },
        "id": "gXbGzggLW8rX",
        "outputId": "5a1ef6b3-023f-49d1-9b44-400138d9cf11"
      },
      "execution_count": 7,
      "outputs": [
        {
          "output_type": "stream",
          "name": "stdout",
          "text": [
            "C1 3300\n",
            "C2 3400\n",
            "C3 1425\n",
            "C4 1083\n"
          ]
        }
      ]
    },
    {
      "cell_type": "markdown",
      "source": [
        "genetic Algorithm"
      ],
      "metadata": {
        "id": "2glAGq4Gc988"
      }
    },
    {
      "cell_type": "code",
      "source": [
        "int x1,x2\n",
        "if(c1>p1 and c1> c2):\n",
        "   {x1=c1; c1=p1}\n",
        "elif:\n",
        "   (c2>p1 and c2>c1) \n",
        "   {x1=c2; c2=p1}\n",
        "else:\n",
        "   {x1=p1}\n",
        "\n",
        "if (c1>p2 and c1> c2):\n",
        "   {x2=c1}\n",
        "elif:\n",
        "   (c2>p2 && c2>c1):\n",
        "   {x2=c2;}\n",
        "else:\n",
        "  {x2=p2;}\n",
        "p1=x1\n",
        "p2=x2"
      ],
      "metadata": {
        "id": "zPjDnZdAdA8S"
      },
      "execution_count": null,
      "outputs": []
    },
    {
      "cell_type": "markdown",
      "source": [
        "randomisation "
      ],
      "metadata": {
        "id": "h_ZpP_SBenAl"
      }
    },
    {
      "cell_type": "code",
      "source": [
        "import matplotlib.pyplot as plt\n",
        "import random\n",
        "plt.plot(random.sample(range(100), 100), 'ro')\n",
        "plt.show()"
      ],
      "metadata": {
        "colab": {
          "base_uri": "https://localhost:8080/",
          "height": 265
        },
        "id": "yE3K5Xmoeow4",
        "outputId": "9ca4b62c-6eb4-4e7a-d290-46178a2c2200"
      },
      "execution_count": 15,
      "outputs": [
        {
          "output_type": "display_data",
          "data": {
            "text/plain": [
              "<Figure size 432x288 with 1 Axes>"
            ],
            "image/png": "[encoded data removed]"
          },
          "metadata": {
            "needs_background": "light"
          }
        }
      ]
    },
    {
      "cell_type": "markdown",
      "source": [
        "generate random paramter generation"
      ],
      "metadata": {
        "id": "Qut-L9adgBlY"
      }
    },
    {
      "cell_type": "code",
      "source": [
        "x1 = [ 10, 100] \n",
        "x2 = [-9, 0] \n",
        "x3 = [ -50, -10]\n",
        "x4 = [10, 50]\n",
        "import random as r\n",
        "fp=open(\"result.csv\",\"w\") \n",
        "fp.write(\"x1,x2,x3,x4\\n\") \n",
        "for i in range(100):\n",
        " x1=r.randint(10,100)\n",
        " x2=r.randint(-9,0)\n",
        " x3=r.randint(-50,-10)\n",
        " x4=r.randint(10,50) \n",
        " s=\"%d,%d,%d,%d\\n\"%(x1,x2,x3,x4) \n",
        " fp.write(s) # Writing to the file line by line\n",
        "fp.close()\n",
        "print (\"Done !! \\nOpen result.csv to view the content\")"
      ],
      "metadata": {
        "colab": {
          "base_uri": "https://localhost:8080/"
        },
        "id": "y4lUmkiQhrBc",
        "outputId": "08fba7b5-f2b2-4f9a-b911-29527563e6d5"
      },
      "execution_count": 17,
      "outputs": [
        {
          "output_type": "stream",
          "name": "stdout",
          "text": [
            "Done !! \n",
            "Open result.csv to view the content\n"
          ]
        }
      ]
    },
    {
      "cell_type": "markdown",
      "source": [
        "data genretaion using simulation "
      ],
      "metadata": {
        "id": "qWZNoMNgir-d"
      }
    },
    {
      "cell_type": "code",
      "source": [
        "import math as m\n",
        "def FitnessFunction (x):\n",
        "  return sum(x)\n",
        "\n",
        "fp=open('dataSet.csv','w')# Open the file in writing mode\n",
        "\n",
        "fp.write('Target,x1,x2,x3,x4,x5,x6,x7,x8\\n')\n",
        "for i in range(100):\n",
        "  x1=r.randint(10, 100) ; x2=r.randint(-9, 0);\n",
        "  x3=r.randint(-50, -10); x4=r.randint(-20, -10);\n",
        "  x5=r.random(); x6=r.uniform(0.1, 0.5);\n",
        "  x7=r.uniform(-1,0); x8=r.uniform(-5.0, -1.0);\n",
        "  target=FitnessFunction ([x1, x2, x3, x4, x5, x6, x7, x8])\n",
        "  s='%f%d,%d,%d,%d,%f,%f,%f,%f\\n' \n",
        "  %(target,x1,x2,x3,x4,x5,x6,x7,x8)\n",
        "  fp.write(s) # Writing to the file line by line\n",
        "\n",
        "fp.close()\n",
        "print ('Done !! \\nOpen dataSet.csv to view the content')"
      ],
      "metadata": {
        "colab": {
          "base_uri": "https://localhost:8080/"
        },
        "id": "-Mn2Tmmgiuvn",
        "outputId": "43276fe0-0e36-47e5-a412-3b87e96a093c"
      },
      "execution_count": 2,
      "outputs": [
        {
          "output_type": "stream",
          "name": "stderr",
          "text": [
            "UsageError: Line magic function `%(target,x1,x2,x3,x4,x5,x6,x7,x8)` not found.\n"
          ]
        }
      ]
    }
  ]
}