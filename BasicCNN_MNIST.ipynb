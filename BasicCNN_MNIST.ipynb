{
  "nbformat": 4,
  "nbformat_minor": 0,
  "metadata": {
    "colab": {
      "name": "29Jun2022_BasicCNN_MNIST.ipynb",
      "provenance": [],
      "include_colab_link": true
    },
    "kernelspec": {
      "name": "python3",
      "display_name": "Python 3"
    },
    "language_info": {
      "name": "python"
    },
    "accelerator": "GPU",
    "gpuClass": "standard"
  },
  "cells": [
    {
      "cell_type": "markdown",
      "metadata": {
        "id": "view-in-github",
        "colab_type": "text"
      },
      "source": [
        "<a href=\"https://colab.research.google.com/github/Davjot/ML_python/blob/main/BasicCNN_MNIST.ipynb\" target=\"_parent\"><img src=\"https://colab.research.google.com/assets/colab-badge.svg\" alt=\"Open In Colab\"/></a>"
      ]
    },
    {
      "cell_type": "markdown",
      "source": [
        "# **Playing CNN on MNIST Dataset**"
      ],
      "metadata": {
        "id": "ZavUJwOs5WDF"
      }
    },
    {
      "cell_type": "markdown",
      "source": [
        "### **1. Import tensorflow and checking the versions**"
      ],
      "metadata": {
        "id": "XfNr6Tn85beM"
      }
    },
    {
      "cell_type": "code",
      "execution_count": 15,
      "metadata": {
        "colab": {
          "base_uri": "https://localhost:8080/"
        },
        "id": "2IzbYVj3w8Wp",
        "outputId": "2bedbed4-93da-4b73-b301-5501dc43671a"
      },
      "outputs": [
        {
          "output_type": "stream",
          "name": "stdout",
          "text": [
            "2.8.2\n"
          ]
        }
      ],
      "source": [
        "import tensorflow as tf\n",
        "print(tf.__version__)\n",
        "import keras"
      ]
    },
    {
      "cell_type": "markdown",
      "source": [
        "### **2. Getting the dataset**"
      ],
      "metadata": {
        "id": "3krjt6r65g5v"
      }
    },
    {
      "cell_type": "code",
      "source": [
        "mnist = tf.keras.datasets.mnist"
      ],
      "metadata": {
        "id": "6CTd6LVi4-or"
      },
      "execution_count": 16,
      "outputs": []
    },
    {
      "cell_type": "markdown",
      "source": [
        "### **3. Defining the train and test set alongwith their labels**"
      ],
      "metadata": {
        "id": "4d4Ii2_u5m6c"
      }
    },
    {
      "cell_type": "code",
      "source": [
        "(training_images, training_labels), (test_images, test_labels) = mnist.load_data()"
      ],
      "metadata": {
        "id": "LqUIi_jA5DLP"
      },
      "execution_count": 17,
      "outputs": []
    },
    {
      "cell_type": "markdown",
      "source": [
        "### **4. Finding total number of images in training and test set**"
      ],
      "metadata": {
        "id": "Fr6A97F25rlL"
      }
    },
    {
      "cell_type": "code",
      "source": [
        "print(len(training_images))\n",
        "print(len(test_images))\n",
        "type(training_images)"
      ],
      "metadata": {
        "colab": {
          "base_uri": "https://localhost:8080/"
        },
        "id": "yQW8SliS5EpI",
        "outputId": "195e6639-2499-432e-d598-f9eb12472a14"
      },
      "execution_count": 18,
      "outputs": [
        {
          "output_type": "stream",
          "name": "stdout",
          "text": [
            "60000\n",
            "10000\n"
          ]
        },
        {
          "output_type": "execute_result",
          "data": {
            "text/plain": [
              "numpy.ndarray"
            ]
          },
          "metadata": {},
          "execution_count": 18
        }
      ]
    },
    {
      "cell_type": "code",
      "source": [
        "print(training_images.shape)\n",
        "print(test_images.shape)\n",
        "print(training_labels.shape)\n",
        "print(test_labels.shape) #here 28 --> 28x28 image size"
      ],
      "metadata": {
        "colab": {
          "base_uri": "https://localhost:8080/"
        },
        "id": "ZO4Vfv6orKod",
        "outputId": "7ada999b-ec93-4689-fa19-779eabf173ec"
      },
      "execution_count": 19,
      "outputs": [
        {
          "output_type": "stream",
          "name": "stdout",
          "text": [
            "(60000, 28, 28)\n",
            "(10000, 28, 28)\n",
            "(60000,)\n",
            "(10000,)\n"
          ]
        }
      ]
    },
    {
      "cell_type": "code",
      "source": [
        "from google.colab.patches import cv2_imshow\n",
        "cv2_imshow(training_images[0])\n",
        "training_images[0].shape"
      ],
      "metadata": {
        "colab": {
          "base_uri": "https://localhost:8080/",
          "height": 62
        },
        "id": "Bl1oLbFltkoo",
        "outputId": "9b57d020-c4b3-4ce6-f4ec-ec655f5721b4"
      },
      "execution_count": 20,
      "outputs": [
        {
          "output_type": "display_data",
          "data": {
            "text/plain": [
              "<PIL.Image.Image image mode=L size=28x28 at 0x7F30060A4350>"
            ],
            "image/png": "[encoded data removed]"
          },
          "metadata": {}
        },
        {
          "output_type": "execute_result",
          "data": {
            "text/plain": [
              "(28, 28)"
            ]
          },
          "metadata": {},
          "execution_count": 20
        }
      ]
    },
    {
      "cell_type": "code",
      "source": [
        "training_labels[0]"
      ],
      "metadata": {
        "colab": {
          "base_uri": "https://localhost:8080/"
        },
        "id": "KL7IKvFRv4w_",
        "outputId": "869b00e4-a2d3-46f7-dd63-849ac31cefd9"
      },
      "execution_count": 21,
      "outputs": [
        {
          "output_type": "execute_result",
          "data": {
            "text/plain": [
              "5"
            ]
          },
          "metadata": {},
          "execution_count": 21
        }
      ]
    },
    {
      "cell_type": "markdown",
      "source": [
        "### **5. Reshaping and Normalizing training and test images**"
      ],
      "metadata": {
        "id": "ECq6DmNY5vLv"
      }
    },
    {
      "cell_type": "code",
      "source": [
        "training_images = training_images.reshape(60000, 28, 28, 1)\n",
        "training_images = training_images/255.0\n",
        "test_images = test_images.reshape(10000, 28, 28, 1)\n",
        "test_images = test_images/255.0"
      ],
      "metadata": {
        "id": "2UeTOBxk5GGY"
      },
      "execution_count": 22,
      "outputs": []
    },
    {
      "cell_type": "markdown",
      "source": [
        "### **6. Defining the model**"
      ],
      "metadata": {
        "id": "I7HQsm8O5ysh"
      }
    },
    {
      "cell_type": "code",
      "source": [
        "model = tf.keras.models.Sequential([\n",
        "  tf.keras.layers.Conv2D(16,(3,3),activation = 'relu',input_shape=(28,28,1)), #here 16 are filters\n",
        "  tf.keras.layers.MaxPooling2D(2,2),\n",
        "  tf.keras.layers.Conv2D(16,(3,3),activation = 'relu'),\n",
        "  tf.keras.layers.MaxPooling2D(2,2),\n",
        "  tf.keras.layers.Flatten(),\n",
        "  tf.keras.layers.Dense(32, activation='relu'), # here 32 is neurons\n",
        "  tf.keras.layers.Dense(10, activation='softmax') \n",
        "])\n",
        "model.summary()\n",
        "# n - f + 1 --> CNN formula"
      ],
      "metadata": {
        "colab": {
          "base_uri": "https://localhost:8080/"
        },
        "id": "ojYPfsme5HwZ",
        "outputId": "f4eabdf6-cb1d-4a9c-e70e-5ef3a359fddb"
      },
      "execution_count": 23,
      "outputs": [
        {
          "output_type": "stream",
          "name": "stdout",
          "text": [
            "Model: \"sequential_1\"\n",
            "_________________________________________________________________\n",
            " Layer (type)                Output Shape              Param #   \n",
            "=================================================================\n",
            " conv2d_2 (Conv2D)           (None, 26, 26, 16)        160       \n",
            "                                                                 \n",
            " max_pooling2d_2 (MaxPooling  (None, 13, 13, 16)       0         \n",
            " 2D)                                                             \n",
            "                                                                 \n",
            " conv2d_3 (Conv2D)           (None, 11, 11, 16)        2320      \n",
            "                                                                 \n",
            " max_pooling2d_3 (MaxPooling  (None, 5, 5, 16)         0         \n",
            " 2D)                                                             \n",
            "                                                                 \n",
            " flatten_1 (Flatten)         (None, 400)               0         \n",
            "                                                                 \n",
            " dense_2 (Dense)             (None, 32)                12832     \n",
            "                                                                 \n",
            " dense_3 (Dense)             (None, 10)                330       \n",
            "                                                                 \n",
            "=================================================================\n",
            "Total params: 15,642\n",
            "Trainable params: 15,642\n",
            "Non-trainable params: 0\n",
            "_________________________________________________________________\n"
          ]
        }
      ]
    },
    {
      "cell_type": "markdown",
      "source": [
        "### **7. Defining the callback function to stop our training once the acceptable accuracy is reached**"
      ],
      "metadata": {
        "id": "IlSPfYiG51aV"
      }
    },
    {
      "cell_type": "code",
      "source": [
        "class myCallback(tf.keras.callbacks.Callback):\n",
        "        def on_epoch_end(self, epoch, logs={}):\n",
        "            if(logs.get('accuracy') > 0.95):\n",
        "                print(\"\\nReached 95% accuracy so cancelling training!\")\n",
        "                self.model.stop_training = True\n",
        "    \n",
        "callbacks = myCallback()"
      ],
      "metadata": {
        "id": "WYd3ZrA95Jbe"
      },
      "execution_count": 24,
      "outputs": []
    },
    {
      "cell_type": "markdown",
      "source": [
        "### **8. Compiling and model training with batch size = 50, epochs = 5, and optimizer = sgd**"
      ],
      "metadata": {
        "id": "yNFUkh3T56QF"
      }
    },
    {
      "cell_type": "code",
      "source": [
        "model.compile(optimizer='sgd', loss='sparse_categorical_crossentropy', metrics=['accuracy'])\n",
        "model.fit(training_images, training_labels, batch_size = 50, epochs=5, callbacks=[callbacks])"
      ],
      "metadata": {
        "colab": {
          "base_uri": "https://localhost:8080/"
        },
        "id": "8Tm3fOAR5LQ0",
        "outputId": "d75d34d4-fd61-47a9-ef11-4ae2917107e9"
      },
      "execution_count": 25,
      "outputs": [
        {
          "output_type": "stream",
          "name": "stdout",
          "text": [
            "Epoch 1/5\n",
            "1200/1200 [==============================] - 14s 3ms/step - loss: 0.7534 - accuracy: 0.7675\n",
            "Epoch 2/5\n",
            "1200/1200 [==============================] - 3s 3ms/step - loss: 0.2230 - accuracy: 0.9325\n",
            "Epoch 3/5\n",
            "1186/1200 [============================>.] - ETA: 0s - loss: 0.1635 - accuracy: 0.9509\n",
            "Reached 95% accuracy so cancelling training!\n",
            "1200/1200 [==============================] - 3s 3ms/step - loss: 0.1633 - accuracy: 0.9509\n"
          ]
        },
        {
          "output_type": "execute_result",
          "data": {
            "text/plain": [
              "<keras.callbacks.History at 0x7f300604d8d0>"
            ]
          },
          "metadata": {},
          "execution_count": 25
        }
      ]
    },
    {
      "cell_type": "markdown",
      "source": [
        "### **9. Checking the Validation Accuracy with batch size = 50**"
      ],
      "metadata": {
        "id": "onzPpXLb59h9"
      }
    },
    {
      "cell_type": "code",
      "source": [
        "test_loss = model.evaluate(test_images, test_labels, batch_size=50)"
      ],
      "metadata": {
        "colab": {
          "base_uri": "https://localhost:8080/"
        },
        "id": "-nUlu2kX5NIg",
        "outputId": "62a292c6-9b6f-4fbf-f1ac-325e72426511"
      },
      "execution_count": 26,
      "outputs": [
        {
          "output_type": "stream",
          "name": "stdout",
          "text": [
            "200/200 [==============================] - 1s 2ms/step - loss: 0.1390 - accuracy: 0.9568\n"
          ]
        }
      ]
    }
  ]
}