{
  "nbformat": 4,
  "nbformat_minor": 0,
  "metadata": {
    "colab": {
      "name": "Assignment 1.ipynb",
      "provenance": [],
      "collapsed_sections": [],
      "authorship_tag": "ABX9TyPzhZlSlPbs17MN9pkfQvlo",
      "include_colab_link": true
    },
    "kernelspec": {
      "name": "python3",
      "display_name": "Python 3"
    },
    "language_info": {
      "name": "python"
    }
  },
  "cells": [
    {
      "cell_type": "markdown",
      "metadata": {
        "id": "view-in-github",
        "colab_type": "text"
      },
      "source": [
        "<a href=\"https://colab.research.google.com/github/Davjot/ML_python/blob/main/Assignment_1.ipynb\" target=\"_parent\"><img src=\"https://colab.research.google.com/assets/colab-badge.svg\" alt=\"Open In Colab\"/></a>"
      ]
    },
    {
      "cell_type": "markdown",
      "source": [
        "**ASSIGNMENT 1**"
      ],
      "metadata": {
        "id": "wZ0qLn9kKGDK"
      }
    },
    {
      "cell_type": "markdown",
      "source": [
        "**Q1: L is a list defined as L= [11, 12, 13, 14].**\n",
        "\n",
        "i) WAP to add 50 and 60 to L. "
      ],
      "metadata": {
        "id": "n_tBT3xPKNt8"
      }
    },
    {
      "cell_type": "code",
      "execution_count": 43,
      "metadata": {
        "colab": {
          "base_uri": "https://localhost:8080/"
        },
        "id": "0_J2Y62cJ7UL",
        "outputId": "70c7aaa0-21a6-4478-c456-6443a7a7bd1a"
      },
      "outputs": [
        {
          "output_type": "stream",
          "name": "stdout",
          "text": [
            "Original List       -->  [11, 12, 13, 14]\n",
            "List After Adding   -->  [11, 12, 13, 14, 50, 60]\n"
          ]
        }
      ],
      "source": [
        "L = [11, 12, 13, 14] \n",
        "print (\"Original List       --> \", L)\n",
        "\n",
        "L.append(50)\n",
        "L.append(60)\n",
        "print (\"List After Adding   --> \", L)"
      ]
    },
    {
      "cell_type": "markdown",
      "source": [
        "ii) WAP to remove 11 and 13 from L."
      ],
      "metadata": {
        "id": "RTCHezc6LEaH"
      }
    },
    {
      "cell_type": "code",
      "source": [
        "print (\"Original List       --> \", L)\n",
        "del L[0]\n",
        "del L[1]\n",
        "print (\"List After Deleting --> \", L)"
      ],
      "metadata": {
        "colab": {
          "base_uri": "https://localhost:8080/"
        },
        "id": "6lZ0-a0jLiFp",
        "outputId": "2abef95a-6bcd-426a-9854-085d2e5246a5"
      },
      "execution_count": 44,
      "outputs": [
        {
          "output_type": "stream",
          "name": "stdout",
          "text": [
            "Original List       -->  [11, 12, 13, 14, 50, 60]\n",
            "List After Deleting -->  [12, 14, 50, 60]\n"
          ]
        }
      ]
    },
    {
      "cell_type": "markdown",
      "source": [
        "iii) WAP to sort L in ascending order."
      ],
      "metadata": {
        "id": "F8M2yvzyMgfn"
      }
    },
    {
      "cell_type": "code",
      "source": [
        "L.sort()\n",
        "print('List after sorting in ascending order', L)"
      ],
      "metadata": {
        "colab": {
          "base_uri": "https://localhost:8080/"
        },
        "id": "ZfG25bdZMlk7",
        "outputId": "3d937ee7-934f-4d3e-ff49-451d910e5d75"
      },
      "execution_count": 45,
      "outputs": [
        {
          "output_type": "stream",
          "name": "stdout",
          "text": [
            "List after sorting in ascending order [12, 14, 50, 60]\n"
          ]
        }
      ]
    },
    {
      "cell_type": "markdown",
      "source": [
        "iv) WAP to sort L in descending order."
      ],
      "metadata": {
        "id": "-oAg0OzqN0rk"
      }
    },
    {
      "cell_type": "code",
      "source": [
        "L.sort(reverse = True)\n",
        "print('List after sorting in descending order', L)"
      ],
      "metadata": {
        "colab": {
          "base_uri": "https://localhost:8080/"
        },
        "id": "GCz2cx98N3rw",
        "outputId": "7ce6a215-6c74-4749-b79a-552c95be6992"
      },
      "execution_count": 46,
      "outputs": [
        {
          "output_type": "stream",
          "name": "stdout",
          "text": [
            "List after sorting in descending order [60, 50, 14, 12]\n"
          ]
        }
      ]
    },
    {
      "cell_type": "markdown",
      "source": [
        "v) WAP to search for 13 in L."
      ],
      "metadata": {
        "id": "Bg61y-AKOJZM"
      }
    },
    {
      "cell_type": "code",
      "source": [
        "print (\"Original List       --> \", L)\n",
        "\n",
        "print (\"Original List --> \", 13 in L)\n",
        "\n",
        "if (13 in L) == True:\n",
        "\tprint (\"Present\")\n",
        "else:\n",
        "\tprint (\"Not Present\")"
      ],
      "metadata": {
        "colab": {
          "base_uri": "https://localhost:8080/"
        },
        "id": "SC45Ym9dOKnf",
        "outputId": "02a2492d-0d4d-4c39-a9e6-254054cc9131"
      },
      "execution_count": 47,
      "outputs": [
        {
          "output_type": "stream",
          "name": "stdout",
          "text": [
            "Original List       -->  [60, 50, 14, 12]\n",
            "Original List -->  False\n",
            "Not Present\n"
          ]
        }
      ]
    },
    {
      "cell_type": "markdown",
      "source": [
        "vi) WAP to count the number of elements present in L."
      ],
      "metadata": {
        "id": "hSy5S_pvOm21"
      }
    },
    {
      "cell_type": "code",
      "source": [
        "print (\"Original List       --> \", L)\n",
        "print (\"Number of elements in list: \", len(L))"
      ],
      "metadata": {
        "colab": {
          "base_uri": "https://localhost:8080/"
        },
        "id": "vtxvc-0JOn-Z",
        "outputId": "8216e110-6e56-4cd7-a502-5e30ffa9bca0"
      },
      "execution_count": 25,
      "outputs": [
        {
          "output_type": "stream",
          "name": "stdout",
          "text": [
            "Original List       -->  [60, 50, 14, 12]\n",
            "Number of elements in list:  4\n"
          ]
        }
      ]
    },
    {
      "cell_type": "markdown",
      "source": [
        "vii) WAP to sum all the elements in L."
      ],
      "metadata": {
        "id": "R2eUJwiyQ2EG"
      }
    },
    {
      "cell_type": "code",
      "source": [
        "print (\"Original List --> \", L)\n",
        "\n",
        "print (\"Sum     --> \", sum(L))"
      ],
      "metadata": {
        "colab": {
          "base_uri": "https://localhost:8080/"
        },
        "id": "Cf_Gfy-QQ5wm",
        "outputId": "5f2a1ad1-4c4e-4074-9f05-a7a0822b51a9"
      },
      "execution_count": 26,
      "outputs": [
        {
          "output_type": "stream",
          "name": "stdout",
          "text": [
            "Original List -->  [60, 50, 14, 12]\n",
            "Sum     -->  136\n"
          ]
        }
      ]
    },
    {
      "cell_type": "markdown",
      "source": [
        "viii) WAP to sum all ODD numbers in L."
      ],
      "metadata": {
        "id": "jmJyem4eRCpD"
      }
    },
    {
      "cell_type": "code",
      "source": [
        "print (\"Original List --> \", L)\n",
        "odd_sum = 0\n",
        "for i in L:\n",
        "  if(i%2==1):\n",
        "    odd_sum = odd_sum + L[i]\n",
        "print('Sum -->', odd_sum)"
      ],
      "metadata": {
        "colab": {
          "base_uri": "https://localhost:8080/"
        },
        "id": "hzsCQ-ZQRF22",
        "outputId": "649556e6-093f-41ed-f2f3-744b60fba569"
      },
      "execution_count": 48,
      "outputs": [
        {
          "output_type": "stream",
          "name": "stdout",
          "text": [
            "Original List -->  [60, 50, 14, 12]\n",
            "Sum --> 0\n"
          ]
        }
      ]
    },
    {
      "cell_type": "markdown",
      "source": [
        "ix)  WAP to sum all EVEN numbers in L."
      ],
      "metadata": {
        "id": "4QafELjASapK"
      }
    },
    {
      "cell_type": "code",
      "source": [
        "print (\"Original List --> \", L)\n",
        "even_sum = 0\n",
        "for ele in L:\n",
        "  if(ele%2==0):\n",
        "    even_sum = even_sum + L[ele]\n",
        "print('Sum -->', even_sum)"
      ],
      "metadata": {
        "colab": {
          "base_uri": "https://localhost:8080/",
          "height": 232
        },
        "id": "24KGw_5vSf6O",
        "outputId": "5f2c21d8-cad5-4d72-c86a-629651c9d38c"
      },
      "execution_count": 33,
      "outputs": [
        {
          "output_type": "stream",
          "name": "stdout",
          "text": [
            "Original List -->  [60, 50, 14, 12]\n"
          ]
        },
        {
          "output_type": "error",
          "ename": "IndexError",
          "evalue": "ignored",
          "traceback": [
            "\u001b[0;31m---------------------------------------------------------------------------\u001b[0m",
            "\u001b[0;31mIndexError\u001b[0m                                Traceback (most recent call last)",
            "\u001b[0;32m<ipython-input-33-7d3821879c89>\u001b[0m in \u001b[0;36m<module>\u001b[0;34m()\u001b[0m\n\u001b[1;32m      3\u001b[0m \u001b[0;32mfor\u001b[0m \u001b[0mele\u001b[0m \u001b[0;32min\u001b[0m \u001b[0mL\u001b[0m\u001b[0;34m:\u001b[0m\u001b[0;34m\u001b[0m\u001b[0;34m\u001b[0m\u001b[0m\n\u001b[1;32m      4\u001b[0m   \u001b[0;32mif\u001b[0m\u001b[0;34m(\u001b[0m\u001b[0mele\u001b[0m\u001b[0;34m%\u001b[0m\u001b[0;36m2\u001b[0m\u001b[0;34m==\u001b[0m\u001b[0;36m0\u001b[0m\u001b[0;34m)\u001b[0m\u001b[0;34m:\u001b[0m\u001b[0;34m\u001b[0m\u001b[0;34m\u001b[0m\u001b[0m\n\u001b[0;32m----> 5\u001b[0;31m     \u001b[0meven_sum\u001b[0m \u001b[0;34m=\u001b[0m \u001b[0meven_sum\u001b[0m \u001b[0;34m+\u001b[0m \u001b[0mL\u001b[0m\u001b[0;34m[\u001b[0m\u001b[0mele\u001b[0m\u001b[0;34m]\u001b[0m\u001b[0;34m\u001b[0m\u001b[0;34m\u001b[0m\u001b[0m\n\u001b[0m\u001b[1;32m      6\u001b[0m \u001b[0mprint\u001b[0m\u001b[0;34m(\u001b[0m\u001b[0;34m'Sum -->'\u001b[0m\u001b[0;34m,\u001b[0m \u001b[0meven_sum\u001b[0m\u001b[0;34m)\u001b[0m\u001b[0;34m\u001b[0m\u001b[0;34m\u001b[0m\u001b[0m\n",
            "\u001b[0;31mIndexError\u001b[0m: list index out of range"
          ]
        }
      ]
    },
    {
      "cell_type": "markdown",
      "source": [
        "x) WAP to sum all PRIME numbers in L."
      ],
      "metadata": {
        "id": "g4_ZgTMpSgdx"
      }
    },
    {
      "cell_type": "code",
      "source": [
        "import math as m\n",
        "print (\"Original List --> \", L)\n",
        "\n",
        "prime_sum = 0\n",
        "\n",
        "x = L[60, 50, 14, 12]\n",
        "for i in x(m.sqrt(i)):\n",
        "  if(i%2==0):\n",
        "    prime_sum = prime_sum + x\n",
        "    break\n",
        "\n",
        "print('Sum -->', prime_sum)"
      ],
      "metadata": {
        "colab": {
          "base_uri": "https://localhost:8080/",
          "height": 249
        },
        "id": "3CCoI6AXSjlI",
        "outputId": "f02e516d-a692-44ee-bfd2-1ecc6a3a085e"
      },
      "execution_count": 35,
      "outputs": [
        {
          "output_type": "stream",
          "name": "stdout",
          "text": [
            "Original List -->  [60, 50, 14, 12]\n"
          ]
        },
        {
          "output_type": "error",
          "ename": "TypeError",
          "evalue": "ignored",
          "traceback": [
            "\u001b[0;31m---------------------------------------------------------------------------\u001b[0m",
            "\u001b[0;31mTypeError\u001b[0m                                 Traceback (most recent call last)",
            "\u001b[0;32m<ipython-input-35-8be78d2ee7f5>\u001b[0m in \u001b[0;36m<module>\u001b[0;34m()\u001b[0m\n\u001b[1;32m      4\u001b[0m \u001b[0mprime_sum\u001b[0m \u001b[0;34m=\u001b[0m \u001b[0;36m0\u001b[0m\u001b[0;34m\u001b[0m\u001b[0;34m\u001b[0m\u001b[0m\n\u001b[1;32m      5\u001b[0m \u001b[0;34m\u001b[0m\u001b[0m\n\u001b[0;32m----> 6\u001b[0;31m \u001b[0mx\u001b[0m \u001b[0;34m=\u001b[0m \u001b[0mL\u001b[0m\u001b[0;34m[\u001b[0m\u001b[0;36m60\u001b[0m\u001b[0;34m,\u001b[0m \u001b[0;36m50\u001b[0m\u001b[0;34m,\u001b[0m \u001b[0;36m14\u001b[0m\u001b[0;34m,\u001b[0m \u001b[0;36m12\u001b[0m\u001b[0;34m]\u001b[0m\u001b[0;34m\u001b[0m\u001b[0;34m\u001b[0m\u001b[0m\n\u001b[0m\u001b[1;32m      7\u001b[0m \u001b[0;32mfor\u001b[0m \u001b[0mi\u001b[0m \u001b[0;32min\u001b[0m \u001b[0mx\u001b[0m\u001b[0;34m(\u001b[0m\u001b[0mm\u001b[0m\u001b[0;34m.\u001b[0m\u001b[0msqrt\u001b[0m\u001b[0;34m(\u001b[0m\u001b[0mi\u001b[0m\u001b[0;34m)\u001b[0m\u001b[0;34m)\u001b[0m\u001b[0;34m:\u001b[0m\u001b[0;34m\u001b[0m\u001b[0;34m\u001b[0m\u001b[0m\n\u001b[1;32m      8\u001b[0m   \u001b[0;32mif\u001b[0m\u001b[0;34m(\u001b[0m\u001b[0mi\u001b[0m\u001b[0;34m%\u001b[0m\u001b[0;36m2\u001b[0m\u001b[0;34m==\u001b[0m\u001b[0;36m0\u001b[0m\u001b[0;34m)\u001b[0m\u001b[0;34m:\u001b[0m\u001b[0;34m\u001b[0m\u001b[0;34m\u001b[0m\u001b[0m\n",
            "\u001b[0;31mTypeError\u001b[0m: list indices must be integers or slices, not tuple"
          ]
        }
      ]
    },
    {
      "cell_type": "markdown",
      "source": [
        "xi) WAP to clear all the elements in L."
      ],
      "metadata": {
        "id": "UCUpcbWYSkRn"
      }
    },
    {
      "cell_type": "code",
      "source": [
        "print (\"Original List --> \", L)\n",
        "\n",
        "L.clear()\n",
        "\n",
        "print(\"List after clearing \", L)"
      ],
      "metadata": {
        "colab": {
          "base_uri": "https://localhost:8080/",
          "height": 232
        },
        "id": "U9sqD-XmbsAB",
        "outputId": "5a0c152c-885e-4756-a342-238aeb43445f"
      },
      "execution_count": 41,
      "outputs": [
        {
          "output_type": "error",
          "ename": "NameError",
          "evalue": "ignored",
          "traceback": [
            "\u001b[0;31m---------------------------------------------------------------------------\u001b[0m",
            "\u001b[0;31mNameError\u001b[0m                                 Traceback (most recent call last)",
            "\u001b[0;32m<ipython-input-41-5eab82193fd6>\u001b[0m in \u001b[0;36m<module>\u001b[0;34m()\u001b[0m\n\u001b[0;32m----> 1\u001b[0;31m \u001b[0mprint\u001b[0m \u001b[0;34m(\u001b[0m\u001b[0;34m\"Original List --> \"\u001b[0m\u001b[0;34m,\u001b[0m \u001b[0mL\u001b[0m\u001b[0;34m)\u001b[0m\u001b[0;34m\u001b[0m\u001b[0;34m\u001b[0m\u001b[0m\n\u001b[0m\u001b[1;32m      2\u001b[0m \u001b[0;34m\u001b[0m\u001b[0m\n\u001b[1;32m      3\u001b[0m \u001b[0mL\u001b[0m\u001b[0;34m.\u001b[0m\u001b[0mclear\u001b[0m\u001b[0;34m(\u001b[0m\u001b[0;34m)\u001b[0m\u001b[0;34m\u001b[0m\u001b[0;34m\u001b[0m\u001b[0m\n\u001b[1;32m      4\u001b[0m \u001b[0;34m\u001b[0m\u001b[0m\n\u001b[1;32m      5\u001b[0m \u001b[0mprint\u001b[0m\u001b[0;34m(\u001b[0m\u001b[0;34m\"List after clearing \"\u001b[0m\u001b[0;34m,\u001b[0m \u001b[0mL\u001b[0m\u001b[0;34m)\u001b[0m\u001b[0;34m\u001b[0m\u001b[0;34m\u001b[0m\u001b[0m\n",
            "\u001b[0;31mNameError\u001b[0m: name 'L' is not defined"
          ]
        }
      ]
    },
    {
      "cell_type": "markdown",
      "source": [
        "xii) WAP to delete L.\n"
      ],
      "metadata": {
        "id": "E-HRfDQDcOxC"
      }
    },
    {
      "cell_type": "code",
      "source": [
        "print (\"Original List --> \", L)\n",
        "\n",
        "del L\n",
        "\n",
        "print(\"List Deleted Successfully!\")"
      ],
      "metadata": {
        "id": "5zwSn-pLcTcb"
      },
      "execution_count": null,
      "outputs": []
    },
    {
      "cell_type": "markdown",
      "source": [
        "**Q2  D is a dictionary defined as D= {1:5.6, 2:7.8, 3:6.6, 4:8.7, 5:7.7}.**\n",
        "\n",
        "(i) WAP to add new entry in D; key=8 and value is 8.8"
      ],
      "metadata": {
        "id": "MpoQgMKMcnZn"
      }
    },
    {
      "cell_type": "code",
      "source": [
        "D= {1:5.6, 2:7.8, 3:6.6, 4:8.7, 5:7.7}\n",
        "print (\" Original Dictionary      --> \", D)\n",
        "\n",
        "D[8] = 8.8\n",
        "print (\"After Adding (8)    --> \", D)"
      ],
      "metadata": {
        "colab": {
          "base_uri": "https://localhost:8080/"
        },
        "id": "KOmJa9X6dGTC",
        "outputId": "724955a3-4760-4e33-c7a3-2a6ca20482ac"
      },
      "execution_count": 49,
      "outputs": [
        {
          "output_type": "stream",
          "name": "stdout",
          "text": [
            " Original Dictionary      -->  {1: 5.6, 2: 7.8, 3: 6.6, 4: 8.7, 5: 7.7}\n",
            "After Adding (8)    -->  {1: 5.6, 2: 7.8, 3: 6.6, 4: 8.7, 5: 7.7, 8: 8.8}\n"
          ]
        }
      ]
    },
    {
      "cell_type": "markdown",
      "source": [
        "(ii) WAP to remove key=2."
      ],
      "metadata": {
        "id": "cN7AntaMdsQi"
      }
    },
    {
      "cell_type": "code",
      "source": [
        "D= {1:5.6, 2:7.8, 3:6.6, 4:8.7, 5:7.7}\n",
        "print (\" Original Dictionary      --> \", D)\n",
        "\n",
        "del D[2]\n",
        "print (\"After Deleting (2)  --> \", D)"
      ],
      "metadata": {
        "colab": {
          "base_uri": "https://localhost:8080/"
        },
        "id": "LxfmvDsidtOA",
        "outputId": "9ca39175-0900-4740-e117-9b7e0b78f051"
      },
      "execution_count": 51,
      "outputs": [
        {
          "output_type": "stream",
          "name": "stdout",
          "text": [
            " Original Dictionary      -->  {1: 5.6, 2: 7.8, 3: 6.6, 4: 8.7, 5: 7.7}\n",
            "After Deleting (2)  -->  {1: 5.6, 3: 6.6, 4: 8.7, 5: 7.7}\n"
          ]
        }
      ]
    },
    {
      "cell_type": "markdown",
      "source": [
        "(iii) WAP to check whether 6 key is present in D."
      ],
      "metadata": {
        "id": "f_1_7pPYdwWu"
      }
    },
    {
      "cell_type": "code",
      "source": [
        "D= {1:5.6, 2:7.8, 3:6.6, 4:8.7, 5:7.7}\n",
        "print (\" Original Dictionary      --> \", D)\n",
        "\n",
        "print (\"Is Key 2 Present    --> \", 6 in D)"
      ],
      "metadata": {
        "colab": {
          "base_uri": "https://localhost:8080/"
        },
        "id": "eJaCcOsKdzZ1",
        "outputId": "b59c2019-384b-4365-aad1-8adf2c73b628"
      },
      "execution_count": 52,
      "outputs": [
        {
          "output_type": "stream",
          "name": "stdout",
          "text": [
            " Original Dictionary      -->  {1: 5.6, 2: 7.8, 3: 6.6, 4: 8.7, 5: 7.7}\n",
            "Is Key 2 Present    -->  False\n"
          ]
        }
      ]
    },
    {
      "cell_type": "markdown",
      "source": [
        "(iv) WAP to count the number of elements present in D."
      ],
      "metadata": {
        "id": "Pb95EaZYd0DF"
      }
    },
    {
      "cell_type": "code",
      "source": [
        "D= {1:5.6, 2:7.8, 3:6.6, 4:8.7, 5:7.7}\n",
        "print (\" Original Dictionary      --> \", D)\n",
        "print (\"Num of elements --> \", len(D))"
      ],
      "metadata": {
        "colab": {
          "base_uri": "https://localhost:8080/"
        },
        "id": "25q1uXFCd2h2",
        "outputId": "985fb0d1-224d-4a4a-ccca-5850124effd8"
      },
      "execution_count": 53,
      "outputs": [
        {
          "output_type": "stream",
          "name": "stdout",
          "text": [
            " Original Dictionary      -->  {1: 5.6, 2: 7.8, 3: 6.6, 4: 8.7, 5: 7.7}\n",
            "Num of elements -->  5\n"
          ]
        }
      ]
    },
    {
      "cell_type": "markdown",
      "source": [
        "(v) WAP to add all the values present D."
      ],
      "metadata": {
        "id": "dmkoAY4jd3ZG"
      }
    },
    {
      "cell_type": "code",
      "source": [
        "D= {1:5.6, 2:7.8, 3:6.6, 4:8.7, 5:7.7}\n",
        "print (\" Original Dictionary      --> \", D)\n",
        "print (\"Values     --> \", sum(list(D.values())))"
      ],
      "metadata": {
        "colab": {
          "base_uri": "https://localhost:8080/"
        },
        "id": "Rb3JELoCd5Zy",
        "outputId": "ac4f727c-2739-4422-fe0a-be335c0054cf"
      },
      "execution_count": 54,
      "outputs": [
        {
          "output_type": "stream",
          "name": "stdout",
          "text": [
            " Original Dictionary      -->  {1: 5.6, 2: 7.8, 3: 6.6, 4: 8.7, 5: 7.7}\n",
            "Values     -->  36.4\n"
          ]
        }
      ]
    },
    {
      "cell_type": "markdown",
      "source": [
        "(vi) WAP to update the value of 3 to 7.1."
      ],
      "metadata": {
        "id": "5QsEQASKeDo2"
      }
    },
    {
      "cell_type": "code",
      "source": [
        "D= {1:5.6, 2:7.8, 3:6.6, 4:8.7, 5:7.7}\n",
        "print (\" Original Dictionary      --> \", D)\n",
        "\n",
        "D[3] = 7.1\n",
        "print (\"After Updating (3)  --> \", D)"
      ],
      "metadata": {
        "colab": {
          "base_uri": "https://localhost:8080/"
        },
        "id": "NcVyppa0eGew",
        "outputId": "ccf449ff-29c8-47d3-e208-a4af17d216de"
      },
      "execution_count": 55,
      "outputs": [
        {
          "output_type": "stream",
          "name": "stdout",
          "text": [
            " Original Dictionary      -->  {1: 5.6, 2: 7.8, 3: 6.6, 4: 8.7, 5: 7.7}\n",
            "After Updating (3)  -->  {1: 5.6, 2: 7.8, 3: 7.1, 4: 8.7, 5: 7.7}\n"
          ]
        }
      ]
    },
    {
      "cell_type": "markdown",
      "source": [
        "(vii) WAP to clear the dictionary."
      ],
      "metadata": {
        "id": "OdrCBc3eeHEw"
      }
    },
    {
      "cell_type": "code",
      "source": [
        "D= {1:5.6, 2:7.8, 3:6.6, 4:8.7, 5:7.7}\n",
        "print (\" Original Dictionary      --> \", D)\n",
        "\n",
        "D.clear()\n",
        "\n",
        "print('Dictionary cleared Successfully!')"
      ],
      "metadata": {
        "colab": {
          "base_uri": "https://localhost:8080/"
        },
        "id": "Zx7EwjnaeJAK",
        "outputId": "be75659f-0b5c-4103-d870-128c217f89a0"
      },
      "execution_count": 57,
      "outputs": [
        {
          "output_type": "stream",
          "name": "stdout",
          "text": [
            " Original Dictionary      -->  {1: 5.6, 2: 7.8, 3: 6.6, 4: 8.7, 5: 7.7}\n",
            "Dictionary cleared Successfully!\n"
          ]
        }
      ]
    },
    {
      "cell_type": "markdown",
      "source": [
        "**Q3. S1 is a set defined as S1= [10, 20, 30, 40, 50, 60].**\n",
        "\n",
        " S2 is a set defined as S2= [40, 50, 60, 70, 80, 90]. \n",
        "\n",
        "(i) WAP to add 55 and 66 in Set S1."
      ],
      "metadata": {
        "id": "zm771xUygGke"
      }
    },
    {
      "cell_type": "code",
      "source": [
        "S1= set([10, 20, 30, 40, 50, 60])\n",
        "S2= set([40, 50, 60, 70, 80, 90])\n",
        "print (\"Original set S1       --> \", S1)\n",
        "print (\"Original set S2       --> \", S2)\n",
        "\n",
        "S1.add(55)\n",
        "S1.add(66)\n",
        "print (\"Set After Adding 55 and 66 to set S1 --> \", S1)"
      ],
      "metadata": {
        "colab": {
          "base_uri": "https://localhost:8080/"
        },
        "id": "YoNwMtK_gRDe",
        "outputId": "506a7565-6d73-44ce-e414-cc17f47cab7c"
      },
      "execution_count": 58,
      "outputs": [
        {
          "output_type": "stream",
          "name": "stdout",
          "text": [
            "Original set S1       -->  {40, 10, 50, 20, 60, 30}\n",
            "Original set S2       -->  {70, 40, 80, 50, 90, 60}\n",
            "Set After Adding 55 and 66 -->  {66, 40, 10, 50, 20, 55, 60, 30}\n"
          ]
        }
      ]
    },
    {
      "cell_type": "markdown",
      "source": [
        "(ii) WAP to remove 10 and 30 from Set S1."
      ],
      "metadata": {
        "id": "mBXvaU6AgSHR"
      }
    },
    {
      "cell_type": "code",
      "source": [
        "S1= set([10, 20, 30, 40, 50, 60])\n",
        "S2= set([40, 50, 60, 70, 80, 90])\n",
        "print (\"Original set S1       --> \", S1)\n",
        "print (\"Original set S2       --> \", S2)\n",
        "\n",
        "S1.remove(10)\n",
        "S1.remove(30)\n",
        "print (\"Set After Removing 10 and 30 from set S1 --> \", S1)"
      ],
      "metadata": {
        "colab": {
          "base_uri": "https://localhost:8080/"
        },
        "id": "yFBU8wnlgUR1",
        "outputId": "aa057776-5921-4af0-ff4c-13a4c75f49bb"
      },
      "execution_count": 59,
      "outputs": [
        {
          "output_type": "stream",
          "name": "stdout",
          "text": [
            "Original set S1       -->  {40, 10, 50, 20, 60, 30}\n",
            "Original set S2       -->  {70, 40, 80, 50, 90, 60}\n",
            "Set After Removing 10 and 30 from set S1 -->  {40, 50, 20, 60}\n"
          ]
        }
      ]
    },
    {
      "cell_type": "markdown",
      "source": [
        "(iii) WAP to check whether 40 is present in S1."
      ],
      "metadata": {
        "id": "aE7gqW2mgUxT"
      }
    },
    {
      "cell_type": "code",
      "source": [
        "S1= set([10, 20, 30, 40, 50, 60])\n",
        "S2= set([40, 50, 60, 70, 80, 90])\n",
        "print (\"Original set S1       --> \", S1)\n",
        "print (\"Original set S2       --> \", S2)\n",
        "print (\"Is 40 Present in Set S1   --> \", 40 in S1)"
      ],
      "metadata": {
        "colab": {
          "base_uri": "https://localhost:8080/"
        },
        "id": "8zczHRkRgW6Q",
        "outputId": "46a482e2-2b64-4f3b-f154-29d25e35d357"
      },
      "execution_count": 60,
      "outputs": [
        {
          "output_type": "stream",
          "name": "stdout",
          "text": [
            "Original set S1       -->  {40, 10, 50, 20, 60, 30}\n",
            "Original set S2       -->  {70, 40, 80, 50, 90, 60}\n",
            "Is 40 Present in Set S1   -->  True\n"
          ]
        }
      ]
    },
    {
      "cell_type": "markdown",
      "source": [
        "(iv) WAP to find the union between S1 and S2."
      ],
      "metadata": {
        "id": "hxm59qJzgXXQ"
      }
    },
    {
      "cell_type": "code",
      "source": [
        "S1= set([10, 20, 30, 40, 50, 60])\n",
        "S2= set([40, 50, 60, 70, 80, 90])\n",
        "print (\"Original set S1       --> \", S1)\n",
        "print (\"Original set S2       --> \", S2)\n",
        "print (\"Union of S1 and S2    --> \", S1.union(S2))"
      ],
      "metadata": {
        "colab": {
          "base_uri": "https://localhost:8080/"
        },
        "id": "7jqpSwvLgZVH",
        "outputId": "5033d8ea-1804-4674-9cfc-ec1c749ac8a5"
      },
      "execution_count": 62,
      "outputs": [
        {
          "output_type": "stream",
          "name": "stdout",
          "text": [
            "Original set S1       -->  {40, 10, 50, 20, 60, 30}\n",
            "Original set S2       -->  {70, 40, 80, 50, 90, 60}\n",
            "Union of S1 and S2    -->  {70, 40, 10, 80, 50, 20, 90, 60, 30}\n"
          ]
        }
      ]
    },
    {
      "cell_type": "markdown",
      "source": [
        "(v) WAP to find the intersection between S1 and S2."
      ],
      "metadata": {
        "id": "ro0XqP1OgZ_S"
      }
    },
    {
      "cell_type": "code",
      "source": [
        "S1= set([10, 20, 30, 40, 50, 60])\n",
        "S2= set([40, 50, 60, 70, 80, 90])\n",
        "print (\"Original set S1       --> \", S1)\n",
        "print (\"Original set S2       --> \", S2)\n",
        "print (\"Intersection of S1 and S2    --> \", S1.intersection(S2))"
      ],
      "metadata": {
        "colab": {
          "base_uri": "https://localhost:8080/"
        },
        "id": "LUBl-pgZgb7j",
        "outputId": "533d814f-2f17-4af3-9b77-220f535ae32b"
      },
      "execution_count": 65,
      "outputs": [
        {
          "output_type": "stream",
          "name": "stdout",
          "text": [
            "Original set S1       -->  {40, 10, 50, 20, 60, 30}\n",
            "Original set S2       -->  {70, 40, 80, 50, 90, 60}\n",
            "Intersection of S1 and S2    -->  {40, 50, 60}\n"
          ]
        }
      ]
    },
    {
      "cell_type": "markdown",
      "source": [
        "(vi) WAP to find the S1 - S2."
      ],
      "metadata": {
        "id": "QSrkGxD_gcok"
      }
    },
    {
      "cell_type": "code",
      "source": [
        "S1= set([10, 20, 30, 40, 50, 60])\n",
        "S2= set([40, 50, 60, 70, 80, 90])\n",
        "print (\"Original set S1       --> \", S1)\n",
        "print (\"Original set S2       --> \", S2)\n",
        "print (\"Difference of S1 and S2    --> \", S1.difference(S2))"
      ],
      "metadata": {
        "colab": {
          "base_uri": "https://localhost:8080/"
        },
        "id": "x2ocSztCgeUq",
        "outputId": "4ea4c4f8-87d9-4637-a7a2-e807be11e070"
      },
      "execution_count": 66,
      "outputs": [
        {
          "output_type": "stream",
          "name": "stdout",
          "text": [
            "Original set S1       -->  {40, 10, 50, 20, 60, 30}\n",
            "Original set S2       -->  {70, 40, 80, 50, 90, 60}\n",
            "Difference of S1 and S2    -->  {10, 20, 30}\n"
          ]
        }
      ]
    },
    {
      "cell_type": "markdown",
      "source": [
        "**Q4. Write the following program.**\n",
        "\n",
        "(i) WAP to print 100 random strings whose length between 6 and 8."
      ],
      "metadata": {
        "id": "SZt844xDlNBG"
      }
    },
    {
      "cell_type": "code",
      "source": [
        "import string as s\n",
        "import random as r\n",
        "for k in s:\n",
        "  Lower = 6\n",
        "  Upper = 8\n",
        "\n",
        "res = ''.join(r.choices(s.ascii_uppercase +\n",
        "\t\t\t\t\t\t\ts.digits, k >=Lower and k<=Upper))\n",
        "\n",
        "print(\"The generated random string : \" + str(res))\n",
        "\n"
      ],
      "metadata": {
        "colab": {
          "base_uri": "https://localhost:8080/",
          "height": 232
        },
        "id": "n3xvcRxQlPo9",
        "outputId": "3d48b4bb-af36-4717-aad0-0633ad8515c3"
      },
      "execution_count": 73,
      "outputs": [
        {
          "output_type": "error",
          "ename": "TypeError",
          "evalue": "ignored",
          "traceback": [
            "\u001b[0;31m---------------------------------------------------------------------------\u001b[0m",
            "\u001b[0;31mTypeError\u001b[0m                                 Traceback (most recent call last)",
            "\u001b[0;32m<ipython-input-73-3b3728e84731>\u001b[0m in \u001b[0;36m<module>\u001b[0;34m()\u001b[0m\n\u001b[1;32m      1\u001b[0m \u001b[0;32mimport\u001b[0m \u001b[0mstring\u001b[0m \u001b[0;32mas\u001b[0m \u001b[0ms\u001b[0m\u001b[0;34m\u001b[0m\u001b[0;34m\u001b[0m\u001b[0m\n\u001b[1;32m      2\u001b[0m \u001b[0;32mimport\u001b[0m \u001b[0mrandom\u001b[0m \u001b[0;32mas\u001b[0m \u001b[0mr\u001b[0m\u001b[0;34m\u001b[0m\u001b[0;34m\u001b[0m\u001b[0m\n\u001b[0;32m----> 3\u001b[0;31m \u001b[0;32mfor\u001b[0m \u001b[0mk\u001b[0m \u001b[0;32min\u001b[0m \u001b[0ms\u001b[0m\u001b[0;34m:\u001b[0m\u001b[0;34m\u001b[0m\u001b[0;34m\u001b[0m\u001b[0m\n\u001b[0m\u001b[1;32m      4\u001b[0m   \u001b[0mLower\u001b[0m \u001b[0;34m=\u001b[0m \u001b[0;36m6\u001b[0m\u001b[0;34m\u001b[0m\u001b[0;34m\u001b[0m\u001b[0m\n\u001b[1;32m      5\u001b[0m   \u001b[0mUpper\u001b[0m \u001b[0;34m=\u001b[0m \u001b[0;36m8\u001b[0m\u001b[0;34m\u001b[0m\u001b[0;34m\u001b[0m\u001b[0m\n",
            "\u001b[0;31mTypeError\u001b[0m: 'module' object is not iterable"
          ]
        }
      ]
    },
    {
      "cell_type": "markdown",
      "source": [
        "(ii) WAP to print all prime numbers between 600 and 800."
      ],
      "metadata": {
        "id": "EZ-0oI_ulQ8V"
      }
    },
    {
      "cell_type": "code",
      "source": [
        "lower = 600\n",
        "upper = 800\n",
        "\n",
        "print(\"Prime numbers between\", lower, \"and\", upper, \"are:\")\n",
        "\n",
        "for num in range(lower, upper + 1):\n",
        "   if num > 1:\n",
        "       for i in range(2, num):\n",
        "           if (num % i) == 0:\n",
        "               break\n",
        "       else:\n",
        "           print(num)"
      ],
      "metadata": {
        "colab": {
          "base_uri": "https://localhost:8080/"
        },
        "id": "g7GF7aojlTXV",
        "outputId": "0c537ae4-4aa0-451e-c27b-82d1c6880f61"
      },
      "execution_count": 67,
      "outputs": [
        {
          "output_type": "stream",
          "name": "stdout",
          "text": [
            "Prime numbers between 600 and 800 are:\n",
            "601\n",
            "607\n",
            "613\n",
            "617\n",
            "619\n",
            "631\n",
            "641\n",
            "643\n",
            "647\n",
            "653\n",
            "659\n",
            "661\n",
            "673\n",
            "677\n",
            "683\n",
            "691\n",
            "701\n",
            "709\n",
            "719\n",
            "727\n",
            "733\n",
            "739\n",
            "743\n",
            "751\n",
            "757\n",
            "761\n",
            "769\n",
            "773\n",
            "787\n",
            "797\n"
          ]
        }
      ]
    },
    {
      "cell_type": "markdown",
      "source": [
        "(iii) WAP to print all numbers between 100 and 1000 that are divisible by 7 and 9.\n"
      ],
      "metadata": {
        "id": "5uMAx0OUlTpw"
      }
    },
    {
      "cell_type": "code",
      "source": [
        "nl=[]\n",
        "for x in range(100, 1000):\n",
        "    if (x%7==0) and (x%9==0):\n",
        "        nl.append(str(x))\n",
        "print (','.join(nl))"
      ],
      "metadata": {
        "colab": {
          "base_uri": "https://localhost:8080/"
        },
        "id": "Ip-IjprDlYQQ",
        "outputId": "9c511430-2ae2-4bfb-ac58-45ec843e1cf3"
      },
      "execution_count": 68,
      "outputs": [
        {
          "output_type": "stream",
          "name": "stdout",
          "text": [
            "126,189,252,315,378,441,504,567,630,693,756,819,882,945\n"
          ]
        }
      ]
    },
    {
      "cell_type": "markdown",
      "source": [
        "Q5. WAP to create two lists of 10 random numbers between 10 and 30; \n",
        "\n",
        "Find \n",
        "\n",
        "(i) Common numbers in the two lists"
      ],
      "metadata": {
        "id": "CLChZDjSqab2"
      }
    },
    {
      "cell_type": "code",
      "source": [
        "import random as r\n",
        "randomlist1 = r.sample(range(10, 30),10)\n",
        "randomlist2 = r.sample(range(10, 30),10)\n",
        "print(randomlist1)\n",
        "print(randomlist2)\n",
        "\n",
        "randomlist1 = set(randomlist1)\n",
        "randomlist2 = set(randomlist2)\n",
        "common = randomlist1.intersection(randomlist2)\n",
        "\n",
        "print('Common among two lists are --> ',common)"
      ],
      "metadata": {
        "colab": {
          "base_uri": "https://localhost:8080/"
        },
        "id": "lstksURjqjmg",
        "outputId": "fba171d8-5568-44c9-cb09-60e88e75c07f"
      },
      "execution_count": 92,
      "outputs": [
        {
          "output_type": "stream",
          "name": "stdout",
          "text": [
            "[26, 18, 21, 25, 11, 27, 29, 17, 14, 19]\n",
            "[19, 10, 17, 21, 16, 15, 27, 14, 24, 28]\n",
            "Common among two lists are -->  {14, 17, 19, 21, 27}\n"
          ]
        }
      ]
    },
    {
      "cell_type": "markdown",
      "source": [
        "(ii) Unique numbers in both the list\n"
      ],
      "metadata": {
        "id": "viV_sJrnqoCK"
      }
    },
    {
      "cell_type": "code",
      "source": [
        "import random as r\n",
        "randomlist1 = r.sample(range(10, 30),10)\n",
        "randomlist2 = r.sample(range(10, 30),10)\n",
        "print(randomlist1)\n",
        "print(randomlist2)\n",
        "\n",
        "unique_list1 = set(randomlist1)\n",
        "unique_list2 = set(randomlist2)\n",
        "\n",
        "print(\"Unique elements in list1 are -->\", unique_list1)\n",
        "print(\"Unique elements in list2 are -->\", unique_list2)"
      ],
      "metadata": {
        "colab": {
          "base_uri": "https://localhost:8080/"
        },
        "id": "x9CICaUmqr12",
        "outputId": "a7141e6b-5292-415b-bd18-dd13a09717e3"
      },
      "execution_count": 93,
      "outputs": [
        {
          "output_type": "stream",
          "name": "stdout",
          "text": [
            "[27, 24, 19, 26, 13, 11, 10, 17, 25, 20]\n",
            "[11, 10, 26, 21, 17, 12, 25, 27, 29, 15]\n",
            "Unique elements in list1 are --> {10, 11, 13, 17, 19, 20, 24, 25, 26, 27}\n",
            "Unique elements in list2 are --> {10, 11, 12, 15, 17, 21, 25, 26, 27, 29}\n"
          ]
        }
      ]
    },
    {
      "cell_type": "markdown",
      "source": [
        "(iii) Minimum in both the list"
      ],
      "metadata": {
        "id": "0iNuY_R9qsky"
      }
    },
    {
      "cell_type": "code",
      "source": [
        "import random as r\n",
        "randomlist1 = r.sample(range(10, 30),10)\n",
        "randomlist2 = r.sample(range(10, 30),10)\n",
        "print(randomlist1)\n",
        "print(randomlist2)\n",
        "\n",
        "print(\"Minimum number in list1 is -->\", min(randomlist1))\n",
        "print(\"Minimum number in list2 is -->\", min(randomlist2))"
      ],
      "metadata": {
        "colab": {
          "base_uri": "https://localhost:8080/"
        },
        "id": "5yCFsKWjqvI9",
        "outputId": "38aa6639-561b-44d6-adee-349e43ccc752"
      },
      "execution_count": 94,
      "outputs": [
        {
          "output_type": "stream",
          "name": "stdout",
          "text": [
            "[28, 25, 16, 27, 10, 26, 17, 24, 23, 12]\n",
            "[15, 26, 22, 13, 16, 29, 18, 20, 11, 24]\n",
            "Minimum number in list1 is --> 10\n",
            "Minimum number in list2 is --> 11\n"
          ]
        }
      ]
    },
    {
      "cell_type": "markdown",
      "source": [
        "(iv) Maximum in both the list"
      ],
      "metadata": {
        "id": "DNMWqEOxqvuW"
      }
    },
    {
      "cell_type": "code",
      "source": [
        "import random as r\n",
        "randomlist1 = r.sample(range(10, 30),10)\n",
        "randomlist2 = r.sample(range(10, 30),10)\n",
        "print(randomlist1)\n",
        "print(randomlist2)\n",
        "\n",
        "print(\"Maximum number in list1 is -->\", max(randomlist1))\n",
        "print(\"Maximum number in list2 is -->\", max(randomlist2))"
      ],
      "metadata": {
        "colab": {
          "base_uri": "https://localhost:8080/"
        },
        "id": "vP9rhnsbqx6W",
        "outputId": "5f564f18-a43f-401f-ed61-b3182cb53bc8"
      },
      "execution_count": 95,
      "outputs": [
        {
          "output_type": "stream",
          "name": "stdout",
          "text": [
            "[12, 23, 28, 15, 21, 29, 18, 27, 16, 14]\n",
            "[28, 20, 23, 14, 18, 26, 10, 22, 12, 16]\n",
            "Maximum number in list1 is --> 29\n",
            "Maximum number in list2 is --> 28\n"
          ]
        }
      ]
    },
    {
      "cell_type": "markdown",
      "source": [
        "(v) Sum of both the lists"
      ],
      "metadata": {
        "id": "T9M1abq2qyjW"
      }
    },
    {
      "cell_type": "code",
      "source": [
        "import random as r\n",
        "randomlist1 = r.sample(range(10, 30),10)\n",
        "randomlist2 = r.sample(range(10, 30),10)\n",
        "print(randomlist1)\n",
        "print(randomlist2)\n",
        "\n",
        "print(\"Sum of  list1 + list2 is -->\", sum(randomlist1 + randomlist2))"
      ],
      "metadata": {
        "colab": {
          "base_uri": "https://localhost:8080/"
        },
        "id": "RneIzDWcq0ph",
        "outputId": "669ba9a4-c782-4ece-b765-db50b0cb0cf2"
      },
      "execution_count": 96,
      "outputs": [
        {
          "output_type": "stream",
          "name": "stdout",
          "text": [
            "[17, 12, 11, 28, 10, 15, 18, 22, 26, 25]\n",
            "[13, 18, 17, 23, 26, 19, 21, 28, 27, 25]\n",
            "Sum of  list1 + list2 is --> 401\n"
          ]
        }
      ]
    },
    {
      "cell_type": "markdown",
      "source": [
        "Q6. WAP to create a list of 100 random numbers between 100 and 900. \n",
        "\n",
        "Count and print the:\n",
        "\n",
        "(i) All odd numbers"
      ],
      "metadata": {
        "id": "B1NGiB2Irat_"
      }
    },
    {
      "cell_type": "code",
      "source": [
        "import random as r\n",
        "randomlist = r.sample(range(100,900),100)\n",
        "print(randomlist)\n",
        "\n",
        "odd_count = 0\n",
        "even_count = 0 \n",
        "\n",
        "for num in randomlist:\n",
        "      \n",
        "    if num % 2 == 0:\n",
        "        even_count += 1\n",
        "  \n",
        "    else:\n",
        "        odd_count += 1\n",
        "\n",
        "print(\"Odd numbers in the list: \", odd_count)"
      ],
      "metadata": {
        "colab": {
          "base_uri": "https://localhost:8080/"
        },
        "id": "JXSnMOmWrdgw",
        "outputId": "dd99e449-503e-4575-cb6e-d750e92d64a6"
      },
      "execution_count": 98,
      "outputs": [
        {
          "output_type": "stream",
          "name": "stdout",
          "text": [
            "[746, 607, 353, 435, 609, 397, 379, 848, 131, 464, 799, 701, 382, 483, 487, 792, 689, 642, 786, 648, 256, 296, 181, 659, 873, 882, 782, 426, 229, 636, 233, 251, 500, 691, 763, 408, 462, 501, 606, 769, 856, 472, 711, 344, 518, 822, 343, 171, 548, 276, 618, 316, 312, 672, 260, 771, 257, 122, 840, 217, 183, 253, 393, 291, 419, 432, 288, 682, 327, 201, 478, 634, 203, 883, 197, 429, 527, 740, 498, 480, 420, 566, 400, 596, 325, 847, 521, 881, 125, 547, 303, 305, 290, 491, 536, 219, 212, 456, 385, 756]\n",
            "Odd numbers in the list:  51\n"
          ]
        }
      ]
    },
    {
      "cell_type": "markdown",
      "source": [
        "(ii) All even numbers"
      ],
      "metadata": {
        "id": "jxTEHTKDrflK"
      }
    },
    {
      "cell_type": "code",
      "source": [
        "import random as r\n",
        "randomlist = r.sample(range(100,900),100)\n",
        "print(randomlist)\n",
        "\n",
        "odd_count = 0\n",
        "even_count = 0 \n",
        "\n",
        "for num in randomlist:\n",
        "      \n",
        "    if num % 2 == 0:\n",
        "        even_count += 1\n",
        "  \n",
        "    else:\n",
        "        odd_count += 1\n",
        "\n",
        "print(\"Odd numbers in the list: \", even_count)"
      ],
      "metadata": {
        "colab": {
          "base_uri": "https://localhost:8080/"
        },
        "id": "RcIAD8dhrgqX",
        "outputId": "52007f6f-0056-4079-987a-d13d436e89cf"
      },
      "execution_count": 99,
      "outputs": [
        {
          "output_type": "stream",
          "name": "stdout",
          "text": [
            "[348, 186, 123, 169, 818, 313, 589, 364, 855, 177, 669, 658, 531, 403, 456, 733, 213, 323, 808, 347, 585, 318, 568, 163, 604, 637, 681, 445, 845, 773, 741, 569, 170, 703, 320, 623, 416, 262, 233, 499, 807, 217, 310, 508, 423, 131, 357, 187, 558, 160, 639, 232, 350, 327, 513, 433, 280, 252, 515, 437, 727, 528, 132, 141, 117, 881, 896, 613, 563, 147, 139, 887, 617, 118, 475, 869, 463, 793, 289, 740, 329, 841, 386, 865, 249, 645, 530, 672, 442, 150, 857, 255, 753, 644, 577, 395, 101, 415, 469, 638]\n",
            "Odd numbers in the list:  34\n"
          ]
        }
      ]
    },
    {
      "cell_type": "markdown",
      "source": [
        "(iii) All prime numbers"
      ],
      "metadata": {
        "id": "Qz0WQwSorhYq"
      }
    },
    {
      "cell_type": "code",
      "source": [
        "import random as r\n",
        "randomlist = r.sample(range(100,900),100)\n",
        "print(randomlist)\n",
        "\n",
        "prime_count =0 \n",
        "for number in range (100, 901):  \n",
        "    if number > 1:  \n",
        "        for i in range (2, number):  \n",
        "            if (number % i) == 0:  \n",
        "                break  \n",
        "        else:  \n",
        "            prime_count +=1\n",
        "\n",
        "print('Prime numbers in the list: ',prime_count)"
      ],
      "metadata": {
        "colab": {
          "base_uri": "https://localhost:8080/"
        },
        "id": "5nX4drHNrjsr",
        "outputId": "4cb17f32-ee63-4958-f619-aefed0dfe683"
      },
      "execution_count": 104,
      "outputs": [
        {
          "output_type": "stream",
          "name": "stdout",
          "text": [
            "[898, 775, 581, 838, 164, 198, 562, 549, 818, 100, 242, 600, 525, 706, 319, 458, 610, 204, 138, 565, 151, 662, 628, 382, 789, 739, 375, 159, 524, 657, 540, 317, 578, 225, 169, 529, 402, 191, 769, 730, 523, 171, 591, 755, 708, 887, 651, 409, 705, 128, 193, 893, 891, 688, 316, 288, 638, 287, 660, 110, 778, 589, 667, 295, 601, 801, 262, 845, 238, 841, 480, 643, 654, 653, 237, 407, 725, 195, 788, 658, 856, 244, 443, 531, 130, 595, 711, 511, 226, 846, 491, 896, 187, 825, 542, 835, 803, 490, 864, 350]\n",
            "Prime numbers in the list:  129\n"
          ]
        }
      ]
    },
    {
      "cell_type": "markdown",
      "source": [
        "Q7. D is a dictionary defined as D={1:\"One\",2:\"Two\",3:\"Three\",4:\"Four\", 5:\"Five\"}.\n",
        "\n",
        "WAP to read all the keys and values from dictionary and write to the file in the given below format.\n",
        "\n",
        "Key1, Value1\n",
        "\n",
        "Key2, Value2 \n",
        "\n",
        "Key3, Value3\n"
      ],
      "metadata": {
        "id": "MUAkVbSJrx7s"
      }
    },
    {
      "cell_type": "code",
      "source": [
        "fp =open('q7.txt','w')\n",
        "D={1:\"One\",2:\"Two\",3:\"Three\",4:\"Four\", 5:\"Five\"}\n",
        "for key, value in D.items():\n",
        "  print(key, ' : ', value)\n",
        "fp.close()\n",
        "print (\"Writing done !! \\nOpen q7.txt to view the content\")"
      ],
      "metadata": {
        "colab": {
          "base_uri": "https://localhost:8080/"
        },
        "id": "3T7sf4zYr0nf",
        "outputId": "ed241dd8-f75d-4740-e7ec-ba25ac742475"
      },
      "execution_count": 86,
      "outputs": [
        {
          "output_type": "stream",
          "name": "stdout",
          "text": [
            "1  :  One\n",
            "2  :  Two\n",
            "3  :  Three\n",
            "4  :  Four\n",
            "5  :  Five\n",
            "Writing done !! \n",
            "Open q7.txt to view the content\n"
          ]
        }
      ]
    },
    {
      "cell_type": "markdown",
      "source": [
        "Q8. L is a list defined as L={\"One\",\"Two\",\"Three\",\"Four\",\"Five\"}.\n",
        "\n",
        "WAP to count the length of reach element from a list and write to the file in the given below format:\n",
        "\n",
        "One, 3 \n",
        "\n",
        "Two, 3 \n",
        "\n",
        "Four, 4"
      ],
      "metadata": {
        "id": "ZPvCZGIKr_bS"
      }
    },
    {
      "cell_type": "code",
      "source": [
        "fp =open('q8.txt','w')\n",
        "L = (\"One\",\"Two\",\"Three\",\"Four\",\"Five\")\n",
        "for i in range(0,len(L)):\n",
        "  print(L[i] , len(L[i]))\n",
        "  fp.close()\n",
        "print (\"Writing done !! \\nOpen q8.txt to view the content\")"
      ],
      "metadata": {
        "colab": {
          "base_uri": "https://localhost:8080/"
        },
        "id": "NsAoKBhYsAoR",
        "outputId": "7db02935-3eb4-4a66-97a0-55af3af4c2fb"
      },
      "execution_count": 88,
      "outputs": [
        {
          "output_type": "stream",
          "name": "stdout",
          "text": [
            "One 3\n",
            "Two 3\n",
            "Three 5\n",
            "Four 4\n",
            "Five 4\n",
            "Writing done !! \n",
            "Open q8.txt to view the content\n"
          ]
        }
      ]
    },
    {
      "cell_type": "markdown",
      "source": [
        "Q9. Write to the file 100 random strings whose length between 10 and 15.\n"
      ],
      "metadata": {
        "id": "IKc_cGpgsExU"
      }
    },
    {
      "cell_type": "code",
      "source": [
        ""
      ],
      "metadata": {
        "id": "sf1yThPrsHSF"
      },
      "execution_count": null,
      "outputs": []
    },
    {
      "cell_type": "markdown",
      "source": [
        "Q10. Write to the file all prime numbers between 600 and 800.\n"
      ],
      "metadata": {
        "id": "1nEdJe0NsIGB"
      }
    },
    {
      "cell_type": "code",
      "source": [
        ""
      ],
      "metadata": {
        "id": "Dbq47qf2sKiF"
      },
      "execution_count": null,
      "outputs": []
    },
    {
      "cell_type": "markdown",
      "source": [
        "Q11. WAP to calculate the time taken by a program.\n"
      ],
      "metadata": {
        "id": "GB0rbyTPsMu2"
      }
    },
    {
      "cell_type": "code",
      "source": [
        "import time as t\n",
        "\n",
        "# store starting time\n",
        "begin = t.time()\n",
        "\n",
        "# program body starts\n",
        "\n",
        "for i in range(5):\n",
        "\tprint(\"Hello\")\n",
        "# program body ends\n",
        "\n",
        "t.sleep(1)\n",
        "# store end time\n",
        "end = t.time()\n",
        "\n",
        "# total time taken\n",
        "print(f\"Total runtime of the program is {end - begin}\")\n",
        "\n"
      ],
      "metadata": {
        "colab": {
          "base_uri": "https://localhost:8080/"
        },
        "id": "8bWm2kuZsNeB",
        "outputId": "99c863a9-6ec7-4175-bad0-9bf196e61b90"
      },
      "execution_count": 74,
      "outputs": [
        {
          "output_type": "stream",
          "name": "stdout",
          "text": [
            "Hello\n",
            "Hello\n",
            "Hello\n",
            "Hello\n",
            "Hello\n",
            "Total runtime of the program is 1.0043704509735107\n"
          ]
        }
      ]
    },
    {
      "cell_type": "markdown",
      "source": [
        "Q12. WAP to sort following number of elements in a list, calculate time taken and plot the graph.\n",
        "\n",
        "Number of elements in list 50k\n",
        "100k\n",
        "150k\n",
        "200k\n",
        "250k\n",
        "\n",
        "Time Taken T1\n",
        "T2\n",
        "T3\n",
        "T4\n",
        "T5\n",
        "            "
      ],
      "metadata": {
        "id": "PH3ipZKwsriT"
      }
    },
    {
      "cell_type": "code",
      "source": [
        ""
      ],
      "metadata": {
        "id": "lJ4H2kfHszmn"
      },
      "execution_count": null,
      "outputs": []
    },
    {
      "cell_type": "markdown",
      "source": [
        "Q13. WAP to create a dictionary of student marks in five subjects and you have to find the student having maximum and minimum average marks."
      ],
      "metadata": {
        "id": "E3sFe7whs4zR"
      }
    },
    {
      "cell_type": "code",
      "source": [
        "Marks = {'Physics':30, 'Maths':40, 'English':50, 'Chemistry':70, 'Biology':60}\n",
        "print(\"Marks of student in five subjects are --> \", Marks)\n",
        "print(\"Maximum marks of student are -->\", max(Marks))\n",
        "print(\"Minimum marks of student are -->\", min(Marks))"
      ],
      "metadata": {
        "colab": {
          "base_uri": "https://localhost:8080/"
        },
        "id": "WScgeEUUs6Du",
        "outputId": "dc197098-2efc-48e7-9d6e-e0386e6d005a"
      },
      "execution_count": 84,
      "outputs": [
        {
          "output_type": "stream",
          "name": "stdout",
          "text": [
            "Marks of student in five subjects are -->  {'Physics': 30, 'Maths': 40, 'English': 50, 'Chemistry': 70, 'Biology': 60}\n",
            "Maximum marks of student are --> Physics\n",
            "Minimum marks of student are --> Biology\n"
          ]
        }
      ]
    },
    {
      "cell_type": "markdown",
      "source": [
        "2.CHALLENGE QUESTION \n",
        "1. Write a python program to sort the list of heterogeneous data.\n",
        "\n",
        "e.g.\n",
        "\n",
        "L = [\"Ram\", 1, \"Shyam\", 2, \"Aman\", 3] \n",
        "\n",
        "print(L)\n",
        "\n",
        "L.sort()\n",
        "\n",
        "print(L)"
      ],
      "metadata": {
        "id": "JZ15z1l3s8L5"
      }
    },
    {
      "cell_type": "code",
      "source": [
        "list = ['Demon Slayer', 1, 2, 'is_best', 3]\n",
        "\n",
        "print(\"The original list : \" + str(list))\n",
        "\n",
        "res_str = [ele for ele in list if isinstance(ele, str)]\n",
        "res_int = [ele for ele in list if isinstance(ele, int)]\n",
        "\n",
        "print(\"Integer list : \" + str(res_int))\n",
        "print(\"String list : \" + str(res_str))\n",
        "print(res_int + res_str)"
      ],
      "metadata": {
        "colab": {
          "base_uri": "https://localhost:8080/"
        },
        "id": "NxX9cm8PtFAb",
        "outputId": "8ff7ad22-5f9f-4c3a-97f8-0b42b64f4eaf"
      },
      "execution_count": 85,
      "outputs": [
        {
          "output_type": "stream",
          "name": "stdout",
          "text": [
            "The original list : ['Demon Slayer', 1, 2, 'is_best', 3]\n",
            "Integer list : [1, 2, 3]\n",
            "String list : ['Demon Slayer', 'is_best']\n",
            "[1, 2, 3, 'Demon Slayer', 'is_best']\n"
          ]
        }
      ]
    },
    {
      "cell_type": "markdown",
      "source": [
        "3. Mini Project\n",
        "\n",
        "Compare the performance (time taken) of C, C++, Java, Perl and Python program for\n",
        "\n",
        "Convert 1GB, 2GB, 3G, 4GB, 5GB txt files to upper case.\n"
      ],
      "metadata": {
        "id": "Vk8bcqCPtSZp"
      }
    },
    {
      "cell_type": "code",
      "source": [
        ""
      ],
      "metadata": {
        "id": "lIFU1bKdtlHo"
      },
      "execution_count": null,
      "outputs": []
    }
  ]
}