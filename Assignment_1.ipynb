{
  "nbformat": 4,
  "nbformat_minor": 0,
  "metadata": {
    "colab": {
      "name": "Assignment 1.ipynb",
      "provenance": [],
      "collapsed_sections": [],
      "authorship_tag": "ABX9TyOyzfeNga4GOPjtq2UTV2mv",
      "include_colab_link": true
    },
    "kernelspec": {
      "name": "python3",
      "display_name": "Python 3"
    },
    "language_info": {
      "name": "python"
    }
  },
  "cells": [
    {
      "cell_type": "markdown",
      "metadata": {
        "id": "view-in-github",
        "colab_type": "text"
      },
      "source": [
        "<a href=\"https://colab.research.google.com/github/Davjot/ML_python/blob/main/Assignment_1.ipynb\" target=\"_parent\"><img src=\"https://colab.research.google.com/assets/colab-badge.svg\" alt=\"Open In Colab\"/></a>"
      ]
    },
    {
      "cell_type": "markdown",
      "source": [
        "**ASSIGNMENT 1**"
      ],
      "metadata": {
        "id": "wZ0qLn9kKGDK"
      }
    },
    {
      "cell_type": "markdown",
      "source": [
        "Q1: L is a list defined as L= [11, 12, 13, 14].\n",
        "\n",
        "i) WAP to add 50 and 60 to L. "
      ],
      "metadata": {
        "id": "n_tBT3xPKNt8"
      }
    },
    {
      "cell_type": "code",
      "execution_count": 43,
      "metadata": {
        "colab": {
          "base_uri": "https://localhost:8080/"
        },
        "id": "0_J2Y62cJ7UL",
        "outputId": "70c7aaa0-21a6-4478-c456-6443a7a7bd1a"
      },
      "outputs": [
        {
          "output_type": "stream",
          "name": "stdout",
          "text": [
            "Original List       -->  [11, 12, 13, 14]\n",
            "List After Adding   -->  [11, 12, 13, 14, 50, 60]\n"
          ]
        }
      ],
      "source": [
        "L = [11, 12, 13, 14] \n",
        "print (\"Original List       --> \", L)\n",
        "\n",
        "L.append(50)\n",
        "L.append(60)\n",
        "print (\"List After Adding   --> \", L)"
      ]
    },
    {
      "cell_type": "markdown",
      "source": [
        "ii) WAP to remove 11 and 13 from L."
      ],
      "metadata": {
        "id": "RTCHezc6LEaH"
      }
    },
    {
      "cell_type": "code",
      "source": [
        "print (\"Original List       --> \", L)\n",
        "del L[0]\n",
        "del L[1]\n",
        "print (\"List After Deleting --> \", L)"
      ],
      "metadata": {
        "colab": {
          "base_uri": "https://localhost:8080/"
        },
        "id": "6lZ0-a0jLiFp",
        "outputId": "2abef95a-6bcd-426a-9854-085d2e5246a5"
      },
      "execution_count": 44,
      "outputs": [
        {
          "output_type": "stream",
          "name": "stdout",
          "text": [
            "Original List       -->  [11, 12, 13, 14, 50, 60]\n",
            "List After Deleting -->  [12, 14, 50, 60]\n"
          ]
        }
      ]
    },
    {
      "cell_type": "markdown",
      "source": [
        "iii) WAP to sort L in ascending order."
      ],
      "metadata": {
        "id": "F8M2yvzyMgfn"
      }
    },
    {
      "cell_type": "code",
      "source": [
        "L.sort()\n",
        "print('List after sorting in ascending order', L)"
      ],
      "metadata": {
        "colab": {
          "base_uri": "https://localhost:8080/"
        },
        "id": "ZfG25bdZMlk7",
        "outputId": "3d937ee7-934f-4d3e-ff49-451d910e5d75"
      },
      "execution_count": 45,
      "outputs": [
        {
          "output_type": "stream",
          "name": "stdout",
          "text": [
            "List after sorting in ascending order [12, 14, 50, 60]\n"
          ]
        }
      ]
    },
    {
      "cell_type": "markdown",
      "source": [
        "iv) WAP to sort L in descending order."
      ],
      "metadata": {
        "id": "-oAg0OzqN0rk"
      }
    },
    {
      "cell_type": "code",
      "source": [
        "L.sort(reverse = True)\n",
        "print('List after sorting in descending order', L)"
      ],
      "metadata": {
        "colab": {
          "base_uri": "https://localhost:8080/"
        },
        "id": "GCz2cx98N3rw",
        "outputId": "7ce6a215-6c74-4749-b79a-552c95be6992"
      },
      "execution_count": 46,
      "outputs": [
        {
          "output_type": "stream",
          "name": "stdout",
          "text": [
            "List after sorting in descending order [60, 50, 14, 12]\n"
          ]
        }
      ]
    },
    {
      "cell_type": "markdown",
      "source": [
        "v) WAP to search for 13 in L."
      ],
      "metadata": {
        "id": "Bg61y-AKOJZM"
      }
    },
    {
      "cell_type": "code",
      "source": [
        "print (\"Original List       --> \", L)\n",
        "\n",
        "print (\"Original List --> \", 13 in L)\n",
        "\n",
        "if (13 in L) == True:\n",
        "\tprint (\"Present\")\n",
        "else:\n",
        "\tprint (\"Not Present\")"
      ],
      "metadata": {
        "colab": {
          "base_uri": "https://localhost:8080/"
        },
        "id": "SC45Ym9dOKnf",
        "outputId": "02a2492d-0d4d-4c39-a9e6-254054cc9131"
      },
      "execution_count": 47,
      "outputs": [
        {
          "output_type": "stream",
          "name": "stdout",
          "text": [
            "Original List       -->  [60, 50, 14, 12]\n",
            "Original List -->  False\n",
            "Not Present\n"
          ]
        }
      ]
    },
    {
      "cell_type": "markdown",
      "source": [
        "vi) WAP to count the number of elements present in L."
      ],
      "metadata": {
        "id": "hSy5S_pvOm21"
      }
    },
    {
      "cell_type": "code",
      "source": [
        "print (\"Original List       --> \", L)\n",
        "print (\"Number of elements in list: \", len(L))"
      ],
      "metadata": {
        "colab": {
          "base_uri": "https://localhost:8080/"
        },
        "id": "vtxvc-0JOn-Z",
        "outputId": "8216e110-6e56-4cd7-a502-5e30ffa9bca0"
      },
      "execution_count": 25,
      "outputs": [
        {
          "output_type": "stream",
          "name": "stdout",
          "text": [
            "Original List       -->  [60, 50, 14, 12]\n",
            "Number of elements in list:  4\n"
          ]
        }
      ]
    },
    {
      "cell_type": "markdown",
      "source": [
        "vii) WAP to sum all the elements in L."
      ],
      "metadata": {
        "id": "R2eUJwiyQ2EG"
      }
    },
    {
      "cell_type": "code",
      "source": [
        "print (\"Original List --> \", L)\n",
        "\n",
        "print (\"Sum     --> \", sum(L))"
      ],
      "metadata": {
        "colab": {
          "base_uri": "https://localhost:8080/"
        },
        "id": "Cf_Gfy-QQ5wm",
        "outputId": "5f2a1ad1-4c4e-4074-9f05-a7a0822b51a9"
      },
      "execution_count": 26,
      "outputs": [
        {
          "output_type": "stream",
          "name": "stdout",
          "text": [
            "Original List -->  [60, 50, 14, 12]\n",
            "Sum     -->  136\n"
          ]
        }
      ]
    },
    {
      "cell_type": "markdown",
      "source": [
        "viii) WAP to sum all ODD numbers in L."
      ],
      "metadata": {
        "id": "jmJyem4eRCpD"
      }
    },
    {
      "cell_type": "code",
      "source": [
        "print (\"Original List --> \", L)\n",
        "odd_sum = 0\n",
        "for i in L:\n",
        "  if(i%2==1):\n",
        "    odd_sum = odd_sum + L[i]\n",
        "print('Sum -->', odd_sum)"
      ],
      "metadata": {
        "colab": {
          "base_uri": "https://localhost:8080/"
        },
        "id": "hzsCQ-ZQRF22",
        "outputId": "649556e6-093f-41ed-f2f3-744b60fba569"
      },
      "execution_count": 48,
      "outputs": [
        {
          "output_type": "stream",
          "name": "stdout",
          "text": [
            "Original List -->  [60, 50, 14, 12]\n",
            "Sum --> 0\n"
          ]
        }
      ]
    },
    {
      "cell_type": "markdown",
      "source": [
        "ix)  WAP to sum all EVEN numbers in L."
      ],
      "metadata": {
        "id": "4QafELjASapK"
      }
    },
    {
      "cell_type": "code",
      "source": [
        "print (\"Original List --> \", L)\n",
        "even_sum = 0\n",
        "for ele in L:\n",
        "  if(ele%2==0):\n",
        "    even_sum = even_sum + L[ele]\n",
        "print('Sum -->', even_sum)"
      ],
      "metadata": {
        "colab": {
          "base_uri": "https://localhost:8080/",
          "height": 232
        },
        "id": "24KGw_5vSf6O",
        "outputId": "5f2c21d8-cad5-4d72-c86a-629651c9d38c"
      },
      "execution_count": 33,
      "outputs": [
        {
          "output_type": "stream",
          "name": "stdout",
          "text": [
            "Original List -->  [60, 50, 14, 12]\n"
          ]
        },
        {
          "output_type": "error",
          "ename": "IndexError",
          "evalue": "ignored",
          "traceback": [
            "\u001b[0;31m---------------------------------------------------------------------------\u001b[0m",
            "\u001b[0;31mIndexError\u001b[0m                                Traceback (most recent call last)",
            "\u001b[0;32m<ipython-input-33-7d3821879c89>\u001b[0m in \u001b[0;36m<module>\u001b[0;34m()\u001b[0m\n\u001b[1;32m      3\u001b[0m \u001b[0;32mfor\u001b[0m \u001b[0mele\u001b[0m \u001b[0;32min\u001b[0m \u001b[0mL\u001b[0m\u001b[0;34m:\u001b[0m\u001b[0;34m\u001b[0m\u001b[0;34m\u001b[0m\u001b[0m\n\u001b[1;32m      4\u001b[0m   \u001b[0;32mif\u001b[0m\u001b[0;34m(\u001b[0m\u001b[0mele\u001b[0m\u001b[0;34m%\u001b[0m\u001b[0;36m2\u001b[0m\u001b[0;34m==\u001b[0m\u001b[0;36m0\u001b[0m\u001b[0;34m)\u001b[0m\u001b[0;34m:\u001b[0m\u001b[0;34m\u001b[0m\u001b[0;34m\u001b[0m\u001b[0m\n\u001b[0;32m----> 5\u001b[0;31m     \u001b[0meven_sum\u001b[0m \u001b[0;34m=\u001b[0m \u001b[0meven_sum\u001b[0m \u001b[0;34m+\u001b[0m \u001b[0mL\u001b[0m\u001b[0;34m[\u001b[0m\u001b[0mele\u001b[0m\u001b[0;34m]\u001b[0m\u001b[0;34m\u001b[0m\u001b[0;34m\u001b[0m\u001b[0m\n\u001b[0m\u001b[1;32m      6\u001b[0m \u001b[0mprint\u001b[0m\u001b[0;34m(\u001b[0m\u001b[0;34m'Sum -->'\u001b[0m\u001b[0;34m,\u001b[0m \u001b[0meven_sum\u001b[0m\u001b[0;34m)\u001b[0m\u001b[0;34m\u001b[0m\u001b[0;34m\u001b[0m\u001b[0m\n",
            "\u001b[0;31mIndexError\u001b[0m: list index out of range"
          ]
        }
      ]
    },
    {
      "cell_type": "markdown",
      "source": [
        "x) WAP to sum all PRIME numbers in L."
      ],
      "metadata": {
        "id": "g4_ZgTMpSgdx"
      }
    },
    {
      "cell_type": "code",
      "source": [
        "import math as m\n",
        "print (\"Original List --> \", L)\n",
        "\n",
        "prime_sum = 0\n",
        "\n",
        "x = L[60, 50, 14, 12]\n",
        "for i in x(m.sqrt(i)):\n",
        "  if(i%2==0):\n",
        "    prime_sum = prime_sum + x\n",
        "    break\n",
        "\n",
        "print('Sum -->', prime_sum)"
      ],
      "metadata": {
        "colab": {
          "base_uri": "https://localhost:8080/",
          "height": 249
        },
        "id": "3CCoI6AXSjlI",
        "outputId": "f02e516d-a692-44ee-bfd2-1ecc6a3a085e"
      },
      "execution_count": 35,
      "outputs": [
        {
          "output_type": "stream",
          "name": "stdout",
          "text": [
            "Original List -->  [60, 50, 14, 12]\n"
          ]
        },
        {
          "output_type": "error",
          "ename": "TypeError",
          "evalue": "ignored",
          "traceback": [
            "\u001b[0;31m---------------------------------------------------------------------------\u001b[0m",
            "\u001b[0;31mTypeError\u001b[0m                                 Traceback (most recent call last)",
            "\u001b[0;32m<ipython-input-35-8be78d2ee7f5>\u001b[0m in \u001b[0;36m<module>\u001b[0;34m()\u001b[0m\n\u001b[1;32m      4\u001b[0m \u001b[0mprime_sum\u001b[0m \u001b[0;34m=\u001b[0m \u001b[0;36m0\u001b[0m\u001b[0;34m\u001b[0m\u001b[0;34m\u001b[0m\u001b[0m\n\u001b[1;32m      5\u001b[0m \u001b[0;34m\u001b[0m\u001b[0m\n\u001b[0;32m----> 6\u001b[0;31m \u001b[0mx\u001b[0m \u001b[0;34m=\u001b[0m \u001b[0mL\u001b[0m\u001b[0;34m[\u001b[0m\u001b[0;36m60\u001b[0m\u001b[0;34m,\u001b[0m \u001b[0;36m50\u001b[0m\u001b[0;34m,\u001b[0m \u001b[0;36m14\u001b[0m\u001b[0;34m,\u001b[0m \u001b[0;36m12\u001b[0m\u001b[0;34m]\u001b[0m\u001b[0;34m\u001b[0m\u001b[0;34m\u001b[0m\u001b[0m\n\u001b[0m\u001b[1;32m      7\u001b[0m \u001b[0;32mfor\u001b[0m \u001b[0mi\u001b[0m \u001b[0;32min\u001b[0m \u001b[0mx\u001b[0m\u001b[0;34m(\u001b[0m\u001b[0mm\u001b[0m\u001b[0;34m.\u001b[0m\u001b[0msqrt\u001b[0m\u001b[0;34m(\u001b[0m\u001b[0mi\u001b[0m\u001b[0;34m)\u001b[0m\u001b[0;34m)\u001b[0m\u001b[0;34m:\u001b[0m\u001b[0;34m\u001b[0m\u001b[0;34m\u001b[0m\u001b[0m\n\u001b[1;32m      8\u001b[0m   \u001b[0;32mif\u001b[0m\u001b[0;34m(\u001b[0m\u001b[0mi\u001b[0m\u001b[0;34m%\u001b[0m\u001b[0;36m2\u001b[0m\u001b[0;34m==\u001b[0m\u001b[0;36m0\u001b[0m\u001b[0;34m)\u001b[0m\u001b[0;34m:\u001b[0m\u001b[0;34m\u001b[0m\u001b[0;34m\u001b[0m\u001b[0m\n",
            "\u001b[0;31mTypeError\u001b[0m: list indices must be integers or slices, not tuple"
          ]
        }
      ]
    },
    {
      "cell_type": "markdown",
      "source": [
        "xi) WAP to clear all the elements in L."
      ],
      "metadata": {
        "id": "UCUpcbWYSkRn"
      }
    },
    {
      "cell_type": "code",
      "source": [
        "print (\"Original List --> \", L)\n",
        "\n",
        "L.clear()\n",
        "\n",
        "print(\"List after clearing \", L)"
      ],
      "metadata": {
        "colab": {
          "base_uri": "https://localhost:8080/",
          "height": 232
        },
        "id": "U9sqD-XmbsAB",
        "outputId": "5a0c152c-885e-4756-a342-238aeb43445f"
      },
      "execution_count": 41,
      "outputs": [
        {
          "output_type": "error",
          "ename": "NameError",
          "evalue": "ignored",
          "traceback": [
            "\u001b[0;31m---------------------------------------------------------------------------\u001b[0m",
            "\u001b[0;31mNameError\u001b[0m                                 Traceback (most recent call last)",
            "\u001b[0;32m<ipython-input-41-5eab82193fd6>\u001b[0m in \u001b[0;36m<module>\u001b[0;34m()\u001b[0m\n\u001b[0;32m----> 1\u001b[0;31m \u001b[0mprint\u001b[0m \u001b[0;34m(\u001b[0m\u001b[0;34m\"Original List --> \"\u001b[0m\u001b[0;34m,\u001b[0m \u001b[0mL\u001b[0m\u001b[0;34m)\u001b[0m\u001b[0;34m\u001b[0m\u001b[0;34m\u001b[0m\u001b[0m\n\u001b[0m\u001b[1;32m      2\u001b[0m \u001b[0;34m\u001b[0m\u001b[0m\n\u001b[1;32m      3\u001b[0m \u001b[0mL\u001b[0m\u001b[0;34m.\u001b[0m\u001b[0mclear\u001b[0m\u001b[0;34m(\u001b[0m\u001b[0;34m)\u001b[0m\u001b[0;34m\u001b[0m\u001b[0;34m\u001b[0m\u001b[0m\n\u001b[1;32m      4\u001b[0m \u001b[0;34m\u001b[0m\u001b[0m\n\u001b[1;32m      5\u001b[0m \u001b[0mprint\u001b[0m\u001b[0;34m(\u001b[0m\u001b[0;34m\"List after clearing \"\u001b[0m\u001b[0;34m,\u001b[0m \u001b[0mL\u001b[0m\u001b[0;34m)\u001b[0m\u001b[0;34m\u001b[0m\u001b[0;34m\u001b[0m\u001b[0m\n",
            "\u001b[0;31mNameError\u001b[0m: name 'L' is not defined"
          ]
        }
      ]
    },
    {
      "cell_type": "markdown",
      "source": [
        "xii) WAP to delete L.\n"
      ],
      "metadata": {
        "id": "E-HRfDQDcOxC"
      }
    },
    {
      "cell_type": "code",
      "source": [
        "print (\"Original List --> \", L)\n",
        "\n",
        "del L\n",
        "\n",
        "print(\"List Deleted Successfully!\")"
      ],
      "metadata": {
        "id": "5zwSn-pLcTcb"
      },
      "execution_count": null,
      "outputs": []
    },
    {
      "cell_type": "markdown",
      "source": [
        "Q2  D is a dictionary defined as D= {1:5.6, 2:7.8, 3:6.6, 4:8.7, 5:7.7}.\n",
        "\n",
        "(i) WAP to add new entry in D; key=8 and value is 8.8"
      ],
      "metadata": {
        "id": "MpoQgMKMcnZn"
      }
    },
    {
      "cell_type": "code",
      "source": [
        "D= {1:5.6, 2:7.8, 3:6.6, 4:8.7, 5:7.7}\n",
        "print (\" Original Dictionary      --> \", D)\n",
        "\n",
        "D[8] = 8.8\n",
        "print (\"After Adding (8)    --> \", D)"
      ],
      "metadata": {
        "colab": {
          "base_uri": "https://localhost:8080/"
        },
        "id": "KOmJa9X6dGTC",
        "outputId": "724955a3-4760-4e33-c7a3-2a6ca20482ac"
      },
      "execution_count": 49,
      "outputs": [
        {
          "output_type": "stream",
          "name": "stdout",
          "text": [
            " Original Dictionary      -->  {1: 5.6, 2: 7.8, 3: 6.6, 4: 8.7, 5: 7.7}\n",
            "After Adding (8)    -->  {1: 5.6, 2: 7.8, 3: 6.6, 4: 8.7, 5: 7.7, 8: 8.8}\n"
          ]
        }
      ]
    },
    {
      "cell_type": "markdown",
      "source": [
        "(ii) WAP to remove key=2."
      ],
      "metadata": {
        "id": "cN7AntaMdsQi"
      }
    },
    {
      "cell_type": "code",
      "source": [
        "D= {1:5.6, 2:7.8, 3:6.6, 4:8.7, 5:7.7}\n",
        "print (\" Original Dictionary      --> \", D)\n",
        "\n",
        "del D[2]\n",
        "print (\"After Deleting (2)  --> \", D)"
      ],
      "metadata": {
        "colab": {
          "base_uri": "https://localhost:8080/"
        },
        "id": "LxfmvDsidtOA",
        "outputId": "9ca39175-0900-4740-e117-9b7e0b78f051"
      },
      "execution_count": 51,
      "outputs": [
        {
          "output_type": "stream",
          "name": "stdout",
          "text": [
            " Original Dictionary      -->  {1: 5.6, 2: 7.8, 3: 6.6, 4: 8.7, 5: 7.7}\n",
            "After Deleting (2)  -->  {1: 5.6, 3: 6.6, 4: 8.7, 5: 7.7}\n"
          ]
        }
      ]
    },
    {
      "cell_type": "markdown",
      "source": [
        "(iii) WAP to check whether 6 key is present in D."
      ],
      "metadata": {
        "id": "f_1_7pPYdwWu"
      }
    },
    {
      "cell_type": "code",
      "source": [
        "D= {1:5.6, 2:7.8, 3:6.6, 4:8.7, 5:7.7}\n",
        "print (\" Original Dictionary      --> \", D)\n",
        "\n",
        "print (\"Is Key 2 Present    --> \", 6 in D)"
      ],
      "metadata": {
        "colab": {
          "base_uri": "https://localhost:8080/"
        },
        "id": "eJaCcOsKdzZ1",
        "outputId": "b59c2019-384b-4365-aad1-8adf2c73b628"
      },
      "execution_count": 52,
      "outputs": [
        {
          "output_type": "stream",
          "name": "stdout",
          "text": [
            " Original Dictionary      -->  {1: 5.6, 2: 7.8, 3: 6.6, 4: 8.7, 5: 7.7}\n",
            "Is Key 2 Present    -->  False\n"
          ]
        }
      ]
    },
    {
      "cell_type": "markdown",
      "source": [
        "(iv) WAP to count the number of elements present in D."
      ],
      "metadata": {
        "id": "Pb95EaZYd0DF"
      }
    },
    {
      "cell_type": "code",
      "source": [
        "D= {1:5.6, 2:7.8, 3:6.6, 4:8.7, 5:7.7}\n",
        "print (\" Original Dictionary      --> \", D)\n",
        "print (\"Num of elements --> \", len(D))"
      ],
      "metadata": {
        "colab": {
          "base_uri": "https://localhost:8080/"
        },
        "id": "25q1uXFCd2h2",
        "outputId": "985fb0d1-224d-4a4a-ccca-5850124effd8"
      },
      "execution_count": 53,
      "outputs": [
        {
          "output_type": "stream",
          "name": "stdout",
          "text": [
            " Original Dictionary      -->  {1: 5.6, 2: 7.8, 3: 6.6, 4: 8.7, 5: 7.7}\n",
            "Num of elements -->  5\n"
          ]
        }
      ]
    },
    {
      "cell_type": "markdown",
      "source": [
        "(v) WAP to add all the values present D."
      ],
      "metadata": {
        "id": "dmkoAY4jd3ZG"
      }
    },
    {
      "cell_type": "code",
      "source": [
        "D= {1:5.6, 2:7.8, 3:6.6, 4:8.7, 5:7.7}\n",
        "print (\" Original Dictionary      --> \", D)\n",
        "print (\"Values     --> \", sum(list(D.values())))"
      ],
      "metadata": {
        "colab": {
          "base_uri": "https://localhost:8080/"
        },
        "id": "Rb3JELoCd5Zy",
        "outputId": "ac4f727c-2739-4422-fe0a-be335c0054cf"
      },
      "execution_count": 54,
      "outputs": [
        {
          "output_type": "stream",
          "name": "stdout",
          "text": [
            " Original Dictionary      -->  {1: 5.6, 2: 7.8, 3: 6.6, 4: 8.7, 5: 7.7}\n",
            "Values     -->  36.4\n"
          ]
        }
      ]
    },
    {
      "cell_type": "markdown",
      "source": [
        "(vi) WAP to update the value of 3 to 7.1."
      ],
      "metadata": {
        "id": "5QsEQASKeDo2"
      }
    },
    {
      "cell_type": "code",
      "source": [
        "D= {1:5.6, 2:7.8, 3:6.6, 4:8.7, 5:7.7}\n",
        "print (\" Original Dictionary      --> \", D)\n",
        "\n",
        "D[3] = 7.1\n",
        "print (\"After Updating (3)  --> \", D)"
      ],
      "metadata": {
        "colab": {
          "base_uri": "https://localhost:8080/"
        },
        "id": "NcVyppa0eGew",
        "outputId": "ccf449ff-29c8-47d3-e208-a4af17d216de"
      },
      "execution_count": 55,
      "outputs": [
        {
          "output_type": "stream",
          "name": "stdout",
          "text": [
            " Original Dictionary      -->  {1: 5.6, 2: 7.8, 3: 6.6, 4: 8.7, 5: 7.7}\n",
            "After Updating (3)  -->  {1: 5.6, 2: 7.8, 3: 7.1, 4: 8.7, 5: 7.7}\n"
          ]
        }
      ]
    },
    {
      "cell_type": "markdown",
      "source": [
        "(vii) WAP to clear the dictionary."
      ],
      "metadata": {
        "id": "OdrCBc3eeHEw"
      }
    },
    {
      "cell_type": "code",
      "source": [
        "D= {1:5.6, 2:7.8, 3:6.6, 4:8.7, 5:7.7}\n",
        "print (\" Original Dictionary      --> \", D)\n",
        "\n",
        "D.clear()\n",
        "\n",
        "print('Dictionary cleared Successfully!')"
      ],
      "metadata": {
        "colab": {
          "base_uri": "https://localhost:8080/"
        },
        "id": "Zx7EwjnaeJAK",
        "outputId": "be75659f-0b5c-4103-d870-128c217f89a0"
      },
      "execution_count": 57,
      "outputs": [
        {
          "output_type": "stream",
          "name": "stdout",
          "text": [
            " Original Dictionary      -->  {1: 5.6, 2: 7.8, 3: 6.6, 4: 8.7, 5: 7.7}\n",
            "Dictionary cleared Successfully!\n"
          ]
        }
      ]
    },
    {
      "cell_type": "markdown",
      "source": [
        "Q3. S1 is a set defined as S1= [10, 20, 30, 40, 50, 60].\n",
        "\n",
        " S2 is a set defined as S2= [40, 50, 60, 70, 80, 90].\n",
        "\n",
        "(i) WAP to add 55 and 66 in Set S1."
      ],
      "metadata": {
        "id": "zm771xUygGke"
      }
    },
    {
      "cell_type": "code",
      "source": [
        ""
      ],
      "metadata": {
        "id": "YoNwMtK_gRDe"
      },
      "execution_count": null,
      "outputs": []
    },
    {
      "cell_type": "markdown",
      "source": [
        "(ii) WAP to remove 10 and 30 from Set S1."
      ],
      "metadata": {
        "id": "mBXvaU6AgSHR"
      }
    },
    {
      "cell_type": "code",
      "source": [
        ""
      ],
      "metadata": {
        "id": "yFBU8wnlgUR1"
      },
      "execution_count": null,
      "outputs": []
    },
    {
      "cell_type": "markdown",
      "source": [
        "(iii) WAP to check whether 40 is present in S1."
      ],
      "metadata": {
        "id": "aE7gqW2mgUxT"
      }
    },
    {
      "cell_type": "code",
      "source": [
        ""
      ],
      "metadata": {
        "id": "8zczHRkRgW6Q"
      },
      "execution_count": null,
      "outputs": []
    },
    {
      "cell_type": "markdown",
      "source": [
        "(iv) WAP to find the union between S1 and S2."
      ],
      "metadata": {
        "id": "hxm59qJzgXXQ"
      }
    },
    {
      "cell_type": "code",
      "source": [
        ""
      ],
      "metadata": {
        "id": "7jqpSwvLgZVH"
      },
      "execution_count": null,
      "outputs": []
    },
    {
      "cell_type": "markdown",
      "source": [
        "(v) WAP to find the intersection between S1 and S2."
      ],
      "metadata": {
        "id": "ro0XqP1OgZ_S"
      }
    },
    {
      "cell_type": "code",
      "source": [
        ""
      ],
      "metadata": {
        "id": "LUBl-pgZgb7j"
      },
      "execution_count": null,
      "outputs": []
    },
    {
      "cell_type": "markdown",
      "source": [
        "(vi) WAP to find the S1 - S2."
      ],
      "metadata": {
        "id": "QSrkGxD_gcok"
      }
    },
    {
      "cell_type": "code",
      "source": [
        ""
      ],
      "metadata": {
        "id": "x2ocSztCgeUq"
      },
      "execution_count": null,
      "outputs": []
    }
  ]
}