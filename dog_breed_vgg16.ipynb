{
  "cells": [
    {
      "cell_type": "markdown",
      "metadata": {
        "id": "view-in-github",
        "colab_type": "text"
      },
      "source": [
        "<a href=\"https://colab.research.google.com/github/Davjot/ML_python/blob/main/dog_breed_vgg16.ipynb\" target=\"_parent\"><img src=\"https://colab.research.google.com/assets/colab-badge.svg\" alt=\"Open In Colab\"/></a>"
      ]
    },
    {
      "cell_type": "markdown",
      "source": [
        "#1. Connecting google drive with google colab"
      ],
      "metadata": {
        "id": "lLoSnJoivwLv"
      },
      "id": "lLoSnJoivwLv"
    },
    {
      "cell_type": "code",
      "source": [
        "from google.colab import drive\n",
        "drive.mount('/content/drive')"
      ],
      "metadata": {
        "colab": {
          "base_uri": "https://localhost:8080/"
        },
        "id": "TkK1cguOsUjU",
        "outputId": "d2f88f38-a870-41d2-b2a9-53f5e89006ea"
      },
      "id": "TkK1cguOsUjU",
      "execution_count": 2,
      "outputs": [
        {
          "output_type": "stream",
          "name": "stdout",
          "text": [
            "Drive already mounted at /content/drive; to attempt to forcibly remount, call drive.mount(\"/content/drive\", force_remount=True).\n"
          ]
        }
      ]
    },
    {
      "cell_type": "markdown",
      "source": [
        "# 2. if you have zipped file, \n",
        "Extract zip file"
      ],
      "metadata": {
        "id": "SefAqeGfspXx"
      },
      "id": "SefAqeGfspXx"
    },
    {
      "cell_type": "code",
      "execution_count": 2,
      "id": "325f9949",
      "metadata": {
        "id": "325f9949"
      },
      "outputs": [],
      "source": [
        "import zipfile\n",
        "with zipfile.ZipFile('/content/dog_breed/dog_breed_vgg16/data.zip', 'r') as zip_ref:\n",
        "    zip_ref.extractall('dog_breed')\n"
      ]
    },
    {
      "cell_type": "markdown",
      "source": [
        "#3. import all required libraries for deep learning and vgg16"
      ],
      "metadata": {
        "id": "zf9bYVEJstLv"
      },
      "id": "zf9bYVEJstLv"
    },
    {
      "cell_type": "code",
      "execution_count": 3,
      "id": "2cc898c0",
      "metadata": {
        "id": "2cc898c0"
      },
      "outputs": [],
      "source": [
        "from keras import regularizers\n",
        "from keras.models import Model\n",
        "from tensorflow.keras.optimizers import Adam\n",
        "from keras.layers import Dropout\n",
        "from keras.layers import GlobalAveragePooling2D\n",
        "from keras.layers import BatchNormalization\n",
        "from keras.layers import Activation,Dense\n",
        "from keras.models import Sequential,load_model\n",
        "from keras.preprocessing.image import ImageDataGenerator, img_to_array, load_img\n",
        "from keras.applications.vgg16 import VGG16"
      ]
    },
    {
      "cell_type": "markdown",
      "source": [
        "# 4. Pandas and Numpy for data structures and util fucntions"
      ],
      "metadata": {
        "id": "0SdJLq9as5Qh"
      },
      "id": "0SdJLq9as5Qh"
    },
    {
      "cell_type": "code",
      "source": [
        "import numpy as np\n",
        "#pip install pandas\n",
        "import pandas as pd\n",
        "from numpy.random import rand"
      ],
      "metadata": {
        "id": "PzM-mXVxxxkp"
      },
      "id": "PzM-mXVxxxkp",
      "execution_count": 4,
      "outputs": []
    },
    {
      "cell_type": "markdown",
      "source": [
        "# 5. Scikit Imports "
      ],
      "metadata": {
        "id": "y6Fs8t5Dx503"
      },
      "id": "y6Fs8t5Dx503"
    },
    {
      "cell_type": "code",
      "source": [
        "pd.options.display.max_colwidth = 600\n",
        "from sklearn.model_selection import train_test_split"
      ],
      "metadata": {
        "id": "q0l-_Carx4_h"
      },
      "id": "q0l-_Carx4_h",
      "execution_count": 5,
      "outputs": []
    },
    {
      "cell_type": "markdown",
      "source": [
        "# 6. Matplot Imports"
      ],
      "metadata": {
        "id": "pFZKZ38OyI6N"
      },
      "id": "pFZKZ38OyI6N"
    },
    {
      "cell_type": "code",
      "execution_count": 6,
      "id": "e05a325b",
      "metadata": {
        "id": "e05a325b"
      },
      "outputs": [],
      "source": [
        "import matplotlib.pyplot as plt\n",
        "params = {'legend.fontsize': 'x-large',\n",
        "          'figure.figsize': (15, 5),\n",
        "          'axes.labelsize': 'x-large',\n",
        "          'axes.titlesize':'x-large',\n",
        "          'xtick.labelsize':'x-large',\n",
        "          'ytick.labelsize':'x-large'}\n",
        "\n",
        "plt.rcParams.update(params)\n",
        "%matplotlib inline"
      ]
    },
    {
      "cell_type": "markdown",
      "source": [
        "# 7. Display functions"
      ],
      "metadata": {
        "id": "HEjCLXAeyS9y"
      },
      "id": "HEjCLXAeyS9y"
    },
    {
      "cell_type": "code",
      "execution_count": 7,
      "id": "4b4e88c6",
      "metadata": {
        "id": "4b4e88c6"
      },
      "outputs": [],
      "source": [
        "\n",
        "from IPython.display import display, HTML\n",
        "\n",
        "import warnings\n",
        "warnings.filterwarnings('ignore')"
      ]
    },
    {
      "cell_type": "markdown",
      "source": [
        "# 8. Go to train folder"
      ],
      "metadata": {
        "id": "riqq35tx0Yh6"
      },
      "id": "riqq35tx0Yh6"
    },
    {
      "cell_type": "code",
      "execution_count": 8,
      "id": "44cb1b7a",
      "metadata": {
        "id": "44cb1b7a"
      },
      "outputs": [],
      "source": [
        "\n",
        "train_folder = '/content/dog_breed/train/'\n",
        "#test_folder = '/content/test/'"
      ]
    },
    {
      "cell_type": "markdown",
      "source": [
        "#9. pandas display data frames as tables"
      ],
      "metadata": {
        "id": "NGhww7q90U7-"
      },
      "id": "NGhww7q90U7-"
    },
    {
      "cell_type": "code",
      "execution_count": 9,
      "id": "adde28e6",
      "metadata": {
        "id": "adde28e6"
      },
      "outputs": [],
      "source": [
        "data_labels = pd.read_csv('/content/dog_breed/labels.csv')\n"
      ]
    },
    {
      "cell_type": "markdown",
      "source": [
        "#10. display the columns"
      ],
      "metadata": {
        "id": "Jd2KX9w6yuys"
      },
      "id": "Jd2KX9w6yuys"
    },
    {
      "cell_type": "code",
      "source": [
        "data_labels.head()"
      ],
      "metadata": {
        "colab": {
          "base_uri": "https://localhost:8080/",
          "height": 204
        },
        "id": "PHez-rthytt-",
        "outputId": "4513f8f7-f885-4677-ee26-13d54d4e4242"
      },
      "id": "PHez-rthytt-",
      "execution_count": 10,
      "outputs": [
        {
          "output_type": "execute_result",
          "data": {
            "text/plain": [
              "                                 id             breed\n",
              "0  000bec180eb18c7604dcecc8fe0dba07       boston_bull\n",
              "1  001513dfcb2ffafc82cccf4d8bbaba97             dingo\n",
              "2  001cdf01b096e06d78e9e5112d419397          pekinese\n",
              "3  00214f311d5d2247d5dfe4fe24b2303d          bluetick\n",
              "4  0021f9ceb3235effd7fcde7f7538ed62  golden_retriever"
            ],
            "text/html": [
              "\n",
              "  <div id=\"df-5f7081f2-dee7-4dd9-ab88-1edfeb835010\">\n",
              "    <div class=\"colab-df-container\">\n",
              "      <div>\n",
              "<style scoped>\n",
              "    .dataframe tbody tr th:only-of-type {\n",
              "        vertical-align: middle;\n",
              "    }\n",
              "\n",
              "    .dataframe tbody tr th {\n",
              "        vertical-align: top;\n",
              "    }\n",
              "\n",
              "    .dataframe thead th {\n",
              "        text-align: right;\n",
              "    }\n",
              "</style>\n",
              "<table border=\"1\" class=\"dataframe\">\n",
              "  <thead>\n",
              "    <tr style=\"text-align: right;\">\n",
              "      <th></th>\n",
              "      <th>id</th>\n",
              "      <th>breed</th>\n",
              "    </tr>\n",
              "  </thead>\n",
              "  <tbody>\n",
              "    <tr>\n",
              "      <th>0</th>\n",
              "      <td>000bec180eb18c7604dcecc8fe0dba07</td>\n",
              "      <td>boston_bull</td>\n",
              "    </tr>\n",
              "    <tr>\n",
              "      <th>1</th>\n",
              "      <td>001513dfcb2ffafc82cccf4d8bbaba97</td>\n",
              "      <td>dingo</td>\n",
              "    </tr>\n",
              "    <tr>\n",
              "      <th>2</th>\n",
              "      <td>001cdf01b096e06d78e9e5112d419397</td>\n",
              "      <td>pekinese</td>\n",
              "    </tr>\n",
              "    <tr>\n",
              "      <th>3</th>\n",
              "      <td>00214f311d5d2247d5dfe4fe24b2303d</td>\n",
              "      <td>bluetick</td>\n",
              "    </tr>\n",
              "    <tr>\n",
              "      <th>4</th>\n",
              "      <td>0021f9ceb3235effd7fcde7f7538ed62</td>\n",
              "      <td>golden_retriever</td>\n",
              "    </tr>\n",
              "  </tbody>\n",
              "</table>\n",
              "</div>\n",
              "      <button class=\"colab-df-convert\" onclick=\"convertToInteractive('df-5f7081f2-dee7-4dd9-ab88-1edfeb835010')\"\n",
              "              title=\"Convert this dataframe to an interactive table.\"\n",
              "              style=\"display:none;\">\n",
              "        \n",
              "  <svg xmlns=\"http://www.w3.org/2000/svg\" height=\"24px\"viewBox=\"0 0 24 24\"\n",
              "       width=\"24px\">\n",
              "    <path d=\"M0 0h24v24H0V0z\" fill=\"none\"/>\n",
              "    <path d=\"M18.56 5.44l.94 2.06.94-2.06 2.06-.94-2.06-.94-.94-2.06-.94 2.06-2.06.94zm-11 1L8.5 8.5l.94-2.06 2.06-.94-2.06-.94L8.5 2.5l-.94 2.06-2.06.94zm10 10l.94 2.06.94-2.06 2.06-.94-2.06-.94-.94-2.06-.94 2.06-2.06.94z\"/><path d=\"M17.41 7.96l-1.37-1.37c-.4-.4-.92-.59-1.43-.59-.52 0-1.04.2-1.43.59L10.3 9.45l-7.72 7.72c-.78.78-.78 2.05 0 2.83L4 21.41c.39.39.9.59 1.41.59.51 0 1.02-.2 1.41-.59l7.78-7.78 2.81-2.81c.8-.78.8-2.07 0-2.86zM5.41 20L4 18.59l7.72-7.72 1.47 1.35L5.41 20z\"/>\n",
              "  </svg>\n",
              "      </button>\n",
              "      \n",
              "  <style>\n",
              "    .colab-df-container {\n",
              "      display:flex;\n",
              "      flex-wrap:wrap;\n",
              "      gap: 12px;\n",
              "    }\n",
              "\n",
              "    .colab-df-convert {\n",
              "      background-color: #E8F0FE;\n",
              "      border: none;\n",
              "      border-radius: 50%;\n",
              "      cursor: pointer;\n",
              "      display: none;\n",
              "      fill: #1967D2;\n",
              "      height: 32px;\n",
              "      padding: 0 0 0 0;\n",
              "      width: 32px;\n",
              "    }\n",
              "\n",
              "    .colab-df-convert:hover {\n",
              "      background-color: #E2EBFA;\n",
              "      box-shadow: 0px 1px 2px rgba(60, 64, 67, 0.3), 0px 1px 3px 1px rgba(60, 64, 67, 0.15);\n",
              "      fill: #174EA6;\n",
              "    }\n",
              "\n",
              "    [theme=dark] .colab-df-convert {\n",
              "      background-color: #3B4455;\n",
              "      fill: #D2E3FC;\n",
              "    }\n",
              "\n",
              "    [theme=dark] .colab-df-convert:hover {\n",
              "      background-color: #434B5C;\n",
              "      box-shadow: 0px 1px 3px 1px rgba(0, 0, 0, 0.15);\n",
              "      filter: drop-shadow(0px 1px 2px rgba(0, 0, 0, 0.3));\n",
              "      fill: #FFFFFF;\n",
              "    }\n",
              "  </style>\n",
              "\n",
              "      <script>\n",
              "        const buttonEl =\n",
              "          document.querySelector('#df-5f7081f2-dee7-4dd9-ab88-1edfeb835010 button.colab-df-convert');\n",
              "        buttonEl.style.display =\n",
              "          google.colab.kernel.accessAllowed ? 'block' : 'none';\n",
              "\n",
              "        async function convertToInteractive(key) {\n",
              "          const element = document.querySelector('#df-5f7081f2-dee7-4dd9-ab88-1edfeb835010');\n",
              "          const dataTable =\n",
              "            await google.colab.kernel.invokeFunction('convertToInteractive',\n",
              "                                                     [key], {});\n",
              "          if (!dataTable) return;\n",
              "\n",
              "          const docLinkHtml = 'Like what you see? Visit the ' +\n",
              "            '<a target=\"_blank\" href=https://colab.research.google.com/notebooks/data_table.ipynb>data table notebook</a>'\n",
              "            + ' to learn more about interactive tables.';\n",
              "          element.innerHTML = '';\n",
              "          dataTable['output_type'] = 'display_data';\n",
              "          await google.colab.output.renderOutput(dataTable, element);\n",
              "          const docLink = document.createElement('div');\n",
              "          docLink.innerHTML = docLinkHtml;\n",
              "          element.appendChild(docLink);\n",
              "        }\n",
              "      </script>\n",
              "    </div>\n",
              "  </div>\n",
              "  "
            ]
          },
          "metadata": {},
          "execution_count": 10
        }
      ]
    },
    {
      "cell_type": "markdown",
      "source": [
        "#11. Extract some intial values of dataset"
      ],
      "metadata": {
        "id": "HAI4UwgD0fX0"
      },
      "id": "HAI4UwgD0fX0"
    },
    {
      "cell_type": "code",
      "execution_count": 11,
      "id": "f96a9cff",
      "metadata": {
        "id": "f96a9cff"
      },
      "outputs": [],
      "source": [
        "data_labels=data_labels[:2000]"
      ]
    },
    {
      "cell_type": "markdown",
      "source": [
        "# 12. Access labels "
      ],
      "metadata": {
        "id": "GiDzxAPS0wLk"
      },
      "id": "GiDzxAPS0wLk"
    },
    {
      "cell_type": "code",
      "execution_count": 12,
      "id": "27f66f89",
      "metadata": {
        "id": "27f66f89"
      },
      "outputs": [],
      "source": [
        "target_labels = data_labels['breed']\n"
      ]
    },
    {
      "cell_type": "markdown",
      "source": [
        "#13. check the number of classes"
      ],
      "metadata": {
        "id": "bl5zm1vzzG6f"
      },
      "id": "bl5zm1vzzG6f"
    },
    {
      "cell_type": "code",
      "source": [
        "len(set(target_labels))"
      ],
      "metadata": {
        "colab": {
          "base_uri": "https://localhost:8080/"
        },
        "id": "cyvxY-6rzBsc",
        "outputId": "240b7812-cfb7-40c6-9356-64be02b17d58"
      },
      "id": "cyvxY-6rzBsc",
      "execution_count": 13,
      "outputs": [
        {
          "output_type": "execute_result",
          "data": {
            "text/plain": [
              "120"
            ]
          },
          "metadata": {},
          "execution_count": 13
        }
      ]
    },
    {
      "cell_type": "markdown",
      "source": [
        "# 14. Prepare Labels\n",
        "Deep Learning models work with one hot encoded outputs or target variables. We utilize pandas to prepare one hot encoding for the labels."
      ],
      "metadata": {
        "id": "8pGnODd80zEH"
      },
      "id": "8pGnODd80zEH"
    },
    {
      "cell_type": "code",
      "execution_count": 14,
      "id": "4a408a76",
      "metadata": {
        "id": "4a408a76"
      },
      "outputs": [],
      "source": [
        "labels_ohe_names = pd.get_dummies(target_labels, sparse=True)\n",
        "labels_ohe = np.asarray(labels_ohe_names)\n"
      ]
    },
    {
      "cell_type": "markdown",
      "source": [
        "#15. Print the encoded labels"
      ],
      "metadata": {
        "id": "8wgEfujMzXD6"
      },
      "id": "8wgEfujMzXD6"
    },
    {
      "cell_type": "code",
      "source": [
        "print(labels_ohe.shape)\n",
        "print(labels_ohe[:2])"
      ],
      "metadata": {
        "colab": {
          "base_uri": "https://localhost:8080/"
        },
        "id": "kFc1tcp4zWgi",
        "outputId": "01dc1fee-59fa-4f3b-e331-212e2e8ae0ed"
      },
      "id": "kFc1tcp4zWgi",
      "execution_count": 15,
      "outputs": [
        {
          "output_type": "stream",
          "name": "stdout",
          "text": [
            "(2000, 120)\n",
            "[[0 0 0 0 0 0 0 0 0 0 0 0 0 0 0 0 0 0 0 1 0 0 0 0 0 0 0 0 0 0 0 0 0 0 0 0\n",
            "  0 0 0 0 0 0 0 0 0 0 0 0 0 0 0 0 0 0 0 0 0 0 0 0 0 0 0 0 0 0 0 0 0 0 0 0\n",
            "  0 0 0 0 0 0 0 0 0 0 0 0 0 0 0 0 0 0 0 0 0 0 0 0 0 0 0 0 0 0 0 0 0 0 0 0\n",
            "  0 0 0 0 0 0 0 0 0 0 0 0]\n",
            " [0 0 0 0 0 0 0 0 0 0 0 0 0 0 0 0 0 0 0 0 0 0 0 0 0 0 0 0 0 0 0 0 0 0 0 0\n",
            "  0 1 0 0 0 0 0 0 0 0 0 0 0 0 0 0 0 0 0 0 0 0 0 0 0 0 0 0 0 0 0 0 0 0 0 0\n",
            "  0 0 0 0 0 0 0 0 0 0 0 0 0 0 0 0 0 0 0 0 0 0 0 0 0 0 0 0 0 0 0 0 0 0 0 0\n",
            "  0 0 0 0 0 0 0 0 0 0 0 0]]\n"
          ]
        }
      ]
    },
    {
      "cell_type": "markdown",
      "source": [
        "# 16. Create another colomn of named image_path to acces the images from dataset"
      ],
      "metadata": {
        "id": "Vm6mnOhl0_iv"
      },
      "id": "Vm6mnOhl0_iv"
    },
    {
      "cell_type": "code",
      "execution_count": 16,
      "id": "2514a1c1",
      "metadata": {
        "id": "2514a1c1",
        "outputId": "b7198365-d14a-4b44-862a-be613749a399",
        "colab": {
          "base_uri": "https://localhost:8080/",
          "height": 204
        }
      },
      "outputs": [
        {
          "output_type": "execute_result",
          "data": {
            "text/plain": [
              "                                 id             breed  \\\n",
              "0  000bec180eb18c7604dcecc8fe0dba07       boston_bull   \n",
              "1  001513dfcb2ffafc82cccf4d8bbaba97             dingo   \n",
              "2  001cdf01b096e06d78e9e5112d419397          pekinese   \n",
              "3  00214f311d5d2247d5dfe4fe24b2303d          bluetick   \n",
              "4  0021f9ceb3235effd7fcde7f7538ed62  golden_retriever   \n",
              "\n",
              "                                                      image_path  \n",
              "0  /content/dog_breed/train/000bec180eb18c7604dcecc8fe0dba07.jpg  \n",
              "1  /content/dog_breed/train/001513dfcb2ffafc82cccf4d8bbaba97.jpg  \n",
              "2  /content/dog_breed/train/001cdf01b096e06d78e9e5112d419397.jpg  \n",
              "3  /content/dog_breed/train/00214f311d5d2247d5dfe4fe24b2303d.jpg  \n",
              "4  /content/dog_breed/train/0021f9ceb3235effd7fcde7f7538ed62.jpg  "
            ],
            "text/html": [
              "\n",
              "  <div id=\"df-474a1295-cc60-407b-aaf6-bfa3b7427493\">\n",
              "    <div class=\"colab-df-container\">\n",
              "      <div>\n",
              "<style scoped>\n",
              "    .dataframe tbody tr th:only-of-type {\n",
              "        vertical-align: middle;\n",
              "    }\n",
              "\n",
              "    .dataframe tbody tr th {\n",
              "        vertical-align: top;\n",
              "    }\n",
              "\n",
              "    .dataframe thead th {\n",
              "        text-align: right;\n",
              "    }\n",
              "</style>\n",
              "<table border=\"1\" class=\"dataframe\">\n",
              "  <thead>\n",
              "    <tr style=\"text-align: right;\">\n",
              "      <th></th>\n",
              "      <th>id</th>\n",
              "      <th>breed</th>\n",
              "      <th>image_path</th>\n",
              "    </tr>\n",
              "  </thead>\n",
              "  <tbody>\n",
              "    <tr>\n",
              "      <th>0</th>\n",
              "      <td>000bec180eb18c7604dcecc8fe0dba07</td>\n",
              "      <td>boston_bull</td>\n",
              "      <td>/content/dog_breed/train/000bec180eb18c7604dcecc8fe0dba07.jpg</td>\n",
              "    </tr>\n",
              "    <tr>\n",
              "      <th>1</th>\n",
              "      <td>001513dfcb2ffafc82cccf4d8bbaba97</td>\n",
              "      <td>dingo</td>\n",
              "      <td>/content/dog_breed/train/001513dfcb2ffafc82cccf4d8bbaba97.jpg</td>\n",
              "    </tr>\n",
              "    <tr>\n",
              "      <th>2</th>\n",
              "      <td>001cdf01b096e06d78e9e5112d419397</td>\n",
              "      <td>pekinese</td>\n",
              "      <td>/content/dog_breed/train/001cdf01b096e06d78e9e5112d419397.jpg</td>\n",
              "    </tr>\n",
              "    <tr>\n",
              "      <th>3</th>\n",
              "      <td>00214f311d5d2247d5dfe4fe24b2303d</td>\n",
              "      <td>bluetick</td>\n",
              "      <td>/content/dog_breed/train/00214f311d5d2247d5dfe4fe24b2303d.jpg</td>\n",
              "    </tr>\n",
              "    <tr>\n",
              "      <th>4</th>\n",
              "      <td>0021f9ceb3235effd7fcde7f7538ed62</td>\n",
              "      <td>golden_retriever</td>\n",
              "      <td>/content/dog_breed/train/0021f9ceb3235effd7fcde7f7538ed62.jpg</td>\n",
              "    </tr>\n",
              "  </tbody>\n",
              "</table>\n",
              "</div>\n",
              "      <button class=\"colab-df-convert\" onclick=\"convertToInteractive('df-474a1295-cc60-407b-aaf6-bfa3b7427493')\"\n",
              "              title=\"Convert this dataframe to an interactive table.\"\n",
              "              style=\"display:none;\">\n",
              "        \n",
              "  <svg xmlns=\"http://www.w3.org/2000/svg\" height=\"24px\"viewBox=\"0 0 24 24\"\n",
              "       width=\"24px\">\n",
              "    <path d=\"M0 0h24v24H0V0z\" fill=\"none\"/>\n",
              "    <path d=\"M18.56 5.44l.94 2.06.94-2.06 2.06-.94-2.06-.94-.94-2.06-.94 2.06-2.06.94zm-11 1L8.5 8.5l.94-2.06 2.06-.94-2.06-.94L8.5 2.5l-.94 2.06-2.06.94zm10 10l.94 2.06.94-2.06 2.06-.94-2.06-.94-.94-2.06-.94 2.06-2.06.94z\"/><path d=\"M17.41 7.96l-1.37-1.37c-.4-.4-.92-.59-1.43-.59-.52 0-1.04.2-1.43.59L10.3 9.45l-7.72 7.72c-.78.78-.78 2.05 0 2.83L4 21.41c.39.39.9.59 1.41.59.51 0 1.02-.2 1.41-.59l7.78-7.78 2.81-2.81c.8-.78.8-2.07 0-2.86zM5.41 20L4 18.59l7.72-7.72 1.47 1.35L5.41 20z\"/>\n",
              "  </svg>\n",
              "      </button>\n",
              "      \n",
              "  <style>\n",
              "    .colab-df-container {\n",
              "      display:flex;\n",
              "      flex-wrap:wrap;\n",
              "      gap: 12px;\n",
              "    }\n",
              "\n",
              "    .colab-df-convert {\n",
              "      background-color: #E8F0FE;\n",
              "      border: none;\n",
              "      border-radius: 50%;\n",
              "      cursor: pointer;\n",
              "      display: none;\n",
              "      fill: #1967D2;\n",
              "      height: 32px;\n",
              "      padding: 0 0 0 0;\n",
              "      width: 32px;\n",
              "    }\n",
              "\n",
              "    .colab-df-convert:hover {\n",
              "      background-color: #E2EBFA;\n",
              "      box-shadow: 0px 1px 2px rgba(60, 64, 67, 0.3), 0px 1px 3px 1px rgba(60, 64, 67, 0.15);\n",
              "      fill: #174EA6;\n",
              "    }\n",
              "\n",
              "    [theme=dark] .colab-df-convert {\n",
              "      background-color: #3B4455;\n",
              "      fill: #D2E3FC;\n",
              "    }\n",
              "\n",
              "    [theme=dark] .colab-df-convert:hover {\n",
              "      background-color: #434B5C;\n",
              "      box-shadow: 0px 1px 3px 1px rgba(0, 0, 0, 0.15);\n",
              "      filter: drop-shadow(0px 1px 2px rgba(0, 0, 0, 0.3));\n",
              "      fill: #FFFFFF;\n",
              "    }\n",
              "  </style>\n",
              "\n",
              "      <script>\n",
              "        const buttonEl =\n",
              "          document.querySelector('#df-474a1295-cc60-407b-aaf6-bfa3b7427493 button.colab-df-convert');\n",
              "        buttonEl.style.display =\n",
              "          google.colab.kernel.accessAllowed ? 'block' : 'none';\n",
              "\n",
              "        async function convertToInteractive(key) {\n",
              "          const element = document.querySelector('#df-474a1295-cc60-407b-aaf6-bfa3b7427493');\n",
              "          const dataTable =\n",
              "            await google.colab.kernel.invokeFunction('convertToInteractive',\n",
              "                                                     [key], {});\n",
              "          if (!dataTable) return;\n",
              "\n",
              "          const docLinkHtml = 'Like what you see? Visit the ' +\n",
              "            '<a target=\"_blank\" href=https://colab.research.google.com/notebooks/data_table.ipynb>data table notebook</a>'\n",
              "            + ' to learn more about interactive tables.';\n",
              "          element.innerHTML = '';\n",
              "          dataTable['output_type'] = 'display_data';\n",
              "          await google.colab.output.renderOutput(dataTable, element);\n",
              "          const docLink = document.createElement('div');\n",
              "          docLink.innerHTML = docLinkHtml;\n",
              "          element.appendChild(docLink);\n",
              "        }\n",
              "      </script>\n",
              "    </div>\n",
              "  </div>\n",
              "  "
            ]
          },
          "metadata": {},
          "execution_count": 16
        }
      ],
      "source": [
        "data_labels['image_path'] = data_labels.apply( lambda row: (train_folder + row[\"id\"] + \".jpg\" ), axis=1)\n",
        "data_labels.head()"
      ]
    },
    {
      "cell_type": "markdown",
      "source": [
        "# 17. Prepare Train-Test Datasets\n",
        " We use a 70-30 split to prepare the two dataset.\n",
        " convert images data into numpy arrays"
      ],
      "metadata": {
        "id": "WlNCLj171P6q"
      },
      "id": "WlNCLj171P6q"
    },
    {
      "cell_type": "code",
      "execution_count": 17,
      "id": "f3e85818",
      "metadata": {
        "id": "f3e85818"
      },
      "outputs": [],
      "source": [
        "train_data = np.array([img_to_array(\n",
        "                            load_img(img, \n",
        "                                     target_size=(224, 224))\n",
        "                       ) for img \n",
        "                           in data_labels['image_path'].values.tolist()\n",
        "                      ]).astype('float32')"
      ]
    },
    {
      "cell_type": "markdown",
      "source": [
        "#18. check the shape of data"
      ],
      "metadata": {
        "id": "4W3ny-0_1Tds"
      },
      "id": "4W3ny-0_1Tds"
    },
    {
      "cell_type": "code",
      "execution_count": 18,
      "id": "cfa1a4a0",
      "metadata": {
        "id": "cfa1a4a0",
        "outputId": "d0d1c59a-82b2-4806-e9a7-fee98b5e7d0a",
        "colab": {
          "base_uri": "https://localhost:8080/"
        }
      },
      "outputs": [
        {
          "output_type": "execute_result",
          "data": {
            "text/plain": [
              "(2000, 224, 224, 3)"
            ]
          },
          "metadata": {},
          "execution_count": 18
        }
      ],
      "source": [
        "train_data.shape"
      ]
    },
    {
      "cell_type": "markdown",
      "source": [
        "#19. divide the data into training and testing"
      ],
      "metadata": {
        "id": "4ExBTes_1aMW"
      },
      "id": "4ExBTes_1aMW"
    },
    {
      "cell_type": "code",
      "execution_count": 19,
      "id": "33fb51b5",
      "metadata": {
        "id": "33fb51b5"
      },
      "outputs": [],
      "source": [
        "x_train, x_test, y_train, y_test = train_test_split(train_data, \n",
        "                                                    target_labels, \n",
        "                                                    test_size=0.3, \n",
        "                                                    stratify=np.array(target_labels), \n",
        "                                                    random_state=42)"
      ]
    },
    {
      "cell_type": "markdown",
      "source": [
        "# 20. check shape of training and testing data"
      ],
      "metadata": {
        "id": "MwjMqq7Q1ktY"
      },
      "id": "MwjMqq7Q1ktY"
    },
    {
      "cell_type": "code",
      "execution_count": 20,
      "id": "dff39c4a",
      "metadata": {
        "id": "dff39c4a",
        "outputId": "67ed2e04-1bfa-4cf1-d4b9-34fdd8d7f5c4",
        "colab": {
          "base_uri": "https://localhost:8080/"
        }
      },
      "outputs": [
        {
          "output_type": "execute_result",
          "data": {
            "text/plain": [
              "((1400, 224, 224, 3), (600, 224, 224, 3))"
            ]
          },
          "metadata": {},
          "execution_count": 20
        }
      ],
      "source": [
        "x_train.shape, x_test.shape"
      ]
    },
    {
      "cell_type": "markdown",
      "source": [
        "#21.  Prepare training and validation data from training data"
      ],
      "metadata": {
        "id": "R0gNFu0K1nmW"
      },
      "id": "R0gNFu0K1nmW"
    },
    {
      "cell_type": "code",
      "execution_count": 21,
      "id": "72cd16ac",
      "metadata": {
        "id": "72cd16ac"
      },
      "outputs": [],
      "source": [
        "x_train, x_val, y_train, y_val = train_test_split(x_train, \n",
        "                                                    y_train, \n",
        "                                                    test_size=0.15, \n",
        "                                                    stratify=np.array(y_train), \n",
        "                                                    random_state=42)\n"
      ]
    },
    {
      "cell_type": "markdown",
      "source": [
        "#22. check shape of training and validation data"
      ],
      "metadata": {
        "id": "hKs3I2Lz3RTh"
      },
      "id": "hKs3I2Lz3RTh"
    },
    {
      "cell_type": "code",
      "source": [
        "x_train.shape, x_val.shape"
      ],
      "metadata": {
        "id": "HRPwusV93QkK",
        "outputId": "a133c058-1a28-4e9b-95c1-1578b2ff1615",
        "colab": {
          "base_uri": "https://localhost:8080/"
        }
      },
      "id": "HRPwusV93QkK",
      "execution_count": 22,
      "outputs": [
        {
          "output_type": "execute_result",
          "data": {
            "text/plain": [
              "((1190, 224, 224, 3), (210, 224, 224, 3))"
            ]
          },
          "metadata": {},
          "execution_count": 22
        }
      ]
    },
    {
      "cell_type": "markdown",
      "source": [
        "#23. Prepare target variables for train, test and validation datasets\n",
        "\n",
        "for Training labels"
      ],
      "metadata": {
        "id": "JVR-kuS91zOw"
      },
      "id": "JVR-kuS91zOw"
    },
    {
      "cell_type": "code",
      "source": [
        "y_train_ohe = pd.get_dummies(y_train, sparse=True)\n",
        "y_train_ohe = np.asarray(y_train_ohe)"
      ],
      "metadata": {
        "id": "AecHXPms3hTf"
      },
      "id": "AecHXPms3hTf",
      "execution_count": 23,
      "outputs": []
    },
    {
      "cell_type": "markdown",
      "source": [
        "# 24. for testing labels"
      ],
      "metadata": {
        "id": "qqRtZfHY3iMN"
      },
      "id": "qqRtZfHY3iMN"
    },
    {
      "cell_type": "code",
      "source": [
        "y_test_ohe = pd.get_dummies(y_test, sparse=True)\n",
        "y_test_ohe = np.asarray(y_test_ohe)"
      ],
      "metadata": {
        "id": "au5QvX-Y3mne"
      },
      "id": "au5QvX-Y3mne",
      "execution_count": 24,
      "outputs": []
    },
    {
      "cell_type": "markdown",
      "source": [
        "#25. For validation labels"
      ],
      "metadata": {
        "id": "JfJ4Ytzp3oZy"
      },
      "id": "JfJ4Ytzp3oZy"
    },
    {
      "cell_type": "code",
      "execution_count": 25,
      "id": "1311d562",
      "metadata": {
        "id": "1311d562"
      },
      "outputs": [],
      "source": [
        "y_val_ohe = pd.get_dummies(y_val, sparse=True)\n",
        "y_val_ohe = np.asarray(y_val_ohe)\n",
        "\n"
      ]
    },
    {
      "cell_type": "markdown",
      "source": [
        "#26. check shape of all labels"
      ],
      "metadata": {
        "id": "pMn1yYE23v0J"
      },
      "id": "pMn1yYE23v0J"
    },
    {
      "cell_type": "code",
      "source": [
        "y_train_ohe.shape, y_test_ohe.shape, y_val_ohe.shape"
      ],
      "metadata": {
        "id": "juIFzs9E30EK",
        "outputId": "8fa94b57-b171-44d3-d347-527c88166c8a",
        "colab": {
          "base_uri": "https://localhost:8080/"
        }
      },
      "id": "juIFzs9E30EK",
      "execution_count": 26,
      "outputs": [
        {
          "output_type": "execute_result",
          "data": {
            "text/plain": [
              "((1190, 120), (600, 120), (210, 120))"
            ]
          },
          "metadata": {},
          "execution_count": 26
        }
      ]
    },
    {
      "cell_type": "markdown",
      "source": [
        "#27. define batch size "
      ],
      "metadata": {
        "id": "YdDaNJkb4Amr"
      },
      "id": "YdDaNJkb4Amr"
    },
    {
      "cell_type": "code",
      "execution_count": 27,
      "id": "15bbbf01",
      "metadata": {
        "id": "15bbbf01"
      },
      "outputs": [],
      "source": [
        "BATCH_SIZE = 12"
      ]
    },
    {
      "cell_type": "markdown",
      "source": [
        "# Data Augmentation\n",
        "Since number of samples per class are not very high, we utilize data augmentation to prepare different variations of different samples available. We do this using the ImageDataGenerator utility from keras"
      ],
      "metadata": {
        "id": "gtu1mYPC16eH"
      },
      "id": "gtu1mYPC16eH"
    },
    {
      "cell_type": "markdown",
      "source": [
        "# 28. Create train generator."
      ],
      "metadata": {
        "id": "fBEu3OpT4G5O"
      },
      "id": "fBEu3OpT4G5O"
    },
    {
      "cell_type": "code",
      "execution_count": 28,
      "id": "dee50b0f",
      "metadata": {
        "id": "dee50b0f"
      },
      "outputs": [],
      "source": [
        "\n",
        "train_datagen = ImageDataGenerator(rescale=1./255, \n",
        "                                   rotation_range=30, \n",
        "                                   width_shift_range=0.2,\n",
        "                                   height_shift_range=0.2, \n",
        "                                   horizontal_flip = 'true')\n",
        "train_generator = train_datagen.flow(x_train, y_train_ohe, shuffle=False, batch_size=BATCH_SIZE, seed=1)"
      ]
    },
    {
      "cell_type": "markdown",
      "source": [
        "# 29. Create validation generator"
      ],
      "metadata": {
        "id": "Vl823qPN4M_L"
      },
      "id": "Vl823qPN4M_L"
    },
    {
      "cell_type": "code",
      "execution_count": 29,
      "id": "dac99f44",
      "metadata": {
        "id": "dac99f44"
      },
      "outputs": [],
      "source": [
        "\n",
        "val_datagen = ImageDataGenerator(rescale = 1./255)\n",
        "val_generator = train_datagen.flow(x_val, y_val_ohe, shuffle=False, batch_size=BATCH_SIZE, seed=1)"
      ]
    },
    {
      "cell_type": "markdown",
      "source": [
        "#30. Get the vgg16 model so we can do transfer learning"
      ],
      "metadata": {
        "id": "qUlafOTE3B7B"
      },
      "id": "qUlafOTE3B7B"
    },
    {
      "cell_type": "code",
      "execution_count": 30,
      "id": "d1e9c2e0",
      "metadata": {
        "id": "d1e9c2e0",
        "outputId": "88032e78-2a7b-4c9f-a376-b7c9ed807888",
        "colab": {
          "base_uri": "https://localhost:8080/"
        }
      },
      "outputs": [
        {
          "output_type": "stream",
          "name": "stdout",
          "text": [
            "Downloading data from https://storage.googleapis.com/tensorflow/keras-applications/vgg16/vgg16_weights_tf_dim_ordering_tf_kernels_notop.h5\n",
            "58892288/58889256 [==============================] - 0s 0us/step\n",
            "58900480/58889256 [==============================] - 0s 0us/step\n"
          ]
        }
      ],
      "source": [
        "\n",
        "base_vgg = VGG16(weights='imagenet', include_top = False, input_shape=(224, 224, 3))"
      ]
    },
    {
      "cell_type": "markdown",
      "source": [
        "# Using Readymade model without any fine tuning only change last layer i.e. classification layer"
      ],
      "metadata": {
        "id": "Mh3tZYII3ZPY"
      },
      "id": "Mh3tZYII3ZPY"
    },
    {
      "cell_type": "markdown",
      "source": [
        "#31. Add a global spatial average pooling layer"
      ],
      "metadata": {
        "id": "G-IzfQFV4f6o"
      },
      "id": "G-IzfQFV4f6o"
    },
    {
      "cell_type": "code",
      "execution_count": 31,
      "id": "43656785",
      "metadata": {
        "id": "43656785"
      },
      "outputs": [],
      "source": [
        "\n",
        "out = base_vgg.output\n",
        "out = GlobalAveragePooling2D()(out)\n",
        "out = Dense(512, activation='relu')(out)\n",
        "out = Dense(512, activation='relu')(out)\n",
        "total_classes = y_train_ohe.shape[1]\n",
        "predictions = Dense(total_classes, activation='softmax')(out)"
      ]
    },
    {
      "cell_type": "markdown",
      "source": [
        "#32. define model"
      ],
      "metadata": {
        "id": "5M69eI9h3Lga"
      },
      "id": "5M69eI9h3Lga"
    },
    {
      "cell_type": "code",
      "execution_count": 32,
      "id": "a730546a",
      "metadata": {
        "id": "a730546a"
      },
      "outputs": [],
      "source": [
        "model = Model(inputs=base_vgg.input, outputs=predictions)"
      ]
    },
    {
      "cell_type": "markdown",
      "source": [
        "#33. only if we want to freeze layers"
      ],
      "metadata": {
        "id": "XyICC___4uDh"
      },
      "id": "XyICC___4uDh"
    },
    {
      "cell_type": "code",
      "execution_count": 33,
      "id": "0abd8b5a",
      "metadata": {
        "id": "0abd8b5a"
      },
      "outputs": [],
      "source": [
        "\n",
        "for layer in base_vgg.layers:\n",
        "    layer.trainable = False"
      ]
    },
    {
      "cell_type": "markdown",
      "source": [
        "# 34. Compile the model"
      ],
      "metadata": {
        "id": "NTnU5Kc242kv"
      },
      "id": "NTnU5Kc242kv"
    },
    {
      "cell_type": "code",
      "execution_count": 34,
      "id": "006a4086",
      "metadata": {
        "id": "006a4086"
      },
      "outputs": [],
      "source": [
        " \n",
        "model.compile(Adam(lr=.0001), loss='categorical_crossentropy', metrics=['accuracy']) \n",
        "\n"
      ]
    },
    {
      "cell_type": "markdown",
      "source": [
        "#35. check model summary"
      ],
      "metadata": {
        "id": "K5u6Gxvi4-kN"
      },
      "id": "K5u6Gxvi4-kN"
    },
    {
      "cell_type": "code",
      "source": [
        "model.summary()"
      ],
      "metadata": {
        "id": "QcCjWO29496i",
        "outputId": "0d20ca15-4b7d-48de-e4bc-0ee7cc0a6822",
        "colab": {
          "base_uri": "https://localhost:8080/"
        }
      },
      "id": "QcCjWO29496i",
      "execution_count": 35,
      "outputs": [
        {
          "output_type": "stream",
          "name": "stdout",
          "text": [
            "Model: \"model\"\n",
            "_________________________________________________________________\n",
            " Layer (type)                Output Shape              Param #   \n",
            "=================================================================\n",
            " input_1 (InputLayer)        [(None, 224, 224, 3)]     0         \n",
            "                                                                 \n",
            " block1_conv1 (Conv2D)       (None, 224, 224, 64)      1792      \n",
            "                                                                 \n",
            " block1_conv2 (Conv2D)       (None, 224, 224, 64)      36928     \n",
            "                                                                 \n",
            " block1_pool (MaxPooling2D)  (None, 112, 112, 64)      0         \n",
            "                                                                 \n",
            " block2_conv1 (Conv2D)       (None, 112, 112, 128)     73856     \n",
            "                                                                 \n",
            " block2_conv2 (Conv2D)       (None, 112, 112, 128)     147584    \n",
            "                                                                 \n",
            " block2_pool (MaxPooling2D)  (None, 56, 56, 128)       0         \n",
            "                                                                 \n",
            " block3_conv1 (Conv2D)       (None, 56, 56, 256)       295168    \n",
            "                                                                 \n",
            " block3_conv2 (Conv2D)       (None, 56, 56, 256)       590080    \n",
            "                                                                 \n",
            " block3_conv3 (Conv2D)       (None, 56, 56, 256)       590080    \n",
            "                                                                 \n",
            " block3_pool (MaxPooling2D)  (None, 28, 28, 256)       0         \n",
            "                                                                 \n",
            " block4_conv1 (Conv2D)       (None, 28, 28, 512)       1180160   \n",
            "                                                                 \n",
            " block4_conv2 (Conv2D)       (None, 28, 28, 512)       2359808   \n",
            "                                                                 \n",
            " block4_conv3 (Conv2D)       (None, 28, 28, 512)       2359808   \n",
            "                                                                 \n",
            " block4_pool (MaxPooling2D)  (None, 14, 14, 512)       0         \n",
            "                                                                 \n",
            " block5_conv1 (Conv2D)       (None, 14, 14, 512)       2359808   \n",
            "                                                                 \n",
            " block5_conv2 (Conv2D)       (None, 14, 14, 512)       2359808   \n",
            "                                                                 \n",
            " block5_conv3 (Conv2D)       (None, 14, 14, 512)       2359808   \n",
            "                                                                 \n",
            " block5_pool (MaxPooling2D)  (None, 7, 7, 512)         0         \n",
            "                                                                 \n",
            " global_average_pooling2d (G  (None, 512)              0         \n",
            " lobalAveragePooling2D)                                          \n",
            "                                                                 \n",
            " dense (Dense)               (None, 512)               262656    \n",
            "                                                                 \n",
            " dense_1 (Dense)             (None, 512)               262656    \n",
            "                                                                 \n",
            " dense_2 (Dense)             (None, 120)               61560     \n",
            "                                                                 \n",
            "=================================================================\n",
            "Total params: 15,301,560\n",
            "Trainable params: 586,872\n",
            "Non-trainable params: 14,714,688\n",
            "_________________________________________________________________\n"
          ]
        }
      ]
    },
    {
      "cell_type": "markdown",
      "source": [
        "#36. Train the model"
      ],
      "metadata": {
        "id": "ApK_LCSr5GzH"
      },
      "id": "ApK_LCSr5GzH"
    },
    {
      "cell_type": "code",
      "execution_count": 37,
      "id": "3ef7b625",
      "metadata": {
        "id": "3ef7b625",
        "outputId": "b053ca25-5c3c-49df-e3af-3f8d2cac7fe0",
        "colab": {
          "base_uri": "https://localhost:8080/",
          "height": 392
        }
      },
      "outputs": [
        {
          "output_type": "stream",
          "name": "stdout",
          "text": [
            "Epoch 1/100\n",
            "91/99 [==========================>...] - ETA: 1s - loss: 3.7143 - accuracy: 0.1784"
          ]
        },
        {
          "output_type": "error",
          "ename": "KeyboardInterrupt",
          "evalue": "ignored",
          "traceback": [
            "\u001b[0;31m---------------------------------------------------------------------------\u001b[0m",
            "\u001b[0;31mKeyboardInterrupt\u001b[0m                         Traceback (most recent call last)",
            "\u001b[0;32m<ipython-input-37-ae98f77a98b8>\u001b[0m in \u001b[0;36m<module>\u001b[0;34m()\u001b[0m\n\u001b[1;32m      9\u001b[0m                               \u001b[0mvalidation_steps\u001b[0m\u001b[0;34m=\u001b[0m\u001b[0mval_steps_per_epoch\u001b[0m\u001b[0;34m,\u001b[0m\u001b[0;34m\u001b[0m\u001b[0;34m\u001b[0m\u001b[0m\n\u001b[1;32m     10\u001b[0m                               \u001b[0mepochs\u001b[0m\u001b[0;34m=\u001b[0m\u001b[0;36m100\u001b[0m\u001b[0;34m,\u001b[0m\u001b[0;34m\u001b[0m\u001b[0;34m\u001b[0m\u001b[0m\n\u001b[0;32m---> 11\u001b[0;31m                               verbose=1)\n\u001b[0m",
            "\u001b[0;32m/usr/local/lib/python3.7/dist-packages/keras/engine/training.py\u001b[0m in \u001b[0;36mfit_generator\u001b[0;34m(self, generator, steps_per_epoch, epochs, verbose, callbacks, validation_data, validation_steps, validation_freq, class_weight, max_queue_size, workers, use_multiprocessing, shuffle, initial_epoch)\u001b[0m\n\u001b[1;32m   2221\u001b[0m         \u001b[0muse_multiprocessing\u001b[0m\u001b[0;34m=\u001b[0m\u001b[0muse_multiprocessing\u001b[0m\u001b[0;34m,\u001b[0m\u001b[0;34m\u001b[0m\u001b[0;34m\u001b[0m\u001b[0m\n\u001b[1;32m   2222\u001b[0m         \u001b[0mshuffle\u001b[0m\u001b[0;34m=\u001b[0m\u001b[0mshuffle\u001b[0m\u001b[0;34m,\u001b[0m\u001b[0;34m\u001b[0m\u001b[0;34m\u001b[0m\u001b[0m\n\u001b[0;32m-> 2223\u001b[0;31m         initial_epoch=initial_epoch)\n\u001b[0m\u001b[1;32m   2224\u001b[0m \u001b[0;34m\u001b[0m\u001b[0m\n\u001b[1;32m   2225\u001b[0m   \u001b[0;34m@\u001b[0m\u001b[0mdoc_controls\u001b[0m\u001b[0;34m.\u001b[0m\u001b[0mdo_not_generate_docs\u001b[0m\u001b[0;34m\u001b[0m\u001b[0;34m\u001b[0m\u001b[0m\n",
            "\u001b[0;32m/usr/local/lib/python3.7/dist-packages/keras/utils/traceback_utils.py\u001b[0m in \u001b[0;36merror_handler\u001b[0;34m(*args, **kwargs)\u001b[0m\n\u001b[1;32m     62\u001b[0m     \u001b[0mfiltered_tb\u001b[0m \u001b[0;34m=\u001b[0m \u001b[0;32mNone\u001b[0m\u001b[0;34m\u001b[0m\u001b[0;34m\u001b[0m\u001b[0m\n\u001b[1;32m     63\u001b[0m     \u001b[0;32mtry\u001b[0m\u001b[0;34m:\u001b[0m\u001b[0;34m\u001b[0m\u001b[0;34m\u001b[0m\u001b[0m\n\u001b[0;32m---> 64\u001b[0;31m       \u001b[0;32mreturn\u001b[0m \u001b[0mfn\u001b[0m\u001b[0;34m(\u001b[0m\u001b[0;34m*\u001b[0m\u001b[0margs\u001b[0m\u001b[0;34m,\u001b[0m \u001b[0;34m**\u001b[0m\u001b[0mkwargs\u001b[0m\u001b[0;34m)\u001b[0m\u001b[0;34m\u001b[0m\u001b[0;34m\u001b[0m\u001b[0m\n\u001b[0m\u001b[1;32m     65\u001b[0m     \u001b[0;32mexcept\u001b[0m \u001b[0mException\u001b[0m \u001b[0;32mas\u001b[0m \u001b[0me\u001b[0m\u001b[0;34m:\u001b[0m  \u001b[0;31m# pylint: disable=broad-except\u001b[0m\u001b[0;34m\u001b[0m\u001b[0;34m\u001b[0m\u001b[0m\n\u001b[1;32m     66\u001b[0m       \u001b[0mfiltered_tb\u001b[0m \u001b[0;34m=\u001b[0m \u001b[0m_process_traceback_frames\u001b[0m\u001b[0;34m(\u001b[0m\u001b[0me\u001b[0m\u001b[0;34m.\u001b[0m\u001b[0m__traceback__\u001b[0m\u001b[0;34m)\u001b[0m\u001b[0;34m\u001b[0m\u001b[0;34m\u001b[0m\u001b[0m\n",
            "\u001b[0;32m/usr/local/lib/python3.7/dist-packages/keras/engine/training.py\u001b[0m in \u001b[0;36mfit\u001b[0;34m(self, x, y, batch_size, epochs, verbose, callbacks, validation_split, validation_data, shuffle, class_weight, sample_weight, initial_epoch, steps_per_epoch, validation_steps, validation_batch_size, validation_freq, max_queue_size, workers, use_multiprocessing)\u001b[0m\n\u001b[1;32m   1382\u001b[0m                 _r=1):\n\u001b[1;32m   1383\u001b[0m               \u001b[0mcallbacks\u001b[0m\u001b[0;34m.\u001b[0m\u001b[0mon_train_batch_begin\u001b[0m\u001b[0;34m(\u001b[0m\u001b[0mstep\u001b[0m\u001b[0;34m)\u001b[0m\u001b[0;34m\u001b[0m\u001b[0;34m\u001b[0m\u001b[0m\n\u001b[0;32m-> 1384\u001b[0;31m               \u001b[0mtmp_logs\u001b[0m \u001b[0;34m=\u001b[0m \u001b[0mself\u001b[0m\u001b[0;34m.\u001b[0m\u001b[0mtrain_function\u001b[0m\u001b[0;34m(\u001b[0m\u001b[0miterator\u001b[0m\u001b[0;34m)\u001b[0m\u001b[0;34m\u001b[0m\u001b[0;34m\u001b[0m\u001b[0m\n\u001b[0m\u001b[1;32m   1385\u001b[0m               \u001b[0;32mif\u001b[0m \u001b[0mdata_handler\u001b[0m\u001b[0;34m.\u001b[0m\u001b[0mshould_sync\u001b[0m\u001b[0;34m:\u001b[0m\u001b[0;34m\u001b[0m\u001b[0;34m\u001b[0m\u001b[0m\n\u001b[1;32m   1386\u001b[0m                 \u001b[0mcontext\u001b[0m\u001b[0;34m.\u001b[0m\u001b[0masync_wait\u001b[0m\u001b[0;34m(\u001b[0m\u001b[0;34m)\u001b[0m\u001b[0;34m\u001b[0m\u001b[0;34m\u001b[0m\u001b[0m\n",
            "\u001b[0;32m/usr/local/lib/python3.7/dist-packages/tensorflow/python/util/traceback_utils.py\u001b[0m in \u001b[0;36merror_handler\u001b[0;34m(*args, **kwargs)\u001b[0m\n\u001b[1;32m    148\u001b[0m     \u001b[0mfiltered_tb\u001b[0m \u001b[0;34m=\u001b[0m \u001b[0;32mNone\u001b[0m\u001b[0;34m\u001b[0m\u001b[0;34m\u001b[0m\u001b[0m\n\u001b[1;32m    149\u001b[0m     \u001b[0;32mtry\u001b[0m\u001b[0;34m:\u001b[0m\u001b[0;34m\u001b[0m\u001b[0;34m\u001b[0m\u001b[0m\n\u001b[0;32m--> 150\u001b[0;31m       \u001b[0;32mreturn\u001b[0m \u001b[0mfn\u001b[0m\u001b[0;34m(\u001b[0m\u001b[0;34m*\u001b[0m\u001b[0margs\u001b[0m\u001b[0;34m,\u001b[0m \u001b[0;34m**\u001b[0m\u001b[0mkwargs\u001b[0m\u001b[0;34m)\u001b[0m\u001b[0;34m\u001b[0m\u001b[0;34m\u001b[0m\u001b[0m\n\u001b[0m\u001b[1;32m    151\u001b[0m     \u001b[0;32mexcept\u001b[0m \u001b[0mException\u001b[0m \u001b[0;32mas\u001b[0m \u001b[0me\u001b[0m\u001b[0;34m:\u001b[0m\u001b[0;34m\u001b[0m\u001b[0;34m\u001b[0m\u001b[0m\n\u001b[1;32m    152\u001b[0m       \u001b[0mfiltered_tb\u001b[0m \u001b[0;34m=\u001b[0m \u001b[0m_process_traceback_frames\u001b[0m\u001b[0;34m(\u001b[0m\u001b[0me\u001b[0m\u001b[0;34m.\u001b[0m\u001b[0m__traceback__\u001b[0m\u001b[0;34m)\u001b[0m\u001b[0;34m\u001b[0m\u001b[0;34m\u001b[0m\u001b[0m\n",
            "\u001b[0;32m/usr/local/lib/python3.7/dist-packages/tensorflow/python/eager/def_function.py\u001b[0m in \u001b[0;36m__call__\u001b[0;34m(self, *args, **kwds)\u001b[0m\n\u001b[1;32m    913\u001b[0m \u001b[0;34m\u001b[0m\u001b[0m\n\u001b[1;32m    914\u001b[0m       \u001b[0;32mwith\u001b[0m \u001b[0mOptionalXlaContext\u001b[0m\u001b[0;34m(\u001b[0m\u001b[0mself\u001b[0m\u001b[0;34m.\u001b[0m\u001b[0m_jit_compile\u001b[0m\u001b[0;34m)\u001b[0m\u001b[0;34m:\u001b[0m\u001b[0;34m\u001b[0m\u001b[0;34m\u001b[0m\u001b[0m\n\u001b[0;32m--> 915\u001b[0;31m         \u001b[0mresult\u001b[0m \u001b[0;34m=\u001b[0m \u001b[0mself\u001b[0m\u001b[0;34m.\u001b[0m\u001b[0m_call\u001b[0m\u001b[0;34m(\u001b[0m\u001b[0;34m*\u001b[0m\u001b[0margs\u001b[0m\u001b[0;34m,\u001b[0m \u001b[0;34m**\u001b[0m\u001b[0mkwds\u001b[0m\u001b[0;34m)\u001b[0m\u001b[0;34m\u001b[0m\u001b[0;34m\u001b[0m\u001b[0m\n\u001b[0m\u001b[1;32m    916\u001b[0m \u001b[0;34m\u001b[0m\u001b[0m\n\u001b[1;32m    917\u001b[0m       \u001b[0mnew_tracing_count\u001b[0m \u001b[0;34m=\u001b[0m \u001b[0mself\u001b[0m\u001b[0;34m.\u001b[0m\u001b[0mexperimental_get_tracing_count\u001b[0m\u001b[0;34m(\u001b[0m\u001b[0;34m)\u001b[0m\u001b[0;34m\u001b[0m\u001b[0;34m\u001b[0m\u001b[0m\n",
            "\u001b[0;32m/usr/local/lib/python3.7/dist-packages/tensorflow/python/eager/def_function.py\u001b[0m in \u001b[0;36m_call\u001b[0;34m(self, *args, **kwds)\u001b[0m\n\u001b[1;32m    945\u001b[0m       \u001b[0;31m# In this case we have created variables on the first call, so we run the\u001b[0m\u001b[0;34m\u001b[0m\u001b[0;34m\u001b[0m\u001b[0;34m\u001b[0m\u001b[0m\n\u001b[1;32m    946\u001b[0m       \u001b[0;31m# defunned version which is guaranteed to never create variables.\u001b[0m\u001b[0;34m\u001b[0m\u001b[0;34m\u001b[0m\u001b[0;34m\u001b[0m\u001b[0m\n\u001b[0;32m--> 947\u001b[0;31m       \u001b[0;32mreturn\u001b[0m \u001b[0mself\u001b[0m\u001b[0;34m.\u001b[0m\u001b[0m_stateless_fn\u001b[0m\u001b[0;34m(\u001b[0m\u001b[0;34m*\u001b[0m\u001b[0margs\u001b[0m\u001b[0;34m,\u001b[0m \u001b[0;34m**\u001b[0m\u001b[0mkwds\u001b[0m\u001b[0;34m)\u001b[0m  \u001b[0;31m# pylint: disable=not-callable\u001b[0m\u001b[0;34m\u001b[0m\u001b[0;34m\u001b[0m\u001b[0m\n\u001b[0m\u001b[1;32m    948\u001b[0m     \u001b[0;32melif\u001b[0m \u001b[0mself\u001b[0m\u001b[0;34m.\u001b[0m\u001b[0m_stateful_fn\u001b[0m \u001b[0;32mis\u001b[0m \u001b[0;32mnot\u001b[0m \u001b[0;32mNone\u001b[0m\u001b[0;34m:\u001b[0m\u001b[0;34m\u001b[0m\u001b[0;34m\u001b[0m\u001b[0m\n\u001b[1;32m    949\u001b[0m       \u001b[0;31m# Release the lock early so that multiple threads can perform the call\u001b[0m\u001b[0;34m\u001b[0m\u001b[0;34m\u001b[0m\u001b[0;34m\u001b[0m\u001b[0m\n",
            "\u001b[0;32m/usr/local/lib/python3.7/dist-packages/tensorflow/python/eager/function.py\u001b[0m in \u001b[0;36m__call__\u001b[0;34m(self, *args, **kwargs)\u001b[0m\n\u001b[1;32m   2955\u001b[0m        filtered_flat_args) = self._maybe_define_function(args, kwargs)\n\u001b[1;32m   2956\u001b[0m     return graph_function._call_flat(\n\u001b[0;32m-> 2957\u001b[0;31m         filtered_flat_args, captured_inputs=graph_function.captured_inputs)  # pylint: disable=protected-access\n\u001b[0m\u001b[1;32m   2958\u001b[0m \u001b[0;34m\u001b[0m\u001b[0m\n\u001b[1;32m   2959\u001b[0m   \u001b[0;34m@\u001b[0m\u001b[0mproperty\u001b[0m\u001b[0;34m\u001b[0m\u001b[0;34m\u001b[0m\u001b[0m\n",
            "\u001b[0;32m/usr/local/lib/python3.7/dist-packages/tensorflow/python/eager/function.py\u001b[0m in \u001b[0;36m_call_flat\u001b[0;34m(self, args, captured_inputs, cancellation_manager)\u001b[0m\n\u001b[1;32m   1852\u001b[0m       \u001b[0;31m# No tape is watching; skip to running the function.\u001b[0m\u001b[0;34m\u001b[0m\u001b[0;34m\u001b[0m\u001b[0;34m\u001b[0m\u001b[0m\n\u001b[1;32m   1853\u001b[0m       return self._build_call_outputs(self._inference_function.call(\n\u001b[0;32m-> 1854\u001b[0;31m           ctx, args, cancellation_manager=cancellation_manager))\n\u001b[0m\u001b[1;32m   1855\u001b[0m     forward_backward = self._select_forward_and_backward_functions(\n\u001b[1;32m   1856\u001b[0m         \u001b[0margs\u001b[0m\u001b[0;34m,\u001b[0m\u001b[0;34m\u001b[0m\u001b[0;34m\u001b[0m\u001b[0m\n",
            "\u001b[0;32m/usr/local/lib/python3.7/dist-packages/tensorflow/python/eager/function.py\u001b[0m in \u001b[0;36mcall\u001b[0;34m(self, ctx, args, cancellation_manager)\u001b[0m\n\u001b[1;32m    502\u001b[0m               \u001b[0minputs\u001b[0m\u001b[0;34m=\u001b[0m\u001b[0margs\u001b[0m\u001b[0;34m,\u001b[0m\u001b[0;34m\u001b[0m\u001b[0;34m\u001b[0m\u001b[0m\n\u001b[1;32m    503\u001b[0m               \u001b[0mattrs\u001b[0m\u001b[0;34m=\u001b[0m\u001b[0mattrs\u001b[0m\u001b[0;34m,\u001b[0m\u001b[0;34m\u001b[0m\u001b[0;34m\u001b[0m\u001b[0m\n\u001b[0;32m--> 504\u001b[0;31m               ctx=ctx)\n\u001b[0m\u001b[1;32m    505\u001b[0m         \u001b[0;32melse\u001b[0m\u001b[0;34m:\u001b[0m\u001b[0;34m\u001b[0m\u001b[0;34m\u001b[0m\u001b[0m\n\u001b[1;32m    506\u001b[0m           outputs = execute.execute_with_cancellation(\n",
            "\u001b[0;32m/usr/local/lib/python3.7/dist-packages/tensorflow/python/eager/execute.py\u001b[0m in \u001b[0;36mquick_execute\u001b[0;34m(op_name, num_outputs, inputs, attrs, ctx, name)\u001b[0m\n\u001b[1;32m     53\u001b[0m     \u001b[0mctx\u001b[0m\u001b[0;34m.\u001b[0m\u001b[0mensure_initialized\u001b[0m\u001b[0;34m(\u001b[0m\u001b[0;34m)\u001b[0m\u001b[0;34m\u001b[0m\u001b[0;34m\u001b[0m\u001b[0m\n\u001b[1;32m     54\u001b[0m     tensors = pywrap_tfe.TFE_Py_Execute(ctx._handle, device_name, op_name,\n\u001b[0;32m---> 55\u001b[0;31m                                         inputs, attrs, num_outputs)\n\u001b[0m\u001b[1;32m     56\u001b[0m   \u001b[0;32mexcept\u001b[0m \u001b[0mcore\u001b[0m\u001b[0;34m.\u001b[0m\u001b[0m_NotOkStatusException\u001b[0m \u001b[0;32mas\u001b[0m \u001b[0me\u001b[0m\u001b[0;34m:\u001b[0m\u001b[0;34m\u001b[0m\u001b[0;34m\u001b[0m\u001b[0m\n\u001b[1;32m     57\u001b[0m     \u001b[0;32mif\u001b[0m \u001b[0mname\u001b[0m \u001b[0;32mis\u001b[0m \u001b[0;32mnot\u001b[0m \u001b[0;32mNone\u001b[0m\u001b[0;34m:\u001b[0m\u001b[0;34m\u001b[0m\u001b[0;34m\u001b[0m\u001b[0m\n",
            "\u001b[0;31mKeyboardInterrupt\u001b[0m: "
          ]
        }
      ],
      "source": [
        "\n",
        "batch_size = BATCH_SIZE\n",
        "train_steps_per_epoch = x_train.shape[0] // batch_size\n",
        "val_steps_per_epoch = x_val.shape[0] // batch_size\n",
        "\n",
        "history = model.fit_generator(train_generator,\n",
        "                              steps_per_epoch=train_steps_per_epoch,\n",
        "                              validation_data=val_generator,\n",
        "                              validation_steps=val_steps_per_epoch,\n",
        "                              epochs=100,\n",
        "                              verbose=1)"
      ]
    },
    {
      "cell_type": "markdown",
      "source": [
        "#37. save the model"
      ],
      "metadata": {
        "id": "HcYVSZ5S5N9K"
      },
      "id": "HcYVSZ5S5N9K"
    },
    {
      "cell_type": "code",
      "execution_count": null,
      "id": "ed82e021",
      "metadata": {
        "id": "ed82e021"
      },
      "outputs": [],
      "source": [
        "model.save('dog_breed_vgg16.hdf5')"
      ]
    },
    {
      "cell_type": "markdown",
      "source": [
        "#38. Plot the results"
      ],
      "metadata": {
        "id": "ue2lWynA5WT3"
      },
      "id": "ue2lWynA5WT3"
    },
    {
      "cell_type": "code",
      "execution_count": 38,
      "id": "6febe275",
      "metadata": {
        "id": "6febe275",
        "outputId": "b9d606ec-5109-45bf-b616-c26e18a993ca",
        "colab": {
          "base_uri": "https://localhost:8080/",
          "height": 294
        }
      },
      "outputs": [
        {
          "output_type": "error",
          "ename": "NameError",
          "evalue": "ignored",
          "traceback": [
            "\u001b[0;31m---------------------------------------------------------------------------\u001b[0m",
            "\u001b[0;31mNameError\u001b[0m                                 Traceback (most recent call last)",
            "\u001b[0;32m<ipython-input-38-c47d02db888f>\u001b[0m in \u001b[0;36m<module>\u001b[0;34m()\u001b[0m\n\u001b[1;32m      4\u001b[0m \u001b[0;34m\u001b[0m\u001b[0m\n\u001b[1;32m      5\u001b[0m \u001b[0mepochs\u001b[0m \u001b[0;34m=\u001b[0m \u001b[0mlist\u001b[0m\u001b[0;34m(\u001b[0m\u001b[0mrange\u001b[0m\u001b[0;34m(\u001b[0m\u001b[0;36m1\u001b[0m\u001b[0;34m,\u001b[0m\u001b[0;36m101\u001b[0m\u001b[0;34m)\u001b[0m\u001b[0;34m)\u001b[0m\u001b[0;34m\u001b[0m\u001b[0;34m\u001b[0m\u001b[0m\n\u001b[0;32m----> 6\u001b[0;31m \u001b[0max1\u001b[0m\u001b[0;34m.\u001b[0m\u001b[0mplot\u001b[0m\u001b[0;34m(\u001b[0m\u001b[0mepochs\u001b[0m\u001b[0;34m,\u001b[0m \u001b[0mhistory\u001b[0m\u001b[0;34m.\u001b[0m\u001b[0mhistory\u001b[0m\u001b[0;34m[\u001b[0m\u001b[0;34m'accuracy'\u001b[0m\u001b[0;34m]\u001b[0m\u001b[0;34m,\u001b[0m \u001b[0mlabel\u001b[0m\u001b[0;34m=\u001b[0m\u001b[0;34m'Train Accuracy'\u001b[0m\u001b[0;34m)\u001b[0m\u001b[0;34m\u001b[0m\u001b[0;34m\u001b[0m\u001b[0m\n\u001b[0m\u001b[1;32m      7\u001b[0m \u001b[0max1\u001b[0m\u001b[0;34m.\u001b[0m\u001b[0mplot\u001b[0m\u001b[0;34m(\u001b[0m\u001b[0mepochs\u001b[0m\u001b[0;34m,\u001b[0m \u001b[0mhistory\u001b[0m\u001b[0;34m.\u001b[0m\u001b[0mhistory\u001b[0m\u001b[0;34m[\u001b[0m\u001b[0;34m'val_accuracy'\u001b[0m\u001b[0;34m]\u001b[0m\u001b[0;34m,\u001b[0m \u001b[0mlabel\u001b[0m\u001b[0;34m=\u001b[0m\u001b[0;34m'Validation Accuracy'\u001b[0m\u001b[0;34m)\u001b[0m\u001b[0;34m\u001b[0m\u001b[0;34m\u001b[0m\u001b[0m\n\u001b[1;32m      8\u001b[0m \u001b[0max1\u001b[0m\u001b[0;34m.\u001b[0m\u001b[0mset_xticks\u001b[0m\u001b[0;34m(\u001b[0m\u001b[0mepochs\u001b[0m\u001b[0;34m)\u001b[0m\u001b[0;34m\u001b[0m\u001b[0;34m\u001b[0m\u001b[0m\n",
            "\u001b[0;31mNameError\u001b[0m: name 'history' is not defined"
          ]
        },
        {
          "output_type": "display_data",
          "data": {
            "text/plain": [
              "<Figure size 7200x360 with 2 Axes>"
            ],
            "image/png": "[encoded data removed]"
          },
          "metadata": {
            "needs_background": "light"
          }
        }
      ],
      "source": [
        "f, (ax1, ax2) = plt.subplots(1, 2, figsize=(100, 5))\n",
        "t = f.suptitle('Deep Neural Net Performance', fontsize=12)\n",
        "f.subplots_adjust(top=0.85, wspace=0.7)\n",
        "\n",
        "epochs = list(range(1,101))\n",
        "ax1.plot(epochs, history.history['accuracy'], label='Train Accuracy')\n",
        "ax1.plot(epochs, history.history['val_accuracy'], label='Validation Accuracy')\n",
        "ax1.set_xticks(epochs)\n",
        "ax1.set_ylabel('Accuracy Value')\n",
        "ax1.set_xlabel('Epoch')\n",
        "ax1.set_title('Accuracy')\n",
        "l1 = ax1.legend(loc=\"best\")\n",
        "\n",
        "ax2.plot(epochs, history.history['loss'], label='Train Loss')\n",
        "ax2.plot(epochs, history.history['val_loss'], label='Validation Loss')\n",
        "ax2.set_xticks(epochs)\n",
        "ax2.set_ylabel('Loss Value')\n",
        "ax2.set_xlabel('Epoch')\n",
        "ax2.set_title('Loss')\n",
        "l2 = ax2.legend(loc=\"best\")"
      ]
    },
    {
      "cell_type": "code",
      "source": [
        "import keras\n",
        "model = keras.models.load_model('/content/dog_breed/dog_breed_vgg16/dog_breed_vgg16.hdf5')"
      ],
      "metadata": {
        "id": "iWRmB4t1Oke6"
      },
      "id": "iWRmB4t1Oke6",
      "execution_count": 45,
      "outputs": []
    },
    {
      "cell_type": "markdown",
      "source": [
        "# 39. scaling test features for testing"
      ],
      "metadata": {
        "id": "dZ1EtI4E5d0W"
      },
      "id": "dZ1EtI4E5d0W"
    },
    {
      "cell_type": "code",
      "execution_count": 46,
      "id": "6fe2e20a",
      "metadata": {
        "id": "6fe2e20a"
      },
      "outputs": [],
      "source": [
        "\n",
        "x_test /= 255."
      ]
    },
    {
      "cell_type": "markdown",
      "source": [
        "#40. call model for predictions"
      ],
      "metadata": {
        "id": "Bw6PIm6i58uo"
      },
      "id": "Bw6PIm6i58uo"
    },
    {
      "cell_type": "code",
      "execution_count": 47,
      "id": "8206c6d6",
      "metadata": {
        "id": "8206c6d6",
        "outputId": "e55e1fa8-9ddf-4ac4-c7b7-53a24d60c5a9",
        "colab": {
          "base_uri": "https://localhost:8080/"
        }
      },
      "outputs": [
        {
          "output_type": "execute_result",
          "data": {
            "text/plain": [
              "array([[5.6455652e-03, 5.1468229e-05, 1.9872030e-02, ..., 1.8201111e-03,\n",
              "        7.0863974e-04, 1.6345000e-02],\n",
              "       [5.6446628e-03, 5.1467559e-05, 1.9874653e-02, ..., 1.8209687e-03,\n",
              "        7.0879044e-04, 1.6345426e-02],\n",
              "       [5.6456323e-03, 5.1466996e-05, 1.9871894e-02, ..., 1.8201040e-03,\n",
              "        7.0863531e-04, 1.6344523e-02],\n",
              "       ...,\n",
              "       [5.6452793e-03, 5.1466955e-05, 1.9872140e-02, ..., 1.8202136e-03,\n",
              "        7.0865505e-04, 1.6344402e-02],\n",
              "       [5.6452379e-03, 5.1467036e-05, 1.9872962e-02, ..., 1.8203136e-03,\n",
              "        7.0867437e-04, 1.6344817e-02],\n",
              "       [5.6447615e-03, 5.1466490e-05, 1.9874142e-02, ..., 1.8206164e-03,\n",
              "        7.0871279e-04, 1.6344842e-02]], dtype=float32)"
            ]
          },
          "metadata": {},
          "execution_count": 47
        }
      ],
      "source": [
        "test_predictions = model.predict(x_test)\n",
        "test_predictions"
      ]
    },
    {
      "cell_type": "markdown",
      "source": [
        "#41. display prediction corresponding to class label "
      ],
      "metadata": {
        "id": "Nbo5Ch3O6EoG"
      },
      "id": "Nbo5Ch3O6EoG"
    },
    {
      "cell_type": "code",
      "execution_count": 48,
      "id": "4bc3a673",
      "metadata": {
        "id": "4bc3a673",
        "outputId": "4564792d-a2e6-452d-845a-3adb894f46ab",
        "colab": {
          "base_uri": "https://localhost:8080/",
          "height": 314
        }
      },
      "outputs": [
        {
          "output_type": "execute_result",
          "data": {
            "text/plain": [
              "   affenpinscher  afghan_hound  african_hunting_dog  airedale  \\\n",
              "0       0.005646      0.000051             0.019872  0.000792   \n",
              "1       0.005645      0.000051             0.019875  0.000791   \n",
              "2       0.005646      0.000051             0.019872  0.000792   \n",
              "3       0.005646      0.000051             0.019871  0.000792   \n",
              "4       0.005645      0.000051             0.019873  0.000791   \n",
              "\n",
              "   american_staffordshire_terrier  appenzeller  australian_terrier   basenji  \\\n",
              "0                        0.000013     0.002010            0.001562  0.000104   \n",
              "1                        0.000013     0.002011            0.001562  0.000104   \n",
              "2                        0.000013     0.002010            0.001562  0.000104   \n",
              "3                        0.000013     0.002010            0.001562  0.000104   \n",
              "4                        0.000013     0.002011            0.001562  0.000104   \n",
              "\n",
              "     basset    beagle  ...  toy_poodle  toy_terrier    vizsla  walker_hound  \\\n",
              "0  0.000328  0.001644  ...     0.00633     0.001370  0.000854      0.000002   \n",
              "1  0.000328  0.001645  ...     0.00633     0.001371  0.000855      0.000002   \n",
              "2  0.000328  0.001644  ...     0.00633     0.001370  0.000854      0.000002   \n",
              "3  0.000328  0.001644  ...     0.00633     0.001370  0.000854      0.000002   \n",
              "4  0.000328  0.001644  ...     0.00633     0.001370  0.000855      0.000002   \n",
              "\n",
              "   weimaraner  welsh_springer_spaniel  west_highland_white_terrier   whippet  \\\n",
              "0    0.000816                0.000871                     0.035222  0.001820   \n",
              "1    0.000816                0.000871                     0.035227  0.001821   \n",
              "2    0.000816                0.000871                     0.035221  0.001820   \n",
              "3    0.000816                0.000871                     0.035220  0.001820   \n",
              "4    0.000816                0.000871                     0.035221  0.001820   \n",
              "\n",
              "   wire-haired_fox_terrier  yorkshire_terrier  \n",
              "0                 0.000709           0.016345  \n",
              "1                 0.000709           0.016345  \n",
              "2                 0.000709           0.016345  \n",
              "3                 0.000709           0.016345  \n",
              "4                 0.000709           0.016344  \n",
              "\n",
              "[5 rows x 120 columns]"
            ],
            "text/html": [
              "\n",
              "  <div id=\"df-bae1209c-7a29-4356-8cbd-d30002b7c78f\">\n",
              "    <div class=\"colab-df-container\">\n",
              "      <div>\n",
              "<style scoped>\n",
              "    .dataframe tbody tr th:only-of-type {\n",
              "        vertical-align: middle;\n",
              "    }\n",
              "\n",
              "    .dataframe tbody tr th {\n",
              "        vertical-align: top;\n",
              "    }\n",
              "\n",
              "    .dataframe thead th {\n",
              "        text-align: right;\n",
              "    }\n",
              "</style>\n",
              "<table border=\"1\" class=\"dataframe\">\n",
              "  <thead>\n",
              "    <tr style=\"text-align: right;\">\n",
              "      <th></th>\n",
              "      <th>affenpinscher</th>\n",
              "      <th>afghan_hound</th>\n",
              "      <th>african_hunting_dog</th>\n",
              "      <th>airedale</th>\n",
              "      <th>american_staffordshire_terrier</th>\n",
              "      <th>appenzeller</th>\n",
              "      <th>australian_terrier</th>\n",
              "      <th>basenji</th>\n",
              "      <th>basset</th>\n",
              "      <th>beagle</th>\n",
              "      <th>...</th>\n",
              "      <th>toy_poodle</th>\n",
              "      <th>toy_terrier</th>\n",
              "      <th>vizsla</th>\n",
              "      <th>walker_hound</th>\n",
              "      <th>weimaraner</th>\n",
              "      <th>welsh_springer_spaniel</th>\n",
              "      <th>west_highland_white_terrier</th>\n",
              "      <th>whippet</th>\n",
              "      <th>wire-haired_fox_terrier</th>\n",
              "      <th>yorkshire_terrier</th>\n",
              "    </tr>\n",
              "  </thead>\n",
              "  <tbody>\n",
              "    <tr>\n",
              "      <th>0</th>\n",
              "      <td>0.005646</td>\n",
              "      <td>0.000051</td>\n",
              "      <td>0.019872</td>\n",
              "      <td>0.000792</td>\n",
              "      <td>0.000013</td>\n",
              "      <td>0.002010</td>\n",
              "      <td>0.001562</td>\n",
              "      <td>0.000104</td>\n",
              "      <td>0.000328</td>\n",
              "      <td>0.001644</td>\n",
              "      <td>...</td>\n",
              "      <td>0.00633</td>\n",
              "      <td>0.001370</td>\n",
              "      <td>0.000854</td>\n",
              "      <td>0.000002</td>\n",
              "      <td>0.000816</td>\n",
              "      <td>0.000871</td>\n",
              "      <td>0.035222</td>\n",
              "      <td>0.001820</td>\n",
              "      <td>0.000709</td>\n",
              "      <td>0.016345</td>\n",
              "    </tr>\n",
              "    <tr>\n",
              "      <th>1</th>\n",
              "      <td>0.005645</td>\n",
              "      <td>0.000051</td>\n",
              "      <td>0.019875</td>\n",
              "      <td>0.000791</td>\n",
              "      <td>0.000013</td>\n",
              "      <td>0.002011</td>\n",
              "      <td>0.001562</td>\n",
              "      <td>0.000104</td>\n",
              "      <td>0.000328</td>\n",
              "      <td>0.001645</td>\n",
              "      <td>...</td>\n",
              "      <td>0.00633</td>\n",
              "      <td>0.001371</td>\n",
              "      <td>0.000855</td>\n",
              "      <td>0.000002</td>\n",
              "      <td>0.000816</td>\n",
              "      <td>0.000871</td>\n",
              "      <td>0.035227</td>\n",
              "      <td>0.001821</td>\n",
              "      <td>0.000709</td>\n",
              "      <td>0.016345</td>\n",
              "    </tr>\n",
              "    <tr>\n",
              "      <th>2</th>\n",
              "      <td>0.005646</td>\n",
              "      <td>0.000051</td>\n",
              "      <td>0.019872</td>\n",
              "      <td>0.000792</td>\n",
              "      <td>0.000013</td>\n",
              "      <td>0.002010</td>\n",
              "      <td>0.001562</td>\n",
              "      <td>0.000104</td>\n",
              "      <td>0.000328</td>\n",
              "      <td>0.001644</td>\n",
              "      <td>...</td>\n",
              "      <td>0.00633</td>\n",
              "      <td>0.001370</td>\n",
              "      <td>0.000854</td>\n",
              "      <td>0.000002</td>\n",
              "      <td>0.000816</td>\n",
              "      <td>0.000871</td>\n",
              "      <td>0.035221</td>\n",
              "      <td>0.001820</td>\n",
              "      <td>0.000709</td>\n",
              "      <td>0.016345</td>\n",
              "    </tr>\n",
              "    <tr>\n",
              "      <th>3</th>\n",
              "      <td>0.005646</td>\n",
              "      <td>0.000051</td>\n",
              "      <td>0.019871</td>\n",
              "      <td>0.000792</td>\n",
              "      <td>0.000013</td>\n",
              "      <td>0.002010</td>\n",
              "      <td>0.001562</td>\n",
              "      <td>0.000104</td>\n",
              "      <td>0.000328</td>\n",
              "      <td>0.001644</td>\n",
              "      <td>...</td>\n",
              "      <td>0.00633</td>\n",
              "      <td>0.001370</td>\n",
              "      <td>0.000854</td>\n",
              "      <td>0.000002</td>\n",
              "      <td>0.000816</td>\n",
              "      <td>0.000871</td>\n",
              "      <td>0.035220</td>\n",
              "      <td>0.001820</td>\n",
              "      <td>0.000709</td>\n",
              "      <td>0.016345</td>\n",
              "    </tr>\n",
              "    <tr>\n",
              "      <th>4</th>\n",
              "      <td>0.005645</td>\n",
              "      <td>0.000051</td>\n",
              "      <td>0.019873</td>\n",
              "      <td>0.000791</td>\n",
              "      <td>0.000013</td>\n",
              "      <td>0.002011</td>\n",
              "      <td>0.001562</td>\n",
              "      <td>0.000104</td>\n",
              "      <td>0.000328</td>\n",
              "      <td>0.001644</td>\n",
              "      <td>...</td>\n",
              "      <td>0.00633</td>\n",
              "      <td>0.001370</td>\n",
              "      <td>0.000855</td>\n",
              "      <td>0.000002</td>\n",
              "      <td>0.000816</td>\n",
              "      <td>0.000871</td>\n",
              "      <td>0.035221</td>\n",
              "      <td>0.001820</td>\n",
              "      <td>0.000709</td>\n",
              "      <td>0.016344</td>\n",
              "    </tr>\n",
              "  </tbody>\n",
              "</table>\n",
              "<p>5 rows × 120 columns</p>\n",
              "</div>\n",
              "      <button class=\"colab-df-convert\" onclick=\"convertToInteractive('df-bae1209c-7a29-4356-8cbd-d30002b7c78f')\"\n",
              "              title=\"Convert this dataframe to an interactive table.\"\n",
              "              style=\"display:none;\">\n",
              "        \n",
              "  <svg xmlns=\"http://www.w3.org/2000/svg\" height=\"24px\"viewBox=\"0 0 24 24\"\n",
              "       width=\"24px\">\n",
              "    <path d=\"M0 0h24v24H0V0z\" fill=\"none\"/>\n",
              "    <path d=\"M18.56 5.44l.94 2.06.94-2.06 2.06-.94-2.06-.94-.94-2.06-.94 2.06-2.06.94zm-11 1L8.5 8.5l.94-2.06 2.06-.94-2.06-.94L8.5 2.5l-.94 2.06-2.06.94zm10 10l.94 2.06.94-2.06 2.06-.94-2.06-.94-.94-2.06-.94 2.06-2.06.94z\"/><path d=\"M17.41 7.96l-1.37-1.37c-.4-.4-.92-.59-1.43-.59-.52 0-1.04.2-1.43.59L10.3 9.45l-7.72 7.72c-.78.78-.78 2.05 0 2.83L4 21.41c.39.39.9.59 1.41.59.51 0 1.02-.2 1.41-.59l7.78-7.78 2.81-2.81c.8-.78.8-2.07 0-2.86zM5.41 20L4 18.59l7.72-7.72 1.47 1.35L5.41 20z\"/>\n",
              "  </svg>\n",
              "      </button>\n",
              "      \n",
              "  <style>\n",
              "    .colab-df-container {\n",
              "      display:flex;\n",
              "      flex-wrap:wrap;\n",
              "      gap: 12px;\n",
              "    }\n",
              "\n",
              "    .colab-df-convert {\n",
              "      background-color: #E8F0FE;\n",
              "      border: none;\n",
              "      border-radius: 50%;\n",
              "      cursor: pointer;\n",
              "      display: none;\n",
              "      fill: #1967D2;\n",
              "      height: 32px;\n",
              "      padding: 0 0 0 0;\n",
              "      width: 32px;\n",
              "    }\n",
              "\n",
              "    .colab-df-convert:hover {\n",
              "      background-color: #E2EBFA;\n",
              "      box-shadow: 0px 1px 2px rgba(60, 64, 67, 0.3), 0px 1px 3px 1px rgba(60, 64, 67, 0.15);\n",
              "      fill: #174EA6;\n",
              "    }\n",
              "\n",
              "    [theme=dark] .colab-df-convert {\n",
              "      background-color: #3B4455;\n",
              "      fill: #D2E3FC;\n",
              "    }\n",
              "\n",
              "    [theme=dark] .colab-df-convert:hover {\n",
              "      background-color: #434B5C;\n",
              "      box-shadow: 0px 1px 3px 1px rgba(0, 0, 0, 0.15);\n",
              "      filter: drop-shadow(0px 1px 2px rgba(0, 0, 0, 0.3));\n",
              "      fill: #FFFFFF;\n",
              "    }\n",
              "  </style>\n",
              "\n",
              "      <script>\n",
              "        const buttonEl =\n",
              "          document.querySelector('#df-bae1209c-7a29-4356-8cbd-d30002b7c78f button.colab-df-convert');\n",
              "        buttonEl.style.display =\n",
              "          google.colab.kernel.accessAllowed ? 'block' : 'none';\n",
              "\n",
              "        async function convertToInteractive(key) {\n",
              "          const element = document.querySelector('#df-bae1209c-7a29-4356-8cbd-d30002b7c78f');\n",
              "          const dataTable =\n",
              "            await google.colab.kernel.invokeFunction('convertToInteractive',\n",
              "                                                     [key], {});\n",
              "          if (!dataTable) return;\n",
              "\n",
              "          const docLinkHtml = 'Like what you see? Visit the ' +\n",
              "            '<a target=\"_blank\" href=https://colab.research.google.com/notebooks/data_table.ipynb>data table notebook</a>'\n",
              "            + ' to learn more about interactive tables.';\n",
              "          element.innerHTML = '';\n",
              "          dataTable['output_type'] = 'display_data';\n",
              "          await google.colab.output.renderOutput(dataTable, element);\n",
              "          const docLink = document.createElement('div');\n",
              "          docLink.innerHTML = docLinkHtml;\n",
              "          element.appendChild(docLink);\n",
              "        }\n",
              "      </script>\n",
              "    </div>\n",
              "  </div>\n",
              "  "
            ]
          },
          "metadata": {},
          "execution_count": 48
        }
      ],
      "source": [
        "predictions = pd.DataFrame(test_predictions, columns=labels_ohe_names.columns)\n",
        "predictions.head()"
      ]
    },
    {
      "cell_type": "markdown",
      "source": [
        "#42. Display predictions for first 10 test values"
      ],
      "metadata": {
        "id": "0tUaOVVd6U-X"
      },
      "id": "0tUaOVVd6U-X"
    },
    {
      "cell_type": "code",
      "execution_count": 49,
      "id": "90ca9226",
      "metadata": {
        "id": "90ca9226",
        "outputId": "45ab12a2-c199-488a-e3f2-4d22f01297ef",
        "colab": {
          "base_uri": "https://localhost:8080/"
        }
      },
      "outputs": [
        {
          "output_type": "execute_result",
          "data": {
            "text/plain": [
              "['gordon_setter',\n",
              " 'gordon_setter',\n",
              " 'gordon_setter',\n",
              " 'gordon_setter',\n",
              " 'gordon_setter',\n",
              " 'gordon_setter',\n",
              " 'gordon_setter',\n",
              " 'gordon_setter',\n",
              " 'gordon_setter',\n",
              " 'gordon_setter']"
            ]
          },
          "metadata": {},
          "execution_count": 49
        }
      ],
      "source": [
        "test_labels = list(y_test)\n",
        "predictions = list(predictions.idxmax(axis=1))\n",
        "predictions[:10]"
      ]
    },
    {
      "cell_type": "markdown",
      "source": [
        "#43. calculate the accuracy of whole test data"
      ],
      "metadata": {
        "id": "COzbja2Z6c0g"
      },
      "id": "COzbja2Z6c0g"
    },
    {
      "cell_type": "code",
      "execution_count": 50,
      "id": "c0d41d9b",
      "metadata": {
        "id": "c0d41d9b"
      },
      "outputs": [],
      "source": [
        "#Making prediction\n",
        "y_pred=model.predict(x_test)\n",
        "y_true=np.argmax(y_test_ohe,axis=1)"
      ]
    },
    {
      "cell_type": "markdown",
      "source": [
        "44. Evaluate the model"
      ],
      "metadata": {
        "id": "gmbaZ5_56iXG"
      },
      "id": "gmbaZ5_56iXG"
    },
    {
      "cell_type": "code",
      "execution_count": 51,
      "id": "aabcf50d",
      "metadata": {
        "id": "aabcf50d"
      },
      "outputs": [],
      "source": [
        "loss, accuracy = model.evaluate(x_test, y_test_ohe, verbose=0)"
      ]
    },
    {
      "cell_type": "markdown",
      "source": [
        "#45. print the results"
      ],
      "metadata": {
        "id": "lnGDybY06n7Y"
      },
      "id": "lnGDybY06n7Y"
    },
    {
      "cell_type": "code",
      "execution_count": 52,
      "id": "b9b451c5",
      "metadata": {
        "id": "b9b451c5",
        "outputId": "46e2ee75-a15b-4008-b3af-63e95f97dec0",
        "colab": {
          "base_uri": "https://localhost:8080/"
        }
      },
      "outputs": [
        {
          "output_type": "stream",
          "name": "stdout",
          "text": [
            "6.635364055633545\n",
            "0.009999999776482582\n"
          ]
        }
      ],
      "source": [
        "print(loss)\n",
        "print(accuracy)"
      ]
    },
    {
      "cell_type": "markdown",
      "source": [
        "#46. print the classification report"
      ],
      "metadata": {
        "id": "vQzwc8FR6rdu"
      },
      "id": "vQzwc8FR6rdu"
    },
    {
      "cell_type": "code",
      "execution_count": 53,
      "id": "4ae16c9f",
      "metadata": {
        "id": "4ae16c9f",
        "outputId": "07bb69ca-613d-4df3-ba37-13e207427c97",
        "colab": {
          "base_uri": "https://localhost:8080/"
        }
      },
      "outputs": [
        {
          "output_type": "stream",
          "name": "stdout",
          "text": [
            "10/10 [==============================] - 8s 297ms/step\n",
            "              precision    recall  f1-score   support\n",
            "\n",
            "           0       0.00      0.00      0.00         5\n",
            "           1       0.00      0.00      0.00         6\n",
            "           2       0.00      0.00      0.00         4\n",
            "           3       0.00      0.00      0.00         7\n",
            "           4       0.00      0.00      0.00         4\n",
            "           5       0.00      0.00      0.00         5\n",
            "           6       0.00      0.00      0.00         6\n",
            "           7       0.00      0.00      0.00         7\n",
            "           8       0.00      0.00      0.00         5\n",
            "           9       0.00      0.00      0.00         5\n",
            "          10       0.00      0.00      0.00         8\n",
            "          11       0.00      0.00      0.00         8\n",
            "          12       0.00      0.00      0.00         4\n",
            "          13       0.00      0.00      0.00         7\n",
            "          14       0.00      0.00      0.00         7\n",
            "          15       0.00      0.00      0.00         5\n",
            "          16       0.00      0.00      0.00         4\n",
            "          17       0.00      0.00      0.00         6\n",
            "          18       0.00      0.00      0.00         4\n",
            "          19       0.00      0.00      0.00         6\n",
            "          20       0.00      0.00      0.00         5\n",
            "          21       0.00      0.00      0.00         5\n",
            "          22       0.00      0.00      0.00         3\n",
            "          23       0.00      0.00      0.00         2\n",
            "          24       0.00      0.00      0.00         4\n",
            "          25       0.00      0.00      0.00         5\n",
            "          26       0.00      0.00      0.00         5\n",
            "          27       0.00      0.00      0.00         5\n",
            "          28       0.00      0.00      0.00         6\n",
            "          29       0.00      0.00      0.00         5\n",
            "          30       0.00      0.00      0.00         7\n",
            "          31       0.00      0.00      0.00         5\n",
            "          32       0.00      0.00      0.00         5\n",
            "          33       0.00      0.00      0.00         6\n",
            "          34       0.00      0.00      0.00         4\n",
            "          35       0.00      0.00      0.00         5\n",
            "          36       0.00      0.00      0.00         6\n",
            "          37       0.00      0.00      0.00         4\n",
            "          38       0.00      0.00      0.00         3\n",
            "          39       0.00      0.00      0.00         6\n",
            "          40       0.00      0.00      0.00         5\n",
            "          41       0.00      0.00      0.00         4\n",
            "          42       0.00      0.00      0.00         5\n",
            "          43       0.00      0.00      0.00         4\n",
            "          44       0.00      0.00      0.00         4\n",
            "          45       0.00      0.00      0.00         4\n",
            "          46       0.00      0.00      0.00         3\n",
            "          47       0.00      0.00      0.00         4\n",
            "          48       0.00      0.00      0.00         6\n",
            "          49       0.00      0.00      0.00         5\n",
            "          50       0.01      1.00      0.02         6\n",
            "          51       0.00      0.00      0.00         3\n",
            "          52       0.00      0.00      0.00         5\n",
            "          53       0.00      0.00      0.00         4\n",
            "          54       0.00      0.00      0.00         5\n",
            "          55       0.00      0.00      0.00         4\n",
            "          56       0.00      0.00      0.00         6\n",
            "          57       0.00      0.00      0.00         5\n",
            "          58       0.00      0.00      0.00         4\n",
            "          59       0.00      0.00      0.00         5\n",
            "          60       0.00      0.00      0.00         6\n",
            "          61       0.00      0.00      0.00         5\n",
            "          62       0.00      0.00      0.00         4\n",
            "          63       0.00      0.00      0.00         5\n",
            "          64       0.00      0.00      0.00         4\n",
            "          65       0.00      0.00      0.00         4\n",
            "          66       0.00      0.00      0.00         4\n",
            "          67       0.00      0.00      0.00         5\n",
            "          68       0.00      0.00      0.00         8\n",
            "          69       0.00      0.00      0.00         5\n",
            "          70       0.00      0.00      0.00         6\n",
            "          71       0.00      0.00      0.00         6\n",
            "          72       0.00      0.00      0.00         4\n",
            "          73       0.00      0.00      0.00         6\n",
            "          74       0.00      0.00      0.00         4\n",
            "          75       0.00      0.00      0.00         5\n",
            "          76       0.00      0.00      0.00         4\n",
            "          77       0.00      0.00      0.00         4\n",
            "          78       0.00      0.00      0.00         5\n",
            "          79       0.00      0.00      0.00         5\n",
            "          80       0.00      0.00      0.00         6\n",
            "          81       0.00      0.00      0.00         5\n",
            "          82       0.00      0.00      0.00         6\n",
            "          83       0.00      0.00      0.00         4\n",
            "          84       0.00      0.00      0.00         5\n",
            "          85       0.00      0.00      0.00         4\n",
            "          86       0.00      0.00      0.00         5\n",
            "          87       0.00      0.00      0.00         4\n",
            "          88       0.00      0.00      0.00         7\n",
            "          89       0.00      0.00      0.00         5\n",
            "          90       0.00      0.00      0.00         6\n",
            "          91       0.00      0.00      0.00         4\n",
            "          92       0.00      0.00      0.00         3\n",
            "          93       0.00      0.00      0.00         7\n",
            "          94       0.00      0.00      0.00         7\n",
            "          95       0.00      0.00      0.00         5\n",
            "          96       0.00      0.00      0.00         4\n",
            "          97       0.00      0.00      0.00         7\n",
            "          98       0.00      0.00      0.00         4\n",
            "          99       0.00      0.00      0.00         5\n",
            "         100       0.00      0.00      0.00         6\n",
            "         101       0.00      0.00      0.00         5\n",
            "         102       0.00      0.00      0.00         7\n",
            "         103       0.00      0.00      0.00         2\n",
            "         104       0.00      0.00      0.00         4\n",
            "         105       0.00      0.00      0.00         5\n",
            "         106       0.00      0.00      0.00         5\n",
            "         107       0.00      0.00      0.00         4\n",
            "         108       0.00      0.00      0.00         4\n",
            "         109       0.00      0.00      0.00         5\n",
            "         110       0.00      0.00      0.00         7\n",
            "         111       0.00      0.00      0.00         5\n",
            "         112       0.00      0.00      0.00         4\n",
            "         113       0.00      0.00      0.00         5\n",
            "         114       0.00      0.00      0.00         4\n",
            "         115       0.00      0.00      0.00         6\n",
            "         116       0.00      0.00      0.00         5\n",
            "         117       0.00      0.00      0.00         7\n",
            "         118       0.00      0.00      0.00         3\n",
            "         119       0.00      0.00      0.00         5\n",
            "\n",
            "    accuracy                           0.01       600\n",
            "   macro avg       0.00      0.01      0.00       600\n",
            "weighted avg       0.00      0.01      0.00       600\n",
            "\n"
          ]
        }
      ],
      "source": [
        "from sklearn.metrics import classification_report\n",
        "\n",
        "y_pred = model.predict(x_test, batch_size=64, verbose=1)\n",
        "y_pred_bool = np.argmax(y_pred, axis=1)\n",
        "#target_names=['class 0', 'class 1', 'class 2','class 3','class 4']\n",
        "#print(classification_report(y_true, y_pred_bool, target_names=target_names))\n",
        "print(classification_report(y_true, y_pred_bool))"
      ]
    }
  ],
  "metadata": {
    "kernelspec": {
      "display_name": "Python 3",
      "language": "python",
      "name": "python3"
    },
    "language_info": {
      "codemirror_mode": {
        "name": "ipython",
        "version": 3
      },
      "file_extension": ".py",
      "mimetype": "text/x-python",
      "name": "python",
      "nbconvert_exporter": "python",
      "pygments_lexer": "ipython3",
      "version": "3.6.8"
    },
    "colab": {
      "name": "dog_breed_vgg16.ipynb",
      "provenance": [],
      "include_colab_link": true
    },
    "accelerator": "GPU",
    "gpuClass": "standard"
  },
  "nbformat": 4,
  "nbformat_minor": 5
}